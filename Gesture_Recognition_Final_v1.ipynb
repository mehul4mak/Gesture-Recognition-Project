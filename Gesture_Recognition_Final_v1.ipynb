{
 "cells": [
  {
   "cell_type": "markdown",
   "metadata": {
    "id": "qhuua1NKBzZF"
   },
   "source": [
    "# <font color='Green'> Gesture Recognition\n",
    "\n",
    "\n",
    "### Problem Statement\n",
    "Imagine you are working as a data scientist at a home electronics company which manufactures state of the art smart televisions. You want to develop a cool feature in the smart-TV that can recognise five different gestures performed by the user which will help users control the TV without using a remote.\n",
    "\n",
    "The gestures are continuously monitored by the webcam mounted on the TV. Each gesture corresponds to a specific command:\n",
    " \n",
    "| Gesture | Corresponding Action |\n",
    "| --- | --- | \n",
    "| Thumbs Up | Increase the volume. |\n",
    "| Thumbs Down | Decrease the volume. |\n",
    "| Left Swipe | 'Jump' backwards 10 seconds. |\n",
    "| Right Swipe | 'Jump' forward 10 seconds. |\n",
    "| Stop | Pause the movie. |\n",
    "\n",
    "Each video is a sequence of 30 frames (or images).\n",
    "\n",
    "### Objectives:\n",
    "1. **Generator**:  The generator should be able to take a batch of videos as input without any error. Steps like cropping, resizing and normalization should be performed successfully.\n",
    "\n",
    "2. **Model**: Develop a model that is able to train without any errors which will be judged on the total number of parameters (as the inference(prediction) time should be less) and the accuracy achieved. As suggested by Snehansu, start training on a small amount of data and then proceed further.\n",
    "\n",
    "3. **Write up**: This should contain the detailed procedure followed in choosing the final model. The write up should start with the reason for choosing the base model, then highlight the reasons and metrics taken into consideration to modify and experiment to arrive at the final model. \n",
    "In this group project, we are going to build a CNN+RNN and 3D Conv model that will be able to predict the 5 gestures correctly. Please import the following libraries to get started."
   ]
  },
  {
   "cell_type": "code",
   "execution_count": null,
   "metadata": {
    "colab": {
     "base_uri": "https://localhost:8080/"
    },
    "executionInfo": {
     "elapsed": 38,
     "status": "ok",
     "timestamp": 1640665783286,
     "user": {
      "displayName": "Mehul Kumawat",
      "photoUrl": "https://lh3.googleusercontent.com/a/default-user=s64",
      "userId": "14358707599276366243"
     },
     "user_tz": -330
    },
    "id": "cDKcwSP9B9wt",
    "outputId": "ffd954de-41a7-45d1-dcb3-785628dd85d1"
   },
   "outputs": [
    {
     "name": "stdout",
     "output_type": "stream",
     "text": [
      "Tue Dec 28 04:29:42 2021       \n",
      "+-----------------------------------------------------------------------------+\n",
      "| NVIDIA-SMI 495.44       Driver Version: 460.32.03    CUDA Version: 11.2     |\n",
      "|-------------------------------+----------------------+----------------------+\n",
      "| GPU  Name        Persistence-M| Bus-Id        Disp.A | Volatile Uncorr. ECC |\n",
      "| Fan  Temp  Perf  Pwr:Usage/Cap|         Memory-Usage | GPU-Util  Compute M. |\n",
      "|                               |                      |               MIG M. |\n",
      "|===============================+======================+======================|\n",
      "|   0  Tesla P100-PCIE...  Off  | 00000000:00:04.0 Off |                    0 |\n",
      "| N/A   33C    P0    27W / 250W |      0MiB / 16280MiB |      0%      Default |\n",
      "|                               |                      |                  N/A |\n",
      "+-------------------------------+----------------------+----------------------+\n",
      "                                                                               \n",
      "+-----------------------------------------------------------------------------+\n",
      "| Processes:                                                                  |\n",
      "|  GPU   GI   CI        PID   Type   Process name                  GPU Memory |\n",
      "|        ID   ID                                                   Usage      |\n",
      "|=============================================================================|\n",
      "|  No running processes found                                                 |\n",
      "+-----------------------------------------------------------------------------+\n"
     ]
    }
   ],
   "source": [
    "## Checking the GPU configuration\n",
    "\n",
    "!nvidia-smi"
   ]
  },
  {
   "cell_type": "code",
   "execution_count": null,
   "metadata": {
    "collapsed": true,
    "id": "VUXG5PFlBzZO"
   },
   "outputs": [],
   "source": [
    "#import all the relavent libraries\n",
    "import numpy as np\n",
    "import os\n",
    "import cv2\n",
    "import datetime\n",
    "import os\n",
    "import warnings\n",
    "warnings.filterwarnings(\"ignore\")\n",
    "import abc\n",
    "from sys import getsizeof"
   ]
  },
  {
   "cell_type": "markdown",
   "metadata": {
    "id": "5Q5xDXGeBzZZ"
   },
   "source": [
    "We set the random seed so that the results don't vary drastically."
   ]
  },
  {
   "cell_type": "code",
   "execution_count": null,
   "metadata": {
    "id": "sXOLHS1lBzZa"
   },
   "outputs": [],
   "source": [
    "np.random.seed(30)\n",
    "import random as rn\n",
    "rn.seed(30)\n",
    "from keras import backend as K\n",
    "import tensorflow as tf\n",
    "tf.random.set_seed(30)"
   ]
  },
  {
   "cell_type": "code",
   "execution_count": null,
   "metadata": {
    "collapsed": true,
    "id": "RlBTaZByBzZb"
   },
   "outputs": [],
   "source": [
    "import cv2\n",
    "import matplotlib.pyplot as plt\n",
    "% matplotlib inline"
   ]
  },
  {
   "cell_type": "markdown",
   "metadata": {
    "id": "l_z74vK8BzZd"
   },
   "source": [
    "In this block, you read the folder names for training and validation. You also set the `batch_size` here. Note that you set the batch size in such a way that you are able to use the GPU in full capacity. You keep increasing the batch size until the machine throws an error."
   ]
  },
  {
   "cell_type": "code",
   "execution_count": null,
   "metadata": {
    "collapsed": true,
    "id": "Hw8gcSVGBzZd"
   },
   "outputs": [],
   "source": [
    "from keras.models import Sequential, Model\n",
    "from keras.layers import Dense, GRU, Flatten, TimeDistributed, Flatten, BatchNormalization, Activation\n",
    "from keras.layers.convolutional import Conv3D, MaxPooling3D, Conv2D, MaxPooling2D\n",
    "from keras.layers.recurrent import LSTM\n",
    "from keras.callbacks import ModelCheckpoint, ReduceLROnPlateau\n",
    "from keras import optimizers\n",
    "from keras.layers import Dropout"
   ]
  },
  {
   "cell_type": "code",
   "execution_count": null,
   "metadata": {
    "id": "fdejElb5CTen"
   },
   "outputs": [],
   "source": [
    "import os \n",
    "if not os.path.exists('/content/Project_data/'):\n",
    "  os.system('gdown --id 1ehyrYBQ5rbQQe6yL4XbLWe3FMvuVUGiL')\n",
    "  os.system('7z x Project_data.zip')"
   ]
  },
  {
   "cell_type": "code",
   "execution_count": null,
   "metadata": {
    "collapsed": true,
    "id": "UP2gwaFGBzZf"
   },
   "outputs": [],
   "source": [
    "project_folder='/content/Project_data'"
   ]
  },
  {
   "cell_type": "markdown",
   "metadata": {
    "id": "2FyJEmesBzZg"
   },
   "source": [
    "##### Plotting"
   ]
  },
  {
   "cell_type": "code",
   "execution_count": null,
   "metadata": {
    "collapsed": true,
    "id": "mvHe6rp_BzZh"
   },
   "outputs": [],
   "source": [
    "def plot(history):\n",
    "    fig, axes = plt.subplots(nrows=1, ncols=2, figsize=(15,4))\n",
    "    axes[0].plot(history.history['loss'])   \n",
    "    axes[0].plot(history.history['val_loss'])\n",
    "    axes[0].legend(['loss','val_loss'])\n",
    "\n",
    "    axes[1].plot(history.history['categorical_accuracy'])   \n",
    "    axes[1].plot(history.history['val_categorical_accuracy'])\n",
    "    axes[1].legend(['categorical_accuracy','val_categorical_accuracy'])"
   ]
  },
  {
   "cell_type": "code",
   "execution_count": null,
   "metadata": {
    "colab": {
     "base_uri": "https://localhost:8080/"
    },
    "executionInfo": {
     "elapsed": 103892,
     "status": "ok",
     "timestamp": 1640665783281,
     "user": {
      "displayName": "Mehul Kumawat",
      "photoUrl": "https://lh3.googleusercontent.com/a/default-user=s64",
      "userId": "14358707599276366243"
     },
     "user_tz": -330
    },
    "id": "4kBeb86RCma3",
    "outputId": "95f459ea-3c71-4b32-f929-586c43c8a621"
   },
   "outputs": [
    {
     "name": "stdout",
     "output_type": "stream",
     "text": [
      "Mounted at /content/drive\n"
     ]
    }
   ],
   "source": [
    "from google.colab import drive\n",
    "drive.mount('/content/drive')"
   ]
  },
  {
   "cell_type": "markdown",
   "metadata": {
    "id": "kD-71LZiBzZi"
   },
   "source": [
    "## Generator\n",
    "This is one of the most important part of the code. The overall structure of the generator has been given. In the generator, you are going to preprocess the images as you have images of 2 different dimensions as well as create a batch of video frames. You have to experiment with `img_idx`, `y`,`z` and normalization such that you get high accuracy."
   ]
  },
  {
   "cell_type": "code",
   "execution_count": null,
   "metadata": {
    "collapsed": true,
    "id": "BjVIVShqBzZi"
   },
   "outputs": [],
   "source": [
    "class ModelBuilder(metaclass= abc.ABCMeta):\n",
    "    \n",
    "    def initialize_path(self,project_folder):\n",
    "        self.train_doc = np.random.permutation(open(project_folder + '/' + 'train.csv').readlines())\n",
    "        self.val_doc = np.random.permutation(open(project_folder + '/' + 'val.csv').readlines())\n",
    "        self.train_path = project_folder + '/' + 'train'\n",
    "        self.val_path =  project_folder + '/' + 'val'\n",
    "        self.num_train_sequences = len(self.train_doc)\n",
    "        self.num_val_sequences = len(self.val_doc)\n",
    "        \n",
    "    def initialize_image_properties(self,image_height=100,image_width=100):\n",
    "        self.image_height=image_height\n",
    "        self.image_width=image_width\n",
    "        self.channels=3\n",
    "        self.num_classes=5\n",
    "        self.total_frames=30\n",
    "          \n",
    "    def initialize_hyperparams(self,frames_to_sample=30,batch_size=20,num_epochs=20):\n",
    "        self.frames_to_sample=frames_to_sample\n",
    "        self.batch_size=batch_size\n",
    "        self.num_epochs=num_epochs\n",
    "        \n",
    "        \n",
    "    def generator(self,source_path, folder_list, augment=False):\n",
    "        img_idx = np.round(np.linspace(0,self.total_frames-1,self.frames_to_sample)).astype(int)\n",
    "        batch_size=self.batch_size\n",
    "        while True:\n",
    "            t = np.random.permutation(folder_list)\n",
    "            num_batches = len(t)//batch_size\n",
    "        \n",
    "            for batch in range(num_batches): \n",
    "                batch_data, batch_labels= self.one_batch_data(source_path,t,batch,batch_size,img_idx,augment)\n",
    "                yield batch_data, batch_labels \n",
    "\n",
    "            remaining_seq=len(t)%batch_size\n",
    "        \n",
    "            if (remaining_seq != 0):\n",
    "                batch_data, batch_labels= self.one_batch_data(source_path,t,num_batches,batch_size,img_idx,augment,remaining_seq)\n",
    "                yield batch_data, batch_labels \n",
    "    \n",
    "    \n",
    "    def one_batch_data(self,source_path,t,batch,batch_size,img_idx,augment,remaining_seq=0):\n",
    "    \n",
    "        seq_len = remaining_seq if remaining_seq else batch_size\n",
    "    \n",
    "        batch_data = np.zeros((seq_len,len(img_idx),self.image_height,self.image_width,self.channels)) \n",
    "        batch_labels = np.zeros((seq_len,self.num_classes)) \n",
    "    \n",
    "        if (augment): batch_data_aug = np.zeros((seq_len,len(img_idx),self.image_height,self.image_width,self.channels))\n",
    "\n",
    "        \n",
    "        for folder in range(seq_len): \n",
    "            imgs = os.listdir(source_path+'/'+ t[folder + (batch*batch_size)].split(';')[0]) \n",
    "            for idx,item in enumerate(img_idx): \n",
    "                image = cv2.imread(source_path+'/'+ t[folder + (batch*batch_size)].strip().split(';')[0]+'/'+imgs[item]).astype(np.float32)\n",
    "                image_resized=cv2.resize(image, (self.image_height, self.image_width), interpolation=cv2.INTER_AREA)\n",
    "            \n",
    "\n",
    "                batch_data[folder,idx,:,:,0] = (image_resized[:,:,0])/255\n",
    "                batch_data[folder,idx,:,:,1] = (image_resized[:,:,1])/255\n",
    "                batch_data[folder,idx,:,:,2] = (image_resized[:,:,2])/255\n",
    "            \n",
    "                if (augment):\n",
    "                    shifted = cv2.warpAffine(image, \n",
    "                                             np.float32([[1, 0, np.random.randint(-30,30)],[0, 1, np.random.randint(-30,30)]]), \n",
    "                                            (image.shape[1], image.shape[0]))\n",
    "                    \n",
    "                    gray = cv2.cvtColor(shifted,cv2.COLOR_BGR2GRAY)\n",
    "\n",
    "                    x0, y0 = np.argwhere(gray > 0).min(axis=0)\n",
    "                    x1, y1 = np.argwhere(gray > 0).max(axis=0) \n",
    "                    \n",
    "                    cropped=shifted[x0:x1,y0:y1,:]\n",
    "                    \n",
    "                    image_resized=cv2.resize(cropped, (self.image_height, self.image_width), interpolation=cv2.INTER_AREA)\n",
    "                    \n",
    "                    #shifted = cv2.warpAffine(image_resized, \n",
    "                    #                        np.float32([[1, 0, np.random.randint(-3,3)],[0, 1, np.random.randint(-3,3)]]), \n",
    "                    #                        (image_resized.shape[1], image_resized.shape[0]))\n",
    "            \n",
    "                    batch_data_aug[folder,idx,:,:,0] = (image_resized[:,:,0])/255\n",
    "                    batch_data_aug[folder,idx,:,:,1] = (image_resized[:,:,1])/255\n",
    "                    batch_data_aug[folder,idx,:,:,2] = (image_resized[:,:,2])/255\n",
    "                \n",
    "            \n",
    "            batch_labels[folder, int(t[folder + (batch*batch_size)].strip().split(';')[2])] = 1\n",
    "            \n",
    "    \n",
    "        if (augment):\n",
    "            batch_data=np.concatenate([batch_data,batch_data_aug])\n",
    "            batch_labels=np.concatenate([batch_labels,batch_labels])\n",
    "\n",
    "        \n",
    "        return(batch_data,batch_labels)\n",
    "    \n",
    "    \n",
    "    def train_model(self, model, augment_data=False):\n",
    "        train_generator = self.generator(self.train_path, self.train_doc,augment=augment_data)\n",
    "        val_generator = self.generator(self.val_path, self.val_doc)\n",
    "\n",
    "        model_name = 'model_init' + '_' + str(datetime.datetime.now()).replace(' ','').replace(':','_') + '/'\n",
    "    \n",
    "        if not os.path.exists(model_name):\n",
    "            os.mkdir(model_name)\n",
    "        \n",
    "        path_checkpoint='/content/drive/MyDrive/Gesture/Checkpoints/'\n",
    "\n",
    "        filepath = path_checkpoint + model_name + 'model-{epoch:05d}-{loss:.5f}-{categorical_accuracy:.5f}-{val_loss:.5f}-{val_categorical_accuracy:.5f}.h5'\n",
    "\n",
    "        checkpoint = ModelCheckpoint(filepath, monitor='val_loss', verbose=1, save_best_only=False, save_weights_only=False, mode='auto', save_freq='epoch')\n",
    "        LR = ReduceLROnPlateau(monitor='val_loss', factor=0.2, verbose=1, patience=4)\n",
    "        callbacks_list = [checkpoint, LR]\n",
    "\n",
    "        if (self.num_train_sequences%self.batch_size) == 0:\n",
    "            steps_per_epoch = int(self.num_train_sequences/self.batch_size)\n",
    "        else:\n",
    "            steps_per_epoch = (self.num_train_sequences//self.batch_size) + 1\n",
    "\n",
    "        if (self.num_val_sequences%self.batch_size) == 0:\n",
    "            validation_steps = int(self.num_val_sequences/self.batch_size)\n",
    "        else:\n",
    "            validation_steps = (self.num_val_sequences//self.batch_size) + 1\n",
    "    \n",
    "        history=model.fit_generator(train_generator, steps_per_epoch=steps_per_epoch, epochs=self.num_epochs, verbose=1, \n",
    "                            callbacks=callbacks_list, validation_data=val_generator, \n",
    "                            validation_steps=validation_steps, class_weight=None, workers=1, initial_epoch=0)\n",
    "        return history\n",
    "\n",
    "        \n",
    "    @abc.abstractmethod\n",
    "    def define_model(self):\n",
    "        pass"
   ]
  },
  {
   "cell_type": "markdown",
   "metadata": {
    "id": "Tp6RwXAbBzZp"
   },
   "source": [
    "## Model\n",
    "Here you make the model using different functionalities that Keras provides. Remember to use `Conv3D` and `MaxPooling3D` and not `Conv2D` and `Maxpooling2D` for a 3D convolution model. You would want to use `TimeDistributed` while building a Conv2D + RNN model. Also remember that the last layer is the softmax. Design the network in such a way that the model is able to give good accuracy on the least number of parameters so that it can fit in the memory of the webcam."
   ]
  },
  {
   "cell_type": "markdown",
   "metadata": {
    "id": "bm-fHQaXBzZq"
   },
   "source": [
    "## Sample Model"
   ]
  },
  {
   "cell_type": "code",
   "execution_count": null,
   "metadata": {
    "collapsed": true,
    "id": "m5r__O9-BzZq"
   },
   "outputs": [],
   "source": [
    "class ModelConv3D1(ModelBuilder):\n",
    "    \n",
    "    def define_model(self):\n",
    "\n",
    "        model = Sequential()\n",
    "        model.add(Conv3D(16, (3, 3, 3), padding='same',\n",
    "                 input_shape=(self.frames_to_sample,self.image_height,self.image_width,self.channels)))\n",
    "        model.add(Activation('relu'))\n",
    "        model.add(BatchNormalization())\n",
    "        model.add(MaxPooling3D(pool_size=(2, 2, 2)))\n",
    "\n",
    "        model.add(Conv3D(32, (2, 2, 2), padding='same'))\n",
    "        model.add(Activation('relu'))\n",
    "        model.add(BatchNormalization())\n",
    "        model.add(MaxPooling3D(pool_size=(2, 2, 2)))\n",
    "\n",
    "        model.add(Conv3D(64, (2, 2, 2), padding='same'))\n",
    "        model.add(Activation('relu'))\n",
    "        model.add(BatchNormalization())\n",
    "        model.add(MaxPooling3D(pool_size=(2, 2, 2)))\n",
    "\n",
    "        model.add(Conv3D(128, (2, 2, 2), padding='same'))\n",
    "        model.add(Activation('relu'))\n",
    "        model.add(BatchNormalization())\n",
    "        model.add(MaxPooling3D(pool_size=(2, 2, 2)))\n",
    "\n",
    "        model.add(Flatten())\n",
    "        model.add(Dense(128,activation='relu'))\n",
    "        model.add(BatchNormalization())\n",
    "        model.add(Dropout(0.5))\n",
    "\n",
    "        model.add(Dense(64,activation='relu'))\n",
    "        model.add(BatchNormalization())\n",
    "        model.add(Dropout(0.25))\n",
    "\n",
    "\n",
    "        model.add(Dense(self.num_classes,activation='softmax'))\n",
    "\n",
    "        optimiser = tf.keras.optimizers.Adam()\n",
    "        #optimiser = 'sgd'\n",
    "        model.compile(optimizer=optimiser, loss='categorical_crossentropy', metrics=['categorical_accuracy'])\n",
    "        return model"
   ]
  },
  {
   "cell_type": "code",
   "execution_count": null,
   "metadata": {
    "colab": {
     "base_uri": "https://localhost:8080/"
    },
    "executionInfo": {
     "elapsed": 1547,
     "status": "ok",
     "timestamp": 1640628509251,
     "user": {
      "displayName": "Mehul Kumawat",
      "photoUrl": "https://lh3.googleusercontent.com/a/default-user=s64",
      "userId": "14358707599276366243"
     },
     "user_tz": -330
    },
    "id": "FxQf2YWoBzZr",
    "outputId": "baa76775-e2d1-4635-e7db-2bf93fe07e42",
    "scrolled": true
   },
   "outputs": [
    {
     "name": "stdout",
     "output_type": "stream",
     "text": [
      "Model: \"sequential\"\n",
      "_________________________________________________________________\n",
      " Layer (type)                Output Shape              Param #   \n",
      "=================================================================\n",
      " conv3d (Conv3D)             (None, 18, 160, 160, 16)  1312      \n",
      "                                                                 \n",
      " activation (Activation)     (None, 18, 160, 160, 16)  0         \n",
      "                                                                 \n",
      " batch_normalization (BatchN  (None, 18, 160, 160, 16)  64       \n",
      " ormalization)                                                   \n",
      "                                                                 \n",
      " max_pooling3d (MaxPooling3D  (None, 9, 80, 80, 16)    0         \n",
      " )                                                               \n",
      "                                                                 \n",
      " conv3d_1 (Conv3D)           (None, 9, 80, 80, 32)     4128      \n",
      "                                                                 \n",
      " activation_1 (Activation)   (None, 9, 80, 80, 32)     0         \n",
      "                                                                 \n",
      " batch_normalization_1 (Batc  (None, 9, 80, 80, 32)    128       \n",
      " hNormalization)                                                 \n",
      "                                                                 \n",
      " max_pooling3d_1 (MaxPooling  (None, 4, 40, 40, 32)    0         \n",
      " 3D)                                                             \n",
      "                                                                 \n",
      " conv3d_2 (Conv3D)           (None, 4, 40, 40, 64)     16448     \n",
      "                                                                 \n",
      " activation_2 (Activation)   (None, 4, 40, 40, 64)     0         \n",
      "                                                                 \n",
      " batch_normalization_2 (Batc  (None, 4, 40, 40, 64)    256       \n",
      " hNormalization)                                                 \n",
      "                                                                 \n",
      " max_pooling3d_2 (MaxPooling  (None, 2, 20, 20, 64)    0         \n",
      " 3D)                                                             \n",
      "                                                                 \n",
      " conv3d_3 (Conv3D)           (None, 2, 20, 20, 128)    65664     \n",
      "                                                                 \n",
      " activation_3 (Activation)   (None, 2, 20, 20, 128)    0         \n",
      "                                                                 \n",
      " batch_normalization_3 (Batc  (None, 2, 20, 20, 128)   512       \n",
      " hNormalization)                                                 \n",
      "                                                                 \n",
      " max_pooling3d_3 (MaxPooling  (None, 1, 10, 10, 128)   0         \n",
      " 3D)                                                             \n",
      "                                                                 \n",
      " flatten (Flatten)           (None, 12800)             0         \n",
      "                                                                 \n",
      " dense (Dense)               (None, 128)               1638528   \n",
      "                                                                 \n",
      " batch_normalization_4 (Batc  (None, 128)              512       \n",
      " hNormalization)                                                 \n",
      "                                                                 \n",
      " dropout (Dropout)           (None, 128)               0         \n",
      "                                                                 \n",
      " dense_1 (Dense)             (None, 64)                8256      \n",
      "                                                                 \n",
      " batch_normalization_5 (Batc  (None, 64)               256       \n",
      " hNormalization)                                                 \n",
      "                                                                 \n",
      " dropout_1 (Dropout)         (None, 64)                0         \n",
      "                                                                 \n",
      " dense_2 (Dense)             (None, 5)                 325       \n",
      "                                                                 \n",
      "=================================================================\n",
      "Total params: 1,736,389\n",
      "Trainable params: 1,735,525\n",
      "Non-trainable params: 864\n",
      "_________________________________________________________________\n"
     ]
    }
   ],
   "source": [
    "conv_3d1=ModelConv3D1()\n",
    "conv_3d1.initialize_path(project_folder)\n",
    "conv_3d1.initialize_image_properties(image_height=160,image_width=160)\n",
    "conv_3d1.initialize_hyperparams(frames_to_sample=18,batch_size=40,num_epochs=1)\n",
    "conv_3d1_model=conv_3d1.define_model()\n",
    "conv_3d1_model.summary()"
   ]
  },
  {
   "cell_type": "markdown",
   "metadata": {
    "id": "BBjoOopYBzZs"
   },
   "source": [
    "##### Sample Cropping"
   ]
  },
  {
   "cell_type": "code",
   "execution_count": null,
   "metadata": {
    "collapsed": true,
    "id": "TisqyfK9BzZt"
   },
   "outputs": [],
   "source": [
    "#test_generator=ModelConv3D1()\n",
    "#test_generator.initialize_path(project_folder)\n",
    "#test_generator.initialize_image_properties(image_height=160,image_width=160)\n",
    "#test_generator.initialize_hyperparams(frames_to_sample=30,batch_size=3,num_epochs=1)\n",
    "\n",
    "#g=test_generator.generator(test_generator.val_path,test_generator.val_doc,augment=True)\n",
    "#batch_data, batch_labels=next(g)\n",
    "#fig, axes = plt.subplots(nrows=1, ncols=2)\n",
    "#axes[0].imshow(batch_data[0,15,:,:,:])   \n",
    "#axes[1].imshow(batch_data[3,15,:,:,:])   "
   ]
  },
  {
   "cell_type": "markdown",
   "metadata": {
    "id": "n22PP8iZBzZu"
   },
   "source": [
    "## Experimenting with Image resolution, number of frames to use and batch_size"
   ]
  },
  {
   "cell_type": "code",
   "execution_count": null,
   "metadata": {
    "collapsed": true,
    "id": "UQKVu9hGBzZu"
   },
   "outputs": [],
   "source": [
    "#conv_3d1.train_model(conv_3d1_model)"
   ]
  },
  {
   "cell_type": "markdown",
   "metadata": {
    "id": "gBbN0YYPBzZv"
   },
   "source": [
    "### We had hit the limit on memory resources with image resolution of 160x160 with 30 frames and batch_size of 40...we get the below error\n",
    "\n",
    "ResourceExhaustedError: OOM when allocating tensor with shape[40,16,30,160,160] and type float on /job:localhost/replica:0/task:0/device:GPU:0 by allocator GPU_0_bfc"
   ]
  },
  {
   "cell_type": "code",
   "execution_count": null,
   "metadata": {
    "colab": {
     "base_uri": "https://localhost:8080/"
    },
    "executionInfo": {
     "elapsed": 2103,
     "status": "ok",
     "timestamp": 1640628511346,
     "user": {
      "displayName": "Mehul Kumawat",
      "photoUrl": "https://lh3.googleusercontent.com/a/default-user=s64",
      "userId": "14358707599276366243"
     },
     "user_tz": -330
    },
    "id": "eAVrYCebBzZv",
    "outputId": "d04aaba8-f5bd-4315-a92d-390ece328bfe"
   },
   "outputs": [
    {
     "name": "stdout",
     "output_type": "stream",
     "text": [
      "Memory util is 3.662109524011612 Gigs\n"
     ]
    }
   ],
   "source": [
    "print(\"Memory util is {} Gigs\". format(getsizeof(np.zeros((40,16,30,160,160)))/(1024*1024*1024)))"
   ]
  },
  {
   "cell_type": "markdown",
   "metadata": {
    "id": "xlz9TSy5BzZw"
   },
   "source": [
    "##### So lets trade-off between these parameters"
   ]
  },
  {
   "cell_type": "markdown",
   "metadata": {
    "collapsed": true,
    "id": "nh-Ye60rBzZw"
   },
   "source": [
    "##### Below are the experiments to see how training time is affected by image resolution, number of images in sequence and batch size"
   ]
  },
  {
   "cell_type": "code",
   "execution_count": null,
   "metadata": {
    "colab": {
     "base_uri": "https://localhost:8080/"
    },
    "executionInfo": {
     "elapsed": 113382,
     "status": "ok",
     "timestamp": 1640628624709,
     "user": {
      "displayName": "Mehul Kumawat",
      "photoUrl": "https://lh3.googleusercontent.com/a/default-user=s64",
      "userId": "14358707599276366243"
     },
     "user_tz": -330
    },
    "id": "i4S8Ls-mBzZw",
    "outputId": "1bb9bb36-f936-4f57-a16c-4d21a37b761f"
   },
   "outputs": [
    {
     "name": "stdout",
     "output_type": "stream",
     "text": [
      "Total Params: 1736389\n",
      "Epoch 1/3\n",
      "23/23 [==============================] - ETA: 0s - loss: 1.6533 - categorical_accuracy: 0.4072\n",
      "Epoch 00001: saving model to /content/drive/MyDrive/Gesture/Checkpoints/model_init_2021-12-2718_08_30.910098/model-00001-1.65327-0.40724-2.40016-0.21000.h5\n",
      "23/23 [==============================] - 45s 1s/step - loss: 1.6533 - categorical_accuracy: 0.4072 - val_loss: 2.4002 - val_categorical_accuracy: 0.2100 - lr: 0.0010\n",
      "Epoch 2/3\n",
      "22/23 [===========================>..] - ETA: 1s - loss: 1.0978 - categorical_accuracy: 0.5697\n",
      "Epoch 00002: saving model to /content/drive/MyDrive/Gesture/Checkpoints/model_init_2021-12-2718_08_30.910098/model-00002-1.10337-0.56863-3.80654-0.21000.h5\n",
      "23/23 [==============================] - 32s 1s/step - loss: 1.1034 - categorical_accuracy: 0.5686 - val_loss: 3.8065 - val_categorical_accuracy: 0.2100 - lr: 0.0010\n",
      "Epoch 3/3\n",
      "22/23 [===========================>..] - ETA: 1s - loss: 0.8858 - categorical_accuracy: 0.6545\n",
      "Epoch 00003: saving model to /content/drive/MyDrive/Gesture/Checkpoints/model_init_2021-12-2718_08_30.910098/model-00003-0.88608-0.65460-5.46258-0.22000.h5\n",
      "23/23 [==============================] - 32s 1s/step - loss: 0.8861 - categorical_accuracy: 0.6546 - val_loss: 5.4626 - val_categorical_accuracy: 0.2200 - lr: 0.0010\n"
     ]
    },
    {
     "data": {
      "text/plain": [
       "<keras.callbacks.History at 0x7f0d11bb1a90>"
      ]
     },
     "execution_count": 16,
     "metadata": {},
     "output_type": "execute_result"
    }
   ],
   "source": [
    "conv_3d1=ModelConv3D1()\n",
    "conv_3d1.initialize_path(project_folder)\n",
    "conv_3d1.initialize_image_properties(image_height=160,image_width=160)\n",
    "conv_3d1.initialize_hyperparams(frames_to_sample=16,batch_size=30,num_epochs=3)\n",
    "conv_3d1_model=conv_3d1.define_model()\n",
    "print(\"Total Params:\", conv_3d1_model.count_params())\n",
    "conv_3d1.train_model(conv_3d1_model)"
   ]
  },
  {
   "cell_type": "code",
   "execution_count": null,
   "metadata": {
    "colab": {
     "base_uri": "https://localhost:8080/"
    },
    "executionInfo": {
     "elapsed": 103312,
     "status": "ok",
     "timestamp": 1640628727984,
     "user": {
      "displayName": "Mehul Kumawat",
      "photoUrl": "https://lh3.googleusercontent.com/a/default-user=s64",
      "userId": "14358707599276366243"
     },
     "user_tz": -330
    },
    "id": "UROp5oqoBzZx",
    "outputId": "f7881ab7-29f1-42ba-bea4-f62468425b89"
   },
   "outputs": [
    {
     "name": "stdout",
     "output_type": "stream",
     "text": [
      "Total Params: 687813\n",
      "Epoch 1/2\n",
      "23/23 [==============================] - ETA: 0s - loss: 1.6016 - categorical_accuracy: 0.4042\n",
      "Epoch 00001: saving model to /content/drive/MyDrive/Gesture/Checkpoints/model_init_2021-12-2718_10_24.060405/model-00001-1.60157-0.40422-2.14789-0.16000.h5\n",
      "23/23 [==============================] - 51s 2s/step - loss: 1.6016 - categorical_accuracy: 0.4042 - val_loss: 2.1479 - val_categorical_accuracy: 0.1600 - lr: 0.0010\n",
      "Epoch 2/2\n",
      "23/23 [==============================] - ETA: 0s - loss: 1.1513 - categorical_accuracy: 0.5370\n",
      "Epoch 00002: saving model to /content/drive/MyDrive/Gesture/Checkpoints/model_init_2021-12-2718_10_24.060405/model-00002-1.15130-0.53695-3.78605-0.16000.h5\n",
      "23/23 [==============================] - 50s 2s/step - loss: 1.1513 - categorical_accuracy: 0.5370 - val_loss: 3.7860 - val_categorical_accuracy: 0.1600 - lr: 0.0010\n"
     ]
    },
    {
     "data": {
      "text/plain": [
       "<keras.callbacks.History at 0x7f0c9205bc10>"
      ]
     },
     "execution_count": 17,
     "metadata": {},
     "output_type": "execute_result"
    }
   ],
   "source": [
    "conv_3d1=ModelConv3D1()\n",
    "conv_3d1.initialize_path(project_folder)\n",
    "conv_3d1.initialize_image_properties(image_height=100,image_width=100)\n",
    "conv_3d1.initialize_hyperparams(frames_to_sample=30,batch_size=30,num_epochs=2)\n",
    "conv_3d1_model=conv_3d1.define_model()\n",
    "print(\"Total Params:\", conv_3d1_model.count_params())\n",
    "conv_3d1.train_model(conv_3d1_model)"
   ]
  },
  {
   "cell_type": "code",
   "execution_count": null,
   "metadata": {
    "colab": {
     "base_uri": "https://localhost:8080/"
    },
    "executionInfo": {
     "elapsed": 105210,
     "status": "ok",
     "timestamp": 1640628833174,
     "user": {
      "displayName": "Mehul Kumawat",
      "photoUrl": "https://lh3.googleusercontent.com/a/default-user=s64",
      "userId": "14358707599276366243"
     },
     "user_tz": -330
    },
    "id": "_PBUhhMHBzZx",
    "outputId": "d9917218-492f-4b35-d650-6082019d2011"
   },
   "outputs": [
    {
     "name": "stdout",
     "output_type": "stream",
     "text": [
      "Total Params: 687813\n",
      "Epoch 1/2\n",
      "11/12 [==========================>...] - ETA: 3s - loss: 1.7716 - categorical_accuracy: 0.3530\n",
      "Epoch 00001: saving model to /content/drive/MyDrive/Gesture/Checkpoints/model_init_2021-12-2718_12_07.385542/model-00001-1.77084-0.35294-1.62896-0.22000.h5\n",
      "12/12 [==============================] - 53s 5s/step - loss: 1.7708 - categorical_accuracy: 0.3529 - val_loss: 1.6290 - val_categorical_accuracy: 0.2200 - lr: 0.0010\n",
      "Epoch 2/2\n",
      "11/12 [==========================>...] - ETA: 3s - loss: 1.0610 - categorical_accuracy: 0.5970\n",
      "Epoch 00002: saving model to /content/drive/MyDrive/Gesture/Checkpoints/model_init_2021-12-2718_12_07.385542/model-00002-1.05929-0.59729-1.99662-0.21000.h5\n",
      "12/12 [==============================] - 49s 4s/step - loss: 1.0593 - categorical_accuracy: 0.5973 - val_loss: 1.9966 - val_categorical_accuracy: 0.2100 - lr: 0.0010\n"
     ]
    },
    {
     "data": {
      "text/plain": [
       "<keras.callbacks.History at 0x7f0d11b48e50>"
      ]
     },
     "execution_count": 18,
     "metadata": {},
     "output_type": "execute_result"
    }
   ],
   "source": [
    "conv_3d1=ModelConv3D1()\n",
    "conv_3d1.initialize_path(project_folder)\n",
    "conv_3d1.initialize_image_properties(image_height=100,image_width=100)\n",
    "conv_3d1.initialize_hyperparams(frames_to_sample=30,batch_size=60,num_epochs=2)\n",
    "conv_3d1_model=conv_3d1.define_model()\n",
    "print(\"Total Params:\", conv_3d1_model.count_params())\n",
    "conv_3d1.train_model(conv_3d1_model)"
   ]
  },
  {
   "cell_type": "code",
   "execution_count": null,
   "metadata": {
    "colab": {
     "base_uri": "https://localhost:8080/"
    },
    "executionInfo": {
     "elapsed": 57082,
     "status": "ok",
     "timestamp": 1640628890238,
     "user": {
      "displayName": "Mehul Kumawat",
      "photoUrl": "https://lh3.googleusercontent.com/a/default-user=s64",
      "userId": "14358707599276366243"
     },
     "user_tz": -330
    },
    "id": "_mpM9eddBzZy",
    "outputId": "9c118cc2-6196-4edb-9e12-abe966249605"
   },
   "outputs": [
    {
     "name": "stdout",
     "output_type": "stream",
     "text": [
      "Total Params: 687813\n",
      "Epoch 1/2\n",
      "12/12 [==============================] - ETA: 0s - loss: 1.6760 - categorical_accuracy: 0.3710\n",
      "Epoch 00001: saving model to /content/drive/MyDrive/Gesture/Checkpoints/model_init_2021-12-2718_13_52.642151/model-00001-1.67595-0.37104-1.60822-0.23000.h5\n",
      "12/12 [==============================] - 28s 2s/step - loss: 1.6760 - categorical_accuracy: 0.3710 - val_loss: 1.6082 - val_categorical_accuracy: 0.2300 - lr: 0.0010\n",
      "Epoch 2/2\n",
      "11/12 [==========================>...] - ETA: 2s - loss: 1.1072 - categorical_accuracy: 0.5712\n",
      "Epoch 00002: saving model to /content/drive/MyDrive/Gesture/Checkpoints/model_init_2021-12-2718_13_52.642151/model-00002-1.10513-0.57315-1.90736-0.17000.h5\n",
      "12/12 [==============================] - 26s 2s/step - loss: 1.1051 - categorical_accuracy: 0.5732 - val_loss: 1.9074 - val_categorical_accuracy: 0.1700 - lr: 0.0010\n"
     ]
    },
    {
     "data": {
      "text/plain": [
       "<keras.callbacks.History at 0x7f0c781348d0>"
      ]
     },
     "execution_count": 19,
     "metadata": {},
     "output_type": "execute_result"
    }
   ],
   "source": [
    "conv_3d1=ModelConv3D1()\n",
    "conv_3d1.initialize_path(project_folder)\n",
    "conv_3d1.initialize_image_properties(image_height=100,image_width=100)\n",
    "conv_3d1.initialize_hyperparams(frames_to_sample=16,batch_size=60,num_epochs=2)\n",
    "conv_3d1_model=conv_3d1.define_model()\n",
    "print(\"Total Params:\", conv_3d1_model.count_params())\n",
    "conv_3d1.train_model(conv_3d1_model)"
   ]
  },
  {
   "cell_type": "code",
   "execution_count": null,
   "metadata": {
    "colab": {
     "base_uri": "https://localhost:8080/"
    },
    "executionInfo": {
     "elapsed": 56633,
     "status": "ok",
     "timestamp": 1640628946859,
     "user": {
      "displayName": "Mehul Kumawat",
      "photoUrl": "https://lh3.googleusercontent.com/a/default-user=s64",
      "userId": "14358707599276366243"
     },
     "user_tz": -330
    },
    "id": "4uFuZaemBzZy",
    "outputId": "67302c0b-9a72-4b2c-fdda-759ab9d1370c"
   },
   "outputs": [
    {
     "name": "stdout",
     "output_type": "stream",
     "text": [
      "Total Params: 687813\n",
      "Epoch 1/2\n",
      "9/9 [==============================] - ETA: 0s - loss: 1.7864 - categorical_accuracy: 0.3454\n",
      "Epoch 00001: saving model to /content/drive/MyDrive/Gesture/Checkpoints/model_init_2021-12-2718_14_49.680314/model-00001-1.78635-0.34540-1.64771-0.16000.h5\n",
      "9/9 [==============================] - 29s 3s/step - loss: 1.7864 - categorical_accuracy: 0.3454 - val_loss: 1.6477 - val_categorical_accuracy: 0.1600 - lr: 0.0010\n",
      "Epoch 2/2\n",
      "9/9 [==============================] - ETA: 0s - loss: 1.1581 - categorical_accuracy: 0.5339\n",
      "Epoch 00002: saving model to /content/drive/MyDrive/Gesture/Checkpoints/model_init_2021-12-2718_14_49.680314/model-00002-1.15813-0.53394-2.37611-0.18000.h5\n",
      "9/9 [==============================] - 25s 3s/step - loss: 1.1581 - categorical_accuracy: 0.5339 - val_loss: 2.3761 - val_categorical_accuracy: 0.1800 - lr: 0.0010\n"
     ]
    },
    {
     "data": {
      "text/plain": [
       "<keras.callbacks.History at 0x7f0c654bc190>"
      ]
     },
     "execution_count": 20,
     "metadata": {},
     "output_type": "execute_result"
    }
   ],
   "source": [
    "conv_3d1=ModelConv3D1()\n",
    "conv_3d1.initialize_path(project_folder)\n",
    "conv_3d1.initialize_image_properties(image_height=100,image_width=100)\n",
    "conv_3d1.initialize_hyperparams(frames_to_sample=16,batch_size=80,num_epochs=2)\n",
    "conv_3d1_model=conv_3d1.define_model()\n",
    "print(\"Total Params:\", conv_3d1_model.count_params())\n",
    "conv_3d1.train_model(conv_3d1_model)"
   ]
  },
  {
   "cell_type": "code",
   "execution_count": null,
   "metadata": {
    "colab": {
     "base_uri": "https://localhost:8080/"
    },
    "executionInfo": {
     "elapsed": 120702,
     "status": "ok",
     "timestamp": 1640629067531,
     "user": {
      "displayName": "Mehul Kumawat",
      "photoUrl": "https://lh3.googleusercontent.com/a/default-user=s64",
      "userId": "14358707599276366243"
     },
     "user_tz": -330
    },
    "id": "lJ9KpuVWBzZy",
    "outputId": "6767ccc8-be63-47f6-8f49-24bcdc63b02e"
   },
   "outputs": [
    {
     "name": "stdout",
     "output_type": "stream",
     "text": [
      "Total Params: 1736389\n",
      "Epoch 1/2\n",
      "45/45 [==============================] - ETA: 0s - loss: 1.4800 - categorical_accuracy: 0.4585\n",
      "Epoch 00001: saving model to /content/drive/MyDrive/Gesture/Checkpoints/model_init_2021-12-2718_15_46.363561/model-00001-1.48002-0.45852-9.98548-0.16000.h5\n",
      "45/45 [==============================] - 61s 1s/step - loss: 1.4800 - categorical_accuracy: 0.4585 - val_loss: 9.9855 - val_categorical_accuracy: 0.1600 - lr: 0.0010\n",
      "Epoch 2/2\n",
      "45/45 [==============================] - ETA: 0s - loss: 1.0698 - categorical_accuracy: 0.5928\n",
      "Epoch 00002: saving model to /content/drive/MyDrive/Gesture/Checkpoints/model_init_2021-12-2718_15_46.363561/model-00002-1.06978-0.59276-11.90139-0.15000.h5\n",
      "45/45 [==============================] - 59s 1s/step - loss: 1.0698 - categorical_accuracy: 0.5928 - val_loss: 11.9014 - val_categorical_accuracy: 0.1500 - lr: 0.0010\n"
     ]
    },
    {
     "data": {
      "text/plain": [
       "<keras.callbacks.History at 0x7f0c67470f50>"
      ]
     },
     "execution_count": 21,
     "metadata": {},
     "output_type": "execute_result"
    }
   ],
   "source": [
    "conv_3d1=ModelConv3D1()\n",
    "conv_3d1.initialize_path(project_folder)\n",
    "conv_3d1.initialize_image_properties(image_height=160,image_width=160)\n",
    "conv_3d1.initialize_hyperparams(frames_to_sample=30,batch_size=15,num_epochs=2)\n",
    "conv_3d1_model=conv_3d1.define_model()\n",
    "print(\"Total Params:\", conv_3d1_model.count_params())\n",
    "conv_3d1.train_model(conv_3d1_model)"
   ]
  },
  {
   "cell_type": "code",
   "execution_count": null,
   "metadata": {
    "colab": {
     "base_uri": "https://localhost:8080/"
    },
    "executionInfo": {
     "elapsed": 65301,
     "status": "ok",
     "timestamp": 1640629132801,
     "user": {
      "displayName": "Mehul Kumawat",
      "photoUrl": "https://lh3.googleusercontent.com/a/default-user=s64",
      "userId": "14358707599276366243"
     },
     "user_tz": -330
    },
    "id": "hlfuNUv3BzZz",
    "outputId": "d945d04d-3727-4de9-d96c-eca1a7dd4236"
   },
   "outputs": [
    {
     "name": "stdout",
     "output_type": "stream",
     "text": [
      "Total Params: 1736389\n",
      "Epoch 1/2\n",
      "44/45 [============================>.] - ETA: 0s - loss: 1.4883 - categorical_accuracy: 0.4348\n",
      "Epoch 00001: saving model to /content/drive/MyDrive/Gesture/Checkpoints/model_init_2021-12-2718_17_46.973281/model-00001-1.48768-0.43439-6.15142-0.16000.h5\n",
      "45/45 [==============================] - 33s 708ms/step - loss: 1.4877 - categorical_accuracy: 0.4344 - val_loss: 6.1514 - val_categorical_accuracy: 0.1600 - lr: 0.0010\n",
      "Epoch 2/2\n",
      "44/45 [============================>.] - ETA: 0s - loss: 1.0716 - categorical_accuracy: 0.5682\n",
      "Epoch 00002: saving model to /content/drive/MyDrive/Gesture/Checkpoints/model_init_2021-12-2718_17_46.973281/model-00002-1.06910-0.57014-6.62293-0.17000.h5\n",
      "45/45 [==============================] - 31s 707ms/step - loss: 1.0691 - categorical_accuracy: 0.5701 - val_loss: 6.6229 - val_categorical_accuracy: 0.1700 - lr: 0.0010\n"
     ]
    },
    {
     "data": {
      "text/plain": [
       "<keras.callbacks.History at 0x7f0c67b26b50>"
      ]
     },
     "execution_count": 22,
     "metadata": {},
     "output_type": "execute_result"
    }
   ],
   "source": [
    "conv_3d1=ModelConv3D1()\n",
    "conv_3d1.initialize_path(project_folder)\n",
    "conv_3d1.initialize_image_properties(image_height=160,image_width=160)\n",
    "conv_3d1.initialize_hyperparams(frames_to_sample=16,batch_size=15,num_epochs=2)\n",
    "conv_3d1_model=conv_3d1.define_model()\n",
    "print(\"Total Params:\", conv_3d1_model.count_params())\n",
    "conv_3d1.train_model(conv_3d1_model)"
   ]
  },
  {
   "cell_type": "code",
   "execution_count": null,
   "metadata": {
    "colab": {
     "base_uri": "https://localhost:8080/"
    },
    "executionInfo": {
     "elapsed": 56404,
     "status": "ok",
     "timestamp": 1640629246208,
     "user": {
      "displayName": "Mehul Kumawat",
      "photoUrl": "https://lh3.googleusercontent.com/a/default-user=s64",
      "userId": "14358707599276366243"
     },
     "user_tz": -330
    },
    "id": "gGcS6pdDBzZ0",
    "outputId": "ff383c08-a8cf-409a-e616-4d55670df07d"
   },
   "outputs": [
    {
     "name": "stdout",
     "output_type": "stream",
     "text": [
      "Total Params: 687813\n",
      "Epoch 1/2\n",
      "67/67 [==============================] - ETA: 0s - loss: 1.7127 - categorical_accuracy: 0.3650\n",
      "Epoch 00001: saving model to /content/drive/MyDrive/Gesture/Checkpoints/model_init_2021-12-2718_19_49.127565/model-00001-1.71270-0.36501-2.66908-0.21000.h5\n",
      "67/67 [==============================] - 29s 409ms/step - loss: 1.7127 - categorical_accuracy: 0.3650 - val_loss: 2.6691 - val_categorical_accuracy: 0.2100 - lr: 0.0010\n",
      "Epoch 2/2\n",
      "67/67 [==============================] - ETA: 0s - loss: 1.3410 - categorical_accuracy: 0.4992\n",
      "Epoch 00002: saving model to /content/drive/MyDrive/Gesture/Checkpoints/model_init_2021-12-2718_19_49.127565/model-00002-1.34102-0.49925-3.84096-0.24000.h5\n",
      "67/67 [==============================] - 27s 414ms/step - loss: 1.3410 - categorical_accuracy: 0.4992 - val_loss: 3.8410 - val_categorical_accuracy: 0.2400 - lr: 0.0010\n"
     ]
    },
    {
     "data": {
      "text/plain": [
       "<keras.callbacks.History at 0x7f0c6739ccd0>"
      ]
     },
     "execution_count": 24,
     "metadata": {},
     "output_type": "execute_result"
    }
   ],
   "source": [
    "conv_3d1=ModelConv3D1()\n",
    "conv_3d1.initialize_path(project_folder)\n",
    "conv_3d1.initialize_image_properties(image_height=100,image_width=100)\n",
    "conv_3d1.initialize_hyperparams(frames_to_sample=16,batch_size=10,num_epochs=2)\n",
    "conv_3d1_model=conv_3d1.define_model()\n",
    "print(\"Total Params:\", conv_3d1_model.count_params())\n",
    "conv_3d1.train_model(conv_3d1_model)"
   ]
  },
  {
   "cell_type": "code",
   "execution_count": null,
   "metadata": {
    "colab": {
     "base_uri": "https://localhost:8080/"
    },
    "executionInfo": {
     "elapsed": 66474,
     "status": "ok",
     "timestamp": 1640629597868,
     "user": {
      "displayName": "Mehul Kumawat",
      "photoUrl": "https://lh3.googleusercontent.com/a/default-user=s64",
      "userId": "14358707599276366243"
     },
     "user_tz": -330
    },
    "id": "88iqX6sQBzZ1",
    "outputId": "7a54cadc-fa0e-43e2-8480-04b29ae826e9"
   },
   "outputs": [
    {
     "name": "stdout",
     "output_type": "stream",
     "text": [
      "Total Params: 1736389\n",
      "Epoch 1/2\n",
      "17/17 [==============================] - ETA: 0s - loss: 1.5385 - categorical_accuracy: 0.4253\n",
      "Epoch 00001: saving model to /content/drive/MyDrive/Gesture/Checkpoints/model_init_2021-12-2718_25_30.866812/model-00001-1.53854-0.42534-2.25371-0.16000.h5\n",
      "17/17 [==============================] - 34s 2s/step - loss: 1.5385 - categorical_accuracy: 0.4253 - val_loss: 2.2537 - val_categorical_accuracy: 0.1600 - lr: 0.0010\n",
      "Epoch 2/2\n",
      "17/17 [==============================] - ETA: 0s - loss: 0.9886 - categorical_accuracy: 0.6063\n",
      "Epoch 00002: saving model to /content/drive/MyDrive/Gesture/Checkpoints/model_init_2021-12-2718_25_30.866812/model-00002-0.98865-0.60633-5.11952-0.17000.h5\n",
      "17/17 [==============================] - 31s 2s/step - loss: 0.9886 - categorical_accuracy: 0.6063 - val_loss: 5.1195 - val_categorical_accuracy: 0.1700 - lr: 0.0010\n"
     ]
    },
    {
     "data": {
      "text/plain": [
       "<keras.callbacks.History at 0x7f0c66044090>"
      ]
     },
     "execution_count": 28,
     "metadata": {},
     "output_type": "execute_result"
    }
   ],
   "source": [
    "conv_3d1=ModelConv3D1()\n",
    "conv_3d1.initialize_path(project_folder)\n",
    "conv_3d1.initialize_image_properties(image_height=160,image_width=160)\n",
    "conv_3d1.initialize_hyperparams(frames_to_sample=16,batch_size=40,num_epochs=2)\n",
    "conv_3d1_model=conv_3d1.define_model()\n",
    "print(\"Total Params:\", conv_3d1_model.count_params())\n",
    "conv_3d1.train_model(conv_3d1_model)"
   ]
  },
  {
   "cell_type": "markdown",
   "metadata": {
    "id": "LWm-6Ww5BzZ2"
   },
   "source": [
    "##### As we see from the above experiments image resolution and number of frames in sequence have more impact on training time than batch_size"
   ]
  },
  {
   "cell_type": "markdown",
   "metadata": {
    "collapsed": true,
    "id": "ylYtQbKaBzZ2"
   },
   "source": [
    "##### So experimentations are carried with batch size fixed around 15-40 and changing the resolution and number of image per sequence based on the device memory constraints . Models are designed such that their memory foot print is less than 50 MB which corresponds to 4.3 million parameters assuming the datatype size of parameters to be 12 bytes"
   ]
  },
  {
   "cell_type": "markdown",
   "metadata": {
    "id": "7jziyY0sBzZ2"
   },
   "source": [
    "# Model 1 - Base Model - No Data Augmentation Batch Size 40 and Epoch 15"
   ]
  },
  {
   "cell_type": "code",
   "execution_count": null,
   "metadata": {
    "collapsed": true,
    "id": "Ntudss1XBzZ3"
   },
   "outputs": [],
   "source": [
    "class ModelConv3D1(ModelBuilder):\n",
    "    \n",
    "    def define_model(self,filtersize=(3,3,3),dense_neurons=64,dropout=0.25):\n",
    "\n",
    "        model = Sequential()\n",
    "        model.add(Conv3D(16, filtersize, padding='same',\n",
    "                 input_shape=(self.frames_to_sample,self.image_height,self.image_width,self.channels)))\n",
    "        model.add(Activation('relu'))\n",
    "        model.add(BatchNormalization())\n",
    "        model.add(MaxPooling3D(pool_size=(2, 2, 2)))\n",
    "\n",
    "        model.add(Conv3D(32, filtersize, padding='same'))\n",
    "        model.add(Activation('relu'))\n",
    "        model.add(BatchNormalization())\n",
    "        model.add(MaxPooling3D(pool_size=(2, 2, 2)))\n",
    "\n",
    "        model.add(Conv3D(64, filtersize, padding='same'))\n",
    "        model.add(Activation('relu'))\n",
    "        model.add(BatchNormalization())\n",
    "        model.add(MaxPooling3D(pool_size=(2, 2, 2)))\n",
    "\n",
    "        model.add(Conv3D(128, filtersize, padding='same'))\n",
    "        model.add(Activation('relu'))\n",
    "        model.add(BatchNormalization())\n",
    "        model.add(MaxPooling3D(pool_size=(2, 2, 2)))\n",
    "\n",
    "        model.add(Flatten())\n",
    "        model.add(Dense(dense_neurons,activation='relu'))\n",
    "        model.add(BatchNormalization())\n",
    "        model.add(Dropout(dropout))\n",
    "\n",
    "        model.add(Dense(dense_neurons,activation='relu'))\n",
    "        model.add(BatchNormalization())\n",
    "        model.add(Dropout(dropout))\n",
    "\n",
    "\n",
    "        model.add(Dense(self.num_classes,activation='softmax'))\n",
    "\n",
    "        optimiser = tf.keras.optimizers.Adam()\n",
    "        model.compile(optimizer=optimiser, loss='categorical_crossentropy', metrics=['categorical_accuracy'])\n",
    "        return model"
   ]
  },
  {
   "cell_type": "code",
   "execution_count": null,
   "metadata": {
    "colab": {
     "base_uri": "https://localhost:8080/"
    },
    "executionInfo": {
     "elapsed": 50,
     "status": "ok",
     "timestamp": 1640629597871,
     "user": {
      "displayName": "Mehul Kumawat",
      "photoUrl": "https://lh3.googleusercontent.com/a/default-user=s64",
      "userId": "14358707599276366243"
     },
     "user_tz": -330
    },
    "id": "UvCVtaKHBzZ4",
    "outputId": "1f774fc9-9d25-46a4-c9cd-2bada90300f5"
   },
   "outputs": [
    {
     "name": "stdout",
     "output_type": "stream",
     "text": [
      "Model: \"sequential_14\"\n",
      "_________________________________________________________________\n",
      " Layer (type)                Output Shape              Param #   \n",
      "=================================================================\n",
      " conv3d_56 (Conv3D)          (None, 20, 160, 160, 16)  1312      \n",
      "                                                                 \n",
      " activation_56 (Activation)  (None, 20, 160, 160, 16)  0         \n",
      "                                                                 \n",
      " batch_normalization_84 (Bat  (None, 20, 160, 160, 16)  64       \n",
      " chNormalization)                                                \n",
      "                                                                 \n",
      " max_pooling3d_56 (MaxPoolin  (None, 10, 80, 80, 16)   0         \n",
      " g3D)                                                            \n",
      "                                                                 \n",
      " conv3d_57 (Conv3D)          (None, 10, 80, 80, 32)    13856     \n",
      "                                                                 \n",
      " activation_57 (Activation)  (None, 10, 80, 80, 32)    0         \n",
      "                                                                 \n",
      " batch_normalization_85 (Bat  (None, 10, 80, 80, 32)   128       \n",
      " chNormalization)                                                \n",
      "                                                                 \n",
      " max_pooling3d_57 (MaxPoolin  (None, 5, 40, 40, 32)    0         \n",
      " g3D)                                                            \n",
      "                                                                 \n",
      " conv3d_58 (Conv3D)          (None, 5, 40, 40, 64)     55360     \n",
      "                                                                 \n",
      " activation_58 (Activation)  (None, 5, 40, 40, 64)     0         \n",
      "                                                                 \n",
      " batch_normalization_86 (Bat  (None, 5, 40, 40, 64)    256       \n",
      " chNormalization)                                                \n",
      "                                                                 \n",
      " max_pooling3d_58 (MaxPoolin  (None, 2, 20, 20, 64)    0         \n",
      " g3D)                                                            \n",
      "                                                                 \n",
      " conv3d_59 (Conv3D)          (None, 2, 20, 20, 128)    221312    \n",
      "                                                                 \n",
      " activation_59 (Activation)  (None, 2, 20, 20, 128)    0         \n",
      "                                                                 \n",
      " batch_normalization_87 (Bat  (None, 2, 20, 20, 128)   512       \n",
      " chNormalization)                                                \n",
      "                                                                 \n",
      " max_pooling3d_59 (MaxPoolin  (None, 1, 10, 10, 128)   0         \n",
      " g3D)                                                            \n",
      "                                                                 \n",
      " flatten_14 (Flatten)        (None, 12800)             0         \n",
      "                                                                 \n",
      " dense_42 (Dense)            (None, 64)                819264    \n",
      "                                                                 \n",
      " batch_normalization_88 (Bat  (None, 64)               256       \n",
      " chNormalization)                                                \n",
      "                                                                 \n",
      " dropout_28 (Dropout)        (None, 64)                0         \n",
      "                                                                 \n",
      " dense_43 (Dense)            (None, 64)                4160      \n",
      "                                                                 \n",
      " batch_normalization_89 (Bat  (None, 64)               256       \n",
      " chNormalization)                                                \n",
      "                                                                 \n",
      " dropout_29 (Dropout)        (None, 64)                0         \n",
      "                                                                 \n",
      " dense_44 (Dense)            (None, 5)                 325       \n",
      "                                                                 \n",
      "=================================================================\n",
      "Total params: 1,117,061\n",
      "Trainable params: 1,116,325\n",
      "Non-trainable params: 736\n",
      "_________________________________________________________________\n"
     ]
    }
   ],
   "source": [
    "conv_3d1=ModelConv3D1()\n",
    "conv_3d1.initialize_path(project_folder)\n",
    "conv_3d1.initialize_image_properties(image_height=160,image_width=160)\n",
    "conv_3d1.initialize_hyperparams(frames_to_sample=20,batch_size=40,num_epochs=15)\n",
    "conv_3d1_model=conv_3d1.define_model()\n",
    "conv_3d1_model.summary()"
   ]
  },
  {
   "cell_type": "code",
   "execution_count": null,
   "metadata": {
    "colab": {
     "base_uri": "https://localhost:8080/"
    },
    "executionInfo": {
     "elapsed": 584040,
     "status": "ok",
     "timestamp": 1640630181872,
     "user": {
      "displayName": "Mehul Kumawat",
      "photoUrl": "https://lh3.googleusercontent.com/a/default-user=s64",
      "userId": "14358707599276366243"
     },
     "user_tz": -330
    },
    "id": "JkRl3jupBzZ5",
    "outputId": "cd29c100-9e1a-408f-cd91-40de5badaec1"
   },
   "outputs": [
    {
     "name": "stdout",
     "output_type": "stream",
     "text": [
      "Total Params: 1117061\n",
      "Epoch 1/15\n",
      "17/17 [==============================] - ETA: 0s - loss: 1.5872 - categorical_accuracy: 0.4012\n",
      "Epoch 00001: saving model to /content/drive/MyDrive/Gesture/Checkpoints/model_init_2021-12-2718_26_37.390670/model-00001-1.58715-0.40121-1.56310-0.33000.h5\n",
      "17/17 [==============================] - 41s 2s/step - loss: 1.5872 - categorical_accuracy: 0.4012 - val_loss: 1.5631 - val_categorical_accuracy: 0.3300 - lr: 0.0010\n",
      "Epoch 2/15\n",
      "17/17 [==============================] - ETA: 0s - loss: 1.0163 - categorical_accuracy: 0.6199\n",
      "Epoch 00002: saving model to /content/drive/MyDrive/Gesture/Checkpoints/model_init_2021-12-2718_26_37.390670/model-00002-1.01628-0.61991-2.26930-0.24000.h5\n",
      "17/17 [==============================] - 39s 2s/step - loss: 1.0163 - categorical_accuracy: 0.6199 - val_loss: 2.2693 - val_categorical_accuracy: 0.2400 - lr: 0.0010\n",
      "Epoch 3/15\n",
      "17/17 [==============================] - ETA: 0s - loss: 0.7551 - categorical_accuracy: 0.7285\n",
      "Epoch 00003: saving model to /content/drive/MyDrive/Gesture/Checkpoints/model_init_2021-12-2718_26_37.390670/model-00003-0.75512-0.72851-2.42301-0.23000.h5\n",
      "17/17 [==============================] - 37s 2s/step - loss: 0.7551 - categorical_accuracy: 0.7285 - val_loss: 2.4230 - val_categorical_accuracy: 0.2300 - lr: 0.0010\n",
      "Epoch 4/15\n",
      "17/17 [==============================] - ETA: 0s - loss: 0.5549 - categorical_accuracy: 0.7994\n",
      "Epoch 00004: saving model to /content/drive/MyDrive/Gesture/Checkpoints/model_init_2021-12-2718_26_37.390670/model-00004-0.55492-0.79940-2.77369-0.26000.h5\n",
      "17/17 [==============================] - 38s 2s/step - loss: 0.5549 - categorical_accuracy: 0.7994 - val_loss: 2.7737 - val_categorical_accuracy: 0.2600 - lr: 0.0010\n",
      "Epoch 5/15\n",
      "17/17 [==============================] - ETA: 0s - loss: 0.4414 - categorical_accuracy: 0.8416\n",
      "Epoch 00005: saving model to /content/drive/MyDrive/Gesture/Checkpoints/model_init_2021-12-2718_26_37.390670/model-00005-0.44138-0.84163-3.44435-0.22000.h5\n",
      "\n",
      "Epoch 00005: ReduceLROnPlateau reducing learning rate to 0.00020000000949949026.\n",
      "17/17 [==============================] - 39s 2s/step - loss: 0.4414 - categorical_accuracy: 0.8416 - val_loss: 3.4444 - val_categorical_accuracy: 0.2200 - lr: 0.0010\n",
      "Epoch 6/15\n",
      "17/17 [==============================] - ETA: 0s - loss: 0.3172 - categorical_accuracy: 0.9125\n",
      "Epoch 00006: saving model to /content/drive/MyDrive/Gesture/Checkpoints/model_init_2021-12-2718_26_37.390670/model-00006-0.31715-0.91252-3.46986-0.21000.h5\n",
      "17/17 [==============================] - 37s 2s/step - loss: 0.3172 - categorical_accuracy: 0.9125 - val_loss: 3.4699 - val_categorical_accuracy: 0.2100 - lr: 2.0000e-04\n",
      "Epoch 7/15\n",
      "17/17 [==============================] - ETA: 0s - loss: 0.2861 - categorical_accuracy: 0.9035\n",
      "Epoch 00007: saving model to /content/drive/MyDrive/Gesture/Checkpoints/model_init_2021-12-2718_26_37.390670/model-00007-0.28611-0.90347-3.71689-0.21000.h5\n",
      "17/17 [==============================] - 39s 2s/step - loss: 0.2861 - categorical_accuracy: 0.9035 - val_loss: 3.7169 - val_categorical_accuracy: 0.2100 - lr: 2.0000e-04\n",
      "Epoch 8/15\n",
      "17/17 [==============================] - ETA: 0s - loss: 0.2257 - categorical_accuracy: 0.9321\n",
      "Epoch 00008: saving model to /content/drive/MyDrive/Gesture/Checkpoints/model_init_2021-12-2718_26_37.390670/model-00008-0.22566-0.93213-4.06582-0.18000.h5\n",
      "17/17 [==============================] - 39s 2s/step - loss: 0.2257 - categorical_accuracy: 0.9321 - val_loss: 4.0658 - val_categorical_accuracy: 0.1800 - lr: 2.0000e-04\n",
      "Epoch 9/15\n",
      "17/17 [==============================] - ETA: 0s - loss: 0.1783 - categorical_accuracy: 0.9653\n",
      "Epoch 00009: saving model to /content/drive/MyDrive/Gesture/Checkpoints/model_init_2021-12-2718_26_37.390670/model-00009-0.17831-0.96531-4.20062-0.22000.h5\n",
      "\n",
      "Epoch 00009: ReduceLROnPlateau reducing learning rate to 4.0000001899898055e-05.\n",
      "17/17 [==============================] - 38s 2s/step - loss: 0.1783 - categorical_accuracy: 0.9653 - val_loss: 4.2006 - val_categorical_accuracy: 0.2200 - lr: 2.0000e-04\n",
      "Epoch 10/15\n",
      "17/17 [==============================] - ETA: 0s - loss: 0.1867 - categorical_accuracy: 0.9608\n",
      "Epoch 00010: saving model to /content/drive/MyDrive/Gesture/Checkpoints/model_init_2021-12-2718_26_37.390670/model-00010-0.18666-0.96078-4.31006-0.21000.h5\n",
      "17/17 [==============================] - 39s 2s/step - loss: 0.1867 - categorical_accuracy: 0.9608 - val_loss: 4.3101 - val_categorical_accuracy: 0.2100 - lr: 4.0000e-05\n",
      "Epoch 11/15\n",
      "17/17 [==============================] - ETA: 0s - loss: 0.1694 - categorical_accuracy: 0.9683\n",
      "Epoch 00011: saving model to /content/drive/MyDrive/Gesture/Checkpoints/model_init_2021-12-2718_26_37.390670/model-00011-0.16942-0.96833-4.33299-0.23000.h5\n",
      "17/17 [==============================] - 40s 2s/step - loss: 0.1694 - categorical_accuracy: 0.9683 - val_loss: 4.3330 - val_categorical_accuracy: 0.2300 - lr: 4.0000e-05\n",
      "Epoch 12/15\n",
      "17/17 [==============================] - ETA: 0s - loss: 0.1817 - categorical_accuracy: 0.9638\n",
      "Epoch 00012: saving model to /content/drive/MyDrive/Gesture/Checkpoints/model_init_2021-12-2718_26_37.390670/model-00012-0.18171-0.96380-4.58388-0.22000.h5\n",
      "17/17 [==============================] - 38s 2s/step - loss: 0.1817 - categorical_accuracy: 0.9638 - val_loss: 4.5839 - val_categorical_accuracy: 0.2200 - lr: 4.0000e-05\n",
      "Epoch 13/15\n",
      "17/17 [==============================] - ETA: 0s - loss: 0.1482 - categorical_accuracy: 0.9789\n",
      "Epoch 00013: saving model to /content/drive/MyDrive/Gesture/Checkpoints/model_init_2021-12-2718_26_37.390670/model-00013-0.14822-0.97888-4.69956-0.21000.h5\n",
      "\n",
      "Epoch 00013: ReduceLROnPlateau reducing learning rate to 8.000000525498762e-06.\n",
      "17/17 [==============================] - 39s 2s/step - loss: 0.1482 - categorical_accuracy: 0.9789 - val_loss: 4.6996 - val_categorical_accuracy: 0.2100 - lr: 4.0000e-05\n",
      "Epoch 14/15\n",
      "17/17 [==============================] - ETA: 0s - loss: 0.1478 - categorical_accuracy: 0.9744\n",
      "Epoch 00014: saving model to /content/drive/MyDrive/Gesture/Checkpoints/model_init_2021-12-2718_26_37.390670/model-00014-0.14776-0.97436-5.06306-0.13000.h5\n",
      "17/17 [==============================] - 39s 2s/step - loss: 0.1478 - categorical_accuracy: 0.9744 - val_loss: 5.0631 - val_categorical_accuracy: 0.1300 - lr: 8.0000e-06\n",
      "Epoch 15/15\n",
      "17/17 [==============================] - ETA: 0s - loss: 0.1607 - categorical_accuracy: 0.9759\n",
      "Epoch 00015: saving model to /content/drive/MyDrive/Gesture/Checkpoints/model_init_2021-12-2718_26_37.390670/model-00015-0.16074-0.97587-4.53655-0.24000.h5\n",
      "17/17 [==============================] - 38s 2s/step - loss: 0.1607 - categorical_accuracy: 0.9759 - val_loss: 4.5366 - val_categorical_accuracy: 0.2400 - lr: 8.0000e-06\n"
     ]
    }
   ],
   "source": [
    "print(\"Total Params:\", conv_3d1_model.count_params())\n",
    "history_model1 = conv_3d1.train_model(conv_3d1_model)"
   ]
  },
  {
   "cell_type": "code",
   "execution_count": null,
   "metadata": {
    "colab": {
     "base_uri": "https://localhost:8080/",
     "height": 265
    },
    "executionInfo": {
     "elapsed": 55,
     "status": "ok",
     "timestamp": 1640630181875,
     "user": {
      "displayName": "Mehul Kumawat",
      "photoUrl": "https://lh3.googleusercontent.com/a/default-user=s64",
      "userId": "14358707599276366243"
     },
     "user_tz": -330
    },
    "id": "bobCwh3dBzZ5",
    "outputId": "a177ea5e-6701-475d-9ef3-d2a72f2bcb99"
   },
   "outputs": [
    {
     "data": {
      "image/png": "[encoded data removed]",
      "text/plain": [
       "<Figure size 1080x288 with 2 Axes>"
      ]
     },
     "metadata": {
      "needs_background": "light"
     },
     "output_type": "display_data"
    }
   ],
   "source": [
    "plot(history_model1)"
   ]
  },
  {
   "cell_type": "markdown",
   "metadata": {
    "id": "h9D9BosqBzZ5"
   },
   "source": [
    "#### Model is clearly overfitting. Need to do the following to avoid the over fitting \n",
    "\n",
    "1. Add some Dropout Layers \n",
    "2. Regularization should be implemented to overcome the problem of Overfitting\n",
    "3. Need to do Data Augmentation\n"
   ]
  },
  {
   "cell_type": "markdown",
   "metadata": {
    "id": "CbiP2_gpBzZ6"
   },
   "source": [
    "# Model 2 - Augment Data , (3,3,3) filter & 160x160 image resolution"
   ]
  },
  {
   "cell_type": "code",
   "execution_count": null,
   "metadata": {
    "colab": {
     "base_uri": "https://localhost:8080/"
    },
    "executionInfo": {
     "elapsed": 1006,
     "status": "ok",
     "timestamp": 1640630182864,
     "user": {
      "displayName": "Mehul Kumawat",
      "photoUrl": "https://lh3.googleusercontent.com/a/default-user=s64",
      "userId": "14358707599276366243"
     },
     "user_tz": -330
    },
    "id": "rx_m7wAzBzZ6",
    "outputId": "945afa04-00d9-4a8e-f213-df459803fe9c"
   },
   "outputs": [
    {
     "name": "stdout",
     "output_type": "stream",
     "text": [
      "Model: \"sequential_15\"\n",
      "_________________________________________________________________\n",
      " Layer (type)                Output Shape              Param #   \n",
      "=================================================================\n",
      " conv3d_60 (Conv3D)          (None, 20, 160, 160, 16)  1312      \n",
      "                                                                 \n",
      " activation_60 (Activation)  (None, 20, 160, 160, 16)  0         \n",
      "                                                                 \n",
      " batch_normalization_90 (Bat  (None, 20, 160, 160, 16)  64       \n",
      " chNormalization)                                                \n",
      "                                                                 \n",
      " max_pooling3d_60 (MaxPoolin  (None, 10, 80, 80, 16)   0         \n",
      " g3D)                                                            \n",
      "                                                                 \n",
      " conv3d_61 (Conv3D)          (None, 10, 80, 80, 32)    13856     \n",
      "                                                                 \n",
      " activation_61 (Activation)  (None, 10, 80, 80, 32)    0         \n",
      "                                                                 \n",
      " batch_normalization_91 (Bat  (None, 10, 80, 80, 32)   128       \n",
      " chNormalization)                                                \n",
      "                                                                 \n",
      " max_pooling3d_61 (MaxPoolin  (None, 5, 40, 40, 32)    0         \n",
      " g3D)                                                            \n",
      "                                                                 \n",
      " conv3d_62 (Conv3D)          (None, 5, 40, 40, 64)     55360     \n",
      "                                                                 \n",
      " activation_62 (Activation)  (None, 5, 40, 40, 64)     0         \n",
      "                                                                 \n",
      " batch_normalization_92 (Bat  (None, 5, 40, 40, 64)    256       \n",
      " chNormalization)                                                \n",
      "                                                                 \n",
      " max_pooling3d_62 (MaxPoolin  (None, 2, 20, 20, 64)    0         \n",
      " g3D)                                                            \n",
      "                                                                 \n",
      " conv3d_63 (Conv3D)          (None, 2, 20, 20, 128)    221312    \n",
      "                                                                 \n",
      " activation_63 (Activation)  (None, 2, 20, 20, 128)    0         \n",
      "                                                                 \n",
      " batch_normalization_93 (Bat  (None, 2, 20, 20, 128)   512       \n",
      " chNormalization)                                                \n",
      "                                                                 \n",
      " max_pooling3d_63 (MaxPoolin  (None, 1, 10, 10, 128)   0         \n",
      " g3D)                                                            \n",
      "                                                                 \n",
      " flatten_15 (Flatten)        (None, 12800)             0         \n",
      "                                                                 \n",
      " dense_45 (Dense)            (None, 256)               3277056   \n",
      "                                                                 \n",
      " batch_normalization_94 (Bat  (None, 256)              1024      \n",
      " chNormalization)                                                \n",
      "                                                                 \n",
      " dropout_30 (Dropout)        (None, 256)               0         \n",
      "                                                                 \n",
      " dense_46 (Dense)            (None, 256)               65792     \n",
      "                                                                 \n",
      " batch_normalization_95 (Bat  (None, 256)              1024      \n",
      " chNormalization)                                                \n",
      "                                                                 \n",
      " dropout_31 (Dropout)        (None, 256)               0         \n",
      "                                                                 \n",
      " dense_47 (Dense)            (None, 5)                 1285      \n",
      "                                                                 \n",
      "=================================================================\n",
      "Total params: 3,638,981\n",
      "Trainable params: 3,637,477\n",
      "Non-trainable params: 1,504\n",
      "_________________________________________________________________\n"
     ]
    }
   ],
   "source": [
    "conv_3d2=ModelConv3D1()\n",
    "conv_3d2.initialize_path(project_folder)\n",
    "conv_3d2.initialize_image_properties(image_height=160,image_width=160)\n",
    "conv_3d2.initialize_hyperparams(frames_to_sample=20,batch_size=20,num_epochs=25)\n",
    "conv_3d2_model=conv_3d2.define_model(dense_neurons=256,dropout=0.5)\n",
    "conv_3d2_model.summary()"
   ]
  },
  {
   "cell_type": "code",
   "execution_count": null,
   "metadata": {
    "colab": {
     "base_uri": "https://localhost:8080/"
    },
    "executionInfo": {
     "elapsed": 1937431,
     "status": "ok",
     "timestamp": 1640632120280,
     "user": {
      "displayName": "Mehul Kumawat",
      "photoUrl": "https://lh3.googleusercontent.com/a/default-user=s64",
      "userId": "14358707599276366243"
     },
     "user_tz": -330
    },
    "id": "Wa9TR0QkBzZ6",
    "outputId": "33d313e3-5e8a-4dfe-c7a1-7437da15638f"
   },
   "outputs": [
    {
     "name": "stdout",
     "output_type": "stream",
     "text": [
      "Total Params: 3638981\n",
      "Epoch 1/25\n",
      "34/34 [==============================] - ETA: 0s - loss: 1.9603 - categorical_accuracy: 0.3846\n",
      "Epoch 00001: saving model to /content/drive/MyDrive/Gesture/Checkpoints/model_init_2021-12-2718_36_21.465456/model-00001-1.96028-0.38462-1.94398-0.23000.h5\n",
      "34/34 [==============================] - 81s 2s/step - loss: 1.9603 - categorical_accuracy: 0.3846 - val_loss: 1.9440 - val_categorical_accuracy: 0.2300 - lr: 0.0010\n",
      "Epoch 2/25\n",
      "34/34 [==============================] - ETA: 0s - loss: 1.5776 - categorical_accuracy: 0.4751\n",
      "Epoch 00002: saving model to /content/drive/MyDrive/Gesture/Checkpoints/model_init_2021-12-2718_36_21.465456/model-00002-1.57761-0.47511-2.43907-0.30000.h5\n",
      "34/34 [==============================] - 78s 2s/step - loss: 1.5776 - categorical_accuracy: 0.4751 - val_loss: 2.4391 - val_categorical_accuracy: 0.3000 - lr: 0.0010\n",
      "Epoch 3/25\n",
      "34/34 [==============================] - ETA: 0s - loss: 1.3428 - categorical_accuracy: 0.5468\n",
      "Epoch 00003: saving model to /content/drive/MyDrive/Gesture/Checkpoints/model_init_2021-12-2718_36_21.465456/model-00003-1.34280-0.54676-2.77615-0.18000.h5\n",
      "34/34 [==============================] - 78s 2s/step - loss: 1.3428 - categorical_accuracy: 0.5468 - val_loss: 2.7762 - val_categorical_accuracy: 0.1800 - lr: 0.0010\n",
      "Epoch 4/25\n",
      "34/34 [==============================] - ETA: 0s - loss: 1.2633 - categorical_accuracy: 0.5633\n",
      "Epoch 00004: saving model to /content/drive/MyDrive/Gesture/Checkpoints/model_init_2021-12-2718_36_21.465456/model-00004-1.26334-0.56335-2.59195-0.24000.h5\n",
      "34/34 [==============================] - 77s 2s/step - loss: 1.2633 - categorical_accuracy: 0.5633 - val_loss: 2.5919 - val_categorical_accuracy: 0.2400 - lr: 0.0010\n",
      "Epoch 5/25\n",
      "34/34 [==============================] - ETA: 0s - loss: 1.1469 - categorical_accuracy: 0.5897\n",
      "Epoch 00005: saving model to /content/drive/MyDrive/Gesture/Checkpoints/model_init_2021-12-2718_36_21.465456/model-00005-1.14686-0.58974-3.11154-0.40000.h5\n",
      "\n",
      "Epoch 00005: ReduceLROnPlateau reducing learning rate to 0.00020000000949949026.\n",
      "34/34 [==============================] - 78s 2s/step - loss: 1.1469 - categorical_accuracy: 0.5897 - val_loss: 3.1115 - val_categorical_accuracy: 0.4000 - lr: 0.0010\n",
      "Epoch 6/25\n",
      "34/34 [==============================] - ETA: 0s - loss: 0.9886 - categorical_accuracy: 0.6403\n",
      "Epoch 00006: saving model to /content/drive/MyDrive/Gesture/Checkpoints/model_init_2021-12-2718_36_21.465456/model-00006-0.98858-0.64027-2.95320-0.38000.h5\n",
      "34/34 [==============================] - 78s 2s/step - loss: 0.9886 - categorical_accuracy: 0.6403 - val_loss: 2.9532 - val_categorical_accuracy: 0.3800 - lr: 2.0000e-04\n",
      "Epoch 7/25\n",
      "34/34 [==============================] - ETA: 0s - loss: 0.9195 - categorical_accuracy: 0.6516\n",
      "Epoch 00007: saving model to /content/drive/MyDrive/Gesture/Checkpoints/model_init_2021-12-2718_36_21.465456/model-00007-0.91949-0.65158-2.68775-0.39000.h5\n",
      "34/34 [==============================] - 78s 2s/step - loss: 0.9195 - categorical_accuracy: 0.6516 - val_loss: 2.6877 - val_categorical_accuracy: 0.3900 - lr: 2.0000e-04\n",
      "Epoch 8/25\n",
      "34/34 [==============================] - ETA: 0s - loss: 0.8419 - categorical_accuracy: 0.6719\n",
      "Epoch 00008: saving model to /content/drive/MyDrive/Gesture/Checkpoints/model_init_2021-12-2718_36_21.465456/model-00008-0.84192-0.67195-2.86987-0.35000.h5\n",
      "34/34 [==============================] - 77s 2s/step - loss: 0.8419 - categorical_accuracy: 0.6719 - val_loss: 2.8699 - val_categorical_accuracy: 0.3500 - lr: 2.0000e-04\n",
      "Epoch 9/25\n",
      "34/34 [==============================] - ETA: 0s - loss: 0.7919 - categorical_accuracy: 0.7149\n",
      "Epoch 00009: saving model to /content/drive/MyDrive/Gesture/Checkpoints/model_init_2021-12-2718_36_21.465456/model-00009-0.79191-0.71493-2.67865-0.38000.h5\n",
      "\n",
      "Epoch 00009: ReduceLROnPlateau reducing learning rate to 4.0000001899898055e-05.\n",
      "34/34 [==============================] - 78s 2s/step - loss: 0.7919 - categorical_accuracy: 0.7149 - val_loss: 2.6787 - val_categorical_accuracy: 0.3800 - lr: 2.0000e-04\n",
      "Epoch 10/25\n",
      "34/34 [==============================] - ETA: 0s - loss: 0.7703 - categorical_accuracy: 0.7142\n",
      "Epoch 00010: saving model to /content/drive/MyDrive/Gesture/Checkpoints/model_init_2021-12-2718_36_21.465456/model-00010-0.77026-0.71418-2.38251-0.42000.h5\n",
      "34/34 [==============================] - 77s 2s/step - loss: 0.7703 - categorical_accuracy: 0.7142 - val_loss: 2.3825 - val_categorical_accuracy: 0.4200 - lr: 4.0000e-05\n",
      "Epoch 11/25\n",
      "34/34 [==============================] - ETA: 0s - loss: 0.7675 - categorical_accuracy: 0.7119\n",
      "Epoch 00011: saving model to /content/drive/MyDrive/Gesture/Checkpoints/model_init_2021-12-2718_36_21.465456/model-00011-0.76747-0.71192-2.32138-0.39000.h5\n",
      "34/34 [==============================] - 78s 2s/step - loss: 0.7675 - categorical_accuracy: 0.7119 - val_loss: 2.3214 - val_categorical_accuracy: 0.3900 - lr: 4.0000e-05\n",
      "Epoch 12/25\n",
      "34/34 [==============================] - ETA: 0s - loss: 0.7621 - categorical_accuracy: 0.7074\n",
      "Epoch 00012: saving model to /content/drive/MyDrive/Gesture/Checkpoints/model_init_2021-12-2718_36_21.465456/model-00012-0.76212-0.70739-2.25756-0.34000.h5\n",
      "34/34 [==============================] - 78s 2s/step - loss: 0.7621 - categorical_accuracy: 0.7074 - val_loss: 2.2576 - val_categorical_accuracy: 0.3400 - lr: 4.0000e-05\n",
      "Epoch 13/25\n",
      "34/34 [==============================] - ETA: 0s - loss: 0.8294 - categorical_accuracy: 0.6802\n",
      "Epoch 00013: saving model to /content/drive/MyDrive/Gesture/Checkpoints/model_init_2021-12-2718_36_21.465456/model-00013-0.82944-0.68024-1.81632-0.48000.h5\n",
      "34/34 [==============================] - 77s 2s/step - loss: 0.8294 - categorical_accuracy: 0.6802 - val_loss: 1.8163 - val_categorical_accuracy: 0.4800 - lr: 4.0000e-05\n",
      "Epoch 14/25\n",
      "34/34 [==============================] - ETA: 0s - loss: 0.6773 - categorical_accuracy: 0.7496\n",
      "Epoch 00014: saving model to /content/drive/MyDrive/Gesture/Checkpoints/model_init_2021-12-2718_36_21.465456/model-00014-0.67731-0.74962-1.57481-0.41000.h5\n",
      "34/34 [==============================] - 77s 2s/step - loss: 0.6773 - categorical_accuracy: 0.7496 - val_loss: 1.5748 - val_categorical_accuracy: 0.4100 - lr: 4.0000e-05\n",
      "Epoch 15/25\n",
      "34/34 [==============================] - ETA: 0s - loss: 0.7071 - categorical_accuracy: 0.7323\n",
      "Epoch 00015: saving model to /content/drive/MyDrive/Gesture/Checkpoints/model_init_2021-12-2718_36_21.465456/model-00015-0.70713-0.73228-1.52209-0.47000.h5\n",
      "34/34 [==============================] - 77s 2s/step - loss: 0.7071 - categorical_accuracy: 0.7323 - val_loss: 1.5221 - val_categorical_accuracy: 0.4700 - lr: 4.0000e-05\n",
      "Epoch 16/25\n",
      "34/34 [==============================] - ETA: 0s - loss: 0.7062 - categorical_accuracy: 0.7262\n",
      "Epoch 00016: saving model to /content/drive/MyDrive/Gesture/Checkpoints/model_init_2021-12-2718_36_21.465456/model-00016-0.70621-0.72624-1.29137-0.55000.h5\n",
      "34/34 [==============================] - 78s 2s/step - loss: 0.7062 - categorical_accuracy: 0.7262 - val_loss: 1.2914 - val_categorical_accuracy: 0.5500 - lr: 4.0000e-05\n",
      "Epoch 17/25\n",
      "34/34 [==============================] - ETA: 0s - loss: 0.7082 - categorical_accuracy: 0.7262\n",
      "Epoch 00017: saving model to /content/drive/MyDrive/Gesture/Checkpoints/model_init_2021-12-2718_36_21.465456/model-00017-0.70819-0.72624-1.18344-0.55000.h5\n",
      "34/34 [==============================] - 78s 2s/step - loss: 0.7082 - categorical_accuracy: 0.7262 - val_loss: 1.1834 - val_categorical_accuracy: 0.5500 - lr: 4.0000e-05\n",
      "Epoch 18/25\n",
      "34/34 [==============================] - ETA: 0s - loss: 0.6899 - categorical_accuracy: 0.7360\n",
      "Epoch 00018: saving model to /content/drive/MyDrive/Gesture/Checkpoints/model_init_2021-12-2718_36_21.465456/model-00018-0.68992-0.73605-0.95541-0.72000.h5\n",
      "34/34 [==============================] - 77s 2s/step - loss: 0.6899 - categorical_accuracy: 0.7360 - val_loss: 0.9554 - val_categorical_accuracy: 0.7200 - lr: 4.0000e-05\n",
      "Epoch 19/25\n",
      "34/34 [==============================] - ETA: 0s - loss: 0.6802 - categorical_accuracy: 0.7323\n",
      "Epoch 00019: saving model to /content/drive/MyDrive/Gesture/Checkpoints/model_init_2021-12-2718_36_21.465456/model-00019-0.68024-0.73228-0.92920-0.68000.h5\n",
      "34/34 [==============================] - 78s 2s/step - loss: 0.6802 - categorical_accuracy: 0.7323 - val_loss: 0.9292 - val_categorical_accuracy: 0.6800 - lr: 4.0000e-05\n",
      "Epoch 20/25\n",
      "34/34 [==============================] - ETA: 0s - loss: 0.6594 - categorical_accuracy: 0.7504\n",
      "Epoch 00020: saving model to /content/drive/MyDrive/Gesture/Checkpoints/model_init_2021-12-2718_36_21.465456/model-00020-0.65936-0.75038-0.76128-0.77000.h5\n",
      "34/34 [==============================] - 77s 2s/step - loss: 0.6594 - categorical_accuracy: 0.7504 - val_loss: 0.7613 - val_categorical_accuracy: 0.7700 - lr: 4.0000e-05\n",
      "Epoch 21/25\n",
      "34/34 [==============================] - ETA: 0s - loss: 0.7249 - categorical_accuracy: 0.7285\n",
      "Epoch 00021: saving model to /content/drive/MyDrive/Gesture/Checkpoints/model_init_2021-12-2718_36_21.465456/model-00021-0.72491-0.72851-0.81067-0.72000.h5\n",
      "34/34 [==============================] - 76s 2s/step - loss: 0.7249 - categorical_accuracy: 0.7285 - val_loss: 0.8107 - val_categorical_accuracy: 0.7200 - lr: 4.0000e-05\n",
      "Epoch 22/25\n",
      "34/34 [==============================] - ETA: 0s - loss: 0.6605 - categorical_accuracy: 0.7504\n",
      "Epoch 00022: saving model to /content/drive/MyDrive/Gesture/Checkpoints/model_init_2021-12-2718_36_21.465456/model-00022-0.66055-0.75038-0.76087-0.77000.h5\n",
      "34/34 [==============================] - 76s 2s/step - loss: 0.6605 - categorical_accuracy: 0.7504 - val_loss: 0.7609 - val_categorical_accuracy: 0.7700 - lr: 4.0000e-05\n",
      "Epoch 23/25\n",
      "34/34 [==============================] - ETA: 0s - loss: 0.7134 - categorical_accuracy: 0.7383\n",
      "Epoch 00023: saving model to /content/drive/MyDrive/Gesture/Checkpoints/model_init_2021-12-2718_36_21.465456/model-00023-0.71343-0.73831-0.82113-0.72000.h5\n",
      "34/34 [==============================] - 75s 2s/step - loss: 0.7134 - categorical_accuracy: 0.7383 - val_loss: 0.8211 - val_categorical_accuracy: 0.7200 - lr: 4.0000e-05\n",
      "Epoch 24/25\n",
      "34/34 [==============================] - ETA: 0s - loss: 0.6166 - categorical_accuracy: 0.7624\n",
      "Epoch 00024: saving model to /content/drive/MyDrive/Gesture/Checkpoints/model_init_2021-12-2718_36_21.465456/model-00024-0.61660-0.76244-0.58567-0.75000.h5\n",
      "34/34 [==============================] - 77s 2s/step - loss: 0.6166 - categorical_accuracy: 0.7624 - val_loss: 0.5857 - val_categorical_accuracy: 0.7500 - lr: 4.0000e-05\n",
      "Epoch 25/25\n",
      "34/34 [==============================] - ETA: 0s - loss: 0.5912 - categorical_accuracy: 0.7768\n",
      "Epoch 00025: saving model to /content/drive/MyDrive/Gesture/Checkpoints/model_init_2021-12-2718_36_21.465456/model-00025-0.59120-0.77677-0.81789-0.70000.h5\n",
      "34/34 [==============================] - 76s 2s/step - loss: 0.5912 - categorical_accuracy: 0.7768 - val_loss: 0.8179 - val_categorical_accuracy: 0.7000 - lr: 4.0000e-05\n"
     ]
    }
   ],
   "source": [
    "print(\"Total Params:\", conv_3d2_model.count_params())\n",
    "history_model2=conv_3d2.train_model(conv_3d2_model,augment_data=True)"
   ]
  },
  {
   "cell_type": "code",
   "execution_count": null,
   "metadata": {
    "colab": {
     "base_uri": "https://localhost:8080/",
     "height": 267
    },
    "executionInfo": {
     "elapsed": 40,
     "status": "ok",
     "timestamp": 1640632120282,
     "user": {
      "displayName": "Mehul Kumawat",
      "photoUrl": "https://lh3.googleusercontent.com/a/default-user=s64",
      "userId": "14358707599276366243"
     },
     "user_tz": -330
    },
    "id": "A80PEZQ0BzZ6",
    "outputId": "8298dad6-bc06-4725-cef1-95b2de4b355d"
   },
   "outputs": [
    {
     "data": {
      "image/png": "[encoded data removed]",
      "text/plain": [
       "<Figure size 1080x288 with 2 Axes>"
      ]
     },
     "metadata": {
      "needs_background": "light"
     },
     "output_type": "display_data"
    }
   ],
   "source": [
    "plot(history_model2)"
   ]
  },
  {
   "cell_type": "markdown",
   "metadata": {
    "id": "S41iFWFaBzZ7"
   },
   "source": [
    "#### Model is not overfitting, and we get a best validation accuracy of 76% and training accuracy of 75%. Next, we will try to reduce the filter size and image resolution and see if we get better results. Moreover, since we see minor oscillations in loss, let's try lowering the learning rate to 0.0002.\n"
   ]
  },
  {
   "cell_type": "markdown",
   "metadata": {
    "id": "PXSCRZITBzZ7"
   },
   "source": [
    "# Model 3 - Reduce filter size to (2,2,2) and image res to 120 x  120"
   ]
  },
  {
   "cell_type": "code",
   "execution_count": null,
   "metadata": {
    "collapsed": true,
    "id": "Q15fq39hBzZ7"
   },
   "outputs": [],
   "source": [
    "class ModelConv3D3(ModelBuilder):\n",
    "    \n",
    "    def define_model(self,filtersize=(3,3,3),dense_neurons=64,dropout=0.25):\n",
    "\n",
    "        model = Sequential()\n",
    "        model.add(Conv3D(16, filtersize, padding='same',\n",
    "                 input_shape=(self.frames_to_sample,self.image_height,self.image_width,self.channels)))\n",
    "        model.add(Activation('relu'))\n",
    "        model.add(BatchNormalization())\n",
    "        model.add(MaxPooling3D(pool_size=(2, 2, 2)))\n",
    "\n",
    "        model.add(Conv3D(32, filtersize, padding='same'))\n",
    "        model.add(Activation('relu'))\n",
    "        model.add(BatchNormalization())\n",
    "        model.add(MaxPooling3D(pool_size=(2, 2, 2)))\n",
    "\n",
    "        model.add(Conv3D(64, filtersize, padding='same'))\n",
    "        model.add(Activation('relu'))\n",
    "        model.add(BatchNormalization())\n",
    "        model.add(MaxPooling3D(pool_size=(2, 2, 2)))\n",
    "\n",
    "        model.add(Conv3D(128, filtersize, padding='same'))\n",
    "        model.add(Activation('relu'))\n",
    "        model.add(BatchNormalization())\n",
    "        model.add(MaxPooling3D(pool_size=(2, 2, 2)))\n",
    "\n",
    "        model.add(Flatten())\n",
    "        model.add(Dense(dense_neurons,activation='relu'))\n",
    "        model.add(BatchNormalization())\n",
    "        model.add(Dropout(dropout))\n",
    "\n",
    "        model.add(Dense(dense_neurons,activation='relu'))\n",
    "        model.add(BatchNormalization())\n",
    "        model.add(Dropout(dropout))\n",
    "\n",
    "\n",
    "        model.add(Dense(self.num_classes,activation='softmax'))\n",
    "\n",
    "        optimiser = tf.keras.optimizers.Adam(lr=0.0002)\n",
    "        model.compile(optimizer=optimiser, loss='categorical_crossentropy', metrics=['categorical_accuracy'])\n",
    "        return model"
   ]
  },
  {
   "cell_type": "code",
   "execution_count": null,
   "metadata": {
    "colab": {
     "base_uri": "https://localhost:8080/"
    },
    "executionInfo": {
     "elapsed": 11,
     "status": "ok",
     "timestamp": 1640632145751,
     "user": {
      "displayName": "Mehul Kumawat",
      "photoUrl": "https://lh3.googleusercontent.com/a/default-user=s64",
      "userId": "14358707599276366243"
     },
     "user_tz": -330
    },
    "id": "FOPXPIaLBzZ7",
    "outputId": "e33e0ad0-287c-424d-be52-57d70192bedc"
   },
   "outputs": [
    {
     "name": "stdout",
     "output_type": "stream",
     "text": [
      "Model: \"sequential_17\"\n",
      "_________________________________________________________________\n",
      " Layer (type)                Output Shape              Param #   \n",
      "=================================================================\n",
      " conv3d_68 (Conv3D)          (None, 16, 120, 120, 16)  400       \n",
      "                                                                 \n",
      " activation_68 (Activation)  (None, 16, 120, 120, 16)  0         \n",
      "                                                                 \n",
      " batch_normalization_102 (Ba  (None, 16, 120, 120, 16)  64       \n",
      " tchNormalization)                                               \n",
      "                                                                 \n",
      " max_pooling3d_68 (MaxPoolin  (None, 8, 60, 60, 16)    0         \n",
      " g3D)                                                            \n",
      "                                                                 \n",
      " conv3d_69 (Conv3D)          (None, 8, 60, 60, 32)     4128      \n",
      "                                                                 \n",
      " activation_69 (Activation)  (None, 8, 60, 60, 32)     0         \n",
      "                                                                 \n",
      " batch_normalization_103 (Ba  (None, 8, 60, 60, 32)    128       \n",
      " tchNormalization)                                               \n",
      "                                                                 \n",
      " max_pooling3d_69 (MaxPoolin  (None, 4, 30, 30, 32)    0         \n",
      " g3D)                                                            \n",
      "                                                                 \n",
      " conv3d_70 (Conv3D)          (None, 4, 30, 30, 64)     16448     \n",
      "                                                                 \n",
      " activation_70 (Activation)  (None, 4, 30, 30, 64)     0         \n",
      "                                                                 \n",
      " batch_normalization_104 (Ba  (None, 4, 30, 30, 64)    256       \n",
      " tchNormalization)                                               \n",
      "                                                                 \n",
      " max_pooling3d_70 (MaxPoolin  (None, 2, 15, 15, 64)    0         \n",
      " g3D)                                                            \n",
      "                                                                 \n",
      " conv3d_71 (Conv3D)          (None, 2, 15, 15, 128)    65664     \n",
      "                                                                 \n",
      " activation_71 (Activation)  (None, 2, 15, 15, 128)    0         \n",
      "                                                                 \n",
      " batch_normalization_105 (Ba  (None, 2, 15, 15, 128)   512       \n",
      " tchNormalization)                                               \n",
      "                                                                 \n",
      " max_pooling3d_71 (MaxPoolin  (None, 1, 7, 7, 128)     0         \n",
      " g3D)                                                            \n",
      "                                                                 \n",
      " flatten_17 (Flatten)        (None, 6272)              0         \n",
      "                                                                 \n",
      " dense_51 (Dense)            (None, 256)               1605888   \n",
      "                                                                 \n",
      " batch_normalization_106 (Ba  (None, 256)              1024      \n",
      " tchNormalization)                                               \n",
      "                                                                 \n",
      " dropout_34 (Dropout)        (None, 256)               0         \n",
      "                                                                 \n",
      " dense_52 (Dense)            (None, 256)               65792     \n",
      "                                                                 \n",
      " batch_normalization_107 (Ba  (None, 256)              1024      \n",
      " tchNormalization)                                               \n",
      "                                                                 \n",
      " dropout_35 (Dropout)        (None, 256)               0         \n",
      "                                                                 \n",
      " dense_53 (Dense)            (None, 5)                 1285      \n",
      "                                                                 \n",
      "=================================================================\n",
      "Total params: 1,762,613\n",
      "Trainable params: 1,761,109\n",
      "Non-trainable params: 1,504\n",
      "_________________________________________________________________\n"
     ]
    }
   ],
   "source": [
    "conv_3d3=ModelConv3D3()\n",
    "conv_3d3.initialize_path(project_folder)\n",
    "conv_3d3.initialize_image_properties(image_height=120,image_width=120)\n",
    "conv_3d3.initialize_hyperparams(frames_to_sample=16,batch_size=30,num_epochs=30)\n",
    "conv_3d3_model=conv_3d3.define_model(filtersize=(2,2,2),dense_neurons=256,dropout=0.5)\n",
    "conv_3d3_model.summary()"
   ]
  },
  {
   "cell_type": "code",
   "execution_count": null,
   "metadata": {
    "colab": {
     "base_uri": "https://localhost:8080/"
    },
    "executionInfo": {
     "elapsed": 1525369,
     "status": "ok",
     "timestamp": 1640633671111,
     "user": {
      "displayName": "Mehul Kumawat",
      "photoUrl": "https://lh3.googleusercontent.com/a/default-user=s64",
      "userId": "14358707599276366243"
     },
     "user_tz": -330
    },
    "id": "5sK56w_zBzZ8",
    "outputId": "23a591ce-9e6b-4cdf-f7c0-abbb2858b1c7"
   },
   "outputs": [
    {
     "name": "stdout",
     "output_type": "stream",
     "text": [
      "Total Params: 1762613\n",
      "Epoch 1/30\n",
      "23/23 [==============================] - ETA: 0s - loss: 2.0826 - categorical_accuracy: 0.3371\n",
      "Epoch 00001: saving model to /content/drive/MyDrive/Gesture/Checkpoints/model_init_2021-12-2719_09_04.766720/model-00001-2.08256-0.33710-1.77860-0.16000.h5\n",
      "23/23 [==============================] - 52s 2s/step - loss: 2.0826 - categorical_accuracy: 0.3371 - val_loss: 1.7786 - val_categorical_accuracy: 0.1600 - lr: 2.0000e-04\n",
      "Epoch 2/30\n",
      "22/23 [===========================>..] - ETA: 2s - loss: 1.5424 - categorical_accuracy: 0.4871\n",
      "Epoch 00002: saving model to /content/drive/MyDrive/Gesture/Checkpoints/model_init_2021-12-2719_09_04.766720/model-00002-1.54805-0.48643-2.83952-0.13000.h5\n",
      "23/23 [==============================] - 50s 2s/step - loss: 1.5480 - categorical_accuracy: 0.4864 - val_loss: 2.8395 - val_categorical_accuracy: 0.1300 - lr: 2.0000e-04\n",
      "Epoch 3/30\n",
      "22/23 [===========================>..] - ETA: 2s - loss: 1.2335 - categorical_accuracy: 0.5659\n",
      "Epoch 00003: saving model to /content/drive/MyDrive/Gesture/Checkpoints/model_init_2021-12-2719_09_04.766720/model-00003-1.23698-0.56561-3.46721-0.20000.h5\n",
      "23/23 [==============================] - 51s 2s/step - loss: 1.2370 - categorical_accuracy: 0.5656 - val_loss: 3.4672 - val_categorical_accuracy: 0.2000 - lr: 2.0000e-04\n",
      "Epoch 4/30\n",
      "22/23 [===========================>..] - ETA: 2s - loss: 1.1511 - categorical_accuracy: 0.5795\n",
      "Epoch 00004: saving model to /content/drive/MyDrive/Gesture/Checkpoints/model_init_2021-12-2719_09_04.766720/model-00004-1.15200-0.57843-4.67636-0.16000.h5\n",
      "23/23 [==============================] - 49s 2s/step - loss: 1.1520 - categorical_accuracy: 0.5784 - val_loss: 4.6764 - val_categorical_accuracy: 0.1600 - lr: 2.0000e-04\n",
      "Epoch 5/30\n",
      "22/23 [===========================>..] - ETA: 2s - loss: 1.0175 - categorical_accuracy: 0.6455\n",
      "Epoch 00005: saving model to /content/drive/MyDrive/Gesture/Checkpoints/model_init_2021-12-2719_09_04.766720/model-00005-1.02267-0.64329-5.69286-0.16000.h5\n",
      "\n",
      "Epoch 00005: ReduceLROnPlateau reducing learning rate to 3.9999998989515007e-05.\n",
      "23/23 [==============================] - 50s 2s/step - loss: 1.0227 - categorical_accuracy: 0.6433 - val_loss: 5.6929 - val_categorical_accuracy: 0.1600 - lr: 2.0000e-04\n",
      "Epoch 6/30\n",
      "23/23 [==============================] - ETA: 0s - loss: 0.9818 - categorical_accuracy: 0.6418\n",
      "Epoch 00006: saving model to /content/drive/MyDrive/Gesture/Checkpoints/model_init_2021-12-2719_09_04.766720/model-00006-0.98184-0.64178-6.96191-0.15000.h5\n",
      "23/23 [==============================] - 50s 2s/step - loss: 0.9818 - categorical_accuracy: 0.6418 - val_loss: 6.9619 - val_categorical_accuracy: 0.1500 - lr: 4.0000e-05\n",
      "Epoch 7/30\n",
      "23/23 [==============================] - ETA: 0s - loss: 0.9219 - categorical_accuracy: 0.6538\n",
      "Epoch 00007: saving model to /content/drive/MyDrive/Gesture/Checkpoints/model_init_2021-12-2719_09_04.766720/model-00007-0.92191-0.65385-7.33829-0.16000.h5\n",
      "23/23 [==============================] - 50s 2s/step - loss: 0.9219 - categorical_accuracy: 0.6538 - val_loss: 7.3383 - val_categorical_accuracy: 0.1600 - lr: 4.0000e-05\n",
      "Epoch 8/30\n",
      "22/23 [===========================>..] - ETA: 2s - loss: 0.8902 - categorical_accuracy: 0.6818\n",
      "Epoch 00008: saving model to /content/drive/MyDrive/Gesture/Checkpoints/model_init_2021-12-2719_09_04.766720/model-00008-0.89580-0.68100-8.17570-0.16000.h5\n",
      "23/23 [==============================] - 49s 2s/step - loss: 0.8958 - categorical_accuracy: 0.6810 - val_loss: 8.1757 - val_categorical_accuracy: 0.1600 - lr: 4.0000e-05\n",
      "Epoch 9/30\n",
      "22/23 [===========================>..] - ETA: 2s - loss: 0.8381 - categorical_accuracy: 0.6947\n",
      "Epoch 00009: saving model to /content/drive/MyDrive/Gesture/Checkpoints/model_init_2021-12-2719_09_04.766720/model-00009-0.84292-0.69382-8.68686-0.16000.h5\n",
      "\n",
      "Epoch 00009: ReduceLROnPlateau reducing learning rate to 7.999999797903002e-06.\n",
      "23/23 [==============================] - 51s 2s/step - loss: 0.8429 - categorical_accuracy: 0.6938 - val_loss: 8.6869 - val_categorical_accuracy: 0.1600 - lr: 4.0000e-05\n",
      "Epoch 10/30\n",
      "22/23 [===========================>..] - ETA: 2s - loss: 0.8595 - categorical_accuracy: 0.6917\n",
      "Epoch 00010: saving model to /content/drive/MyDrive/Gesture/Checkpoints/model_init_2021-12-2719_09_04.766720/model-00010-0.85833-0.69231-8.97827-0.12000.h5\n",
      "23/23 [==============================] - 49s 2s/step - loss: 0.8583 - categorical_accuracy: 0.6923 - val_loss: 8.9783 - val_categorical_accuracy: 0.1200 - lr: 8.0000e-06\n",
      "Epoch 11/30\n",
      "22/23 [===========================>..] - ETA: 2s - loss: 0.8731 - categorical_accuracy: 0.6803\n",
      "Epoch 00011: saving model to /content/drive/MyDrive/Gesture/Checkpoints/model_init_2021-12-2719_09_04.766720/model-00011-0.87257-0.68024-8.29060-0.18000.h5\n",
      "23/23 [==============================] - 50s 2s/step - loss: 0.8726 - categorical_accuracy: 0.6802 - val_loss: 8.2906 - val_categorical_accuracy: 0.1800 - lr: 8.0000e-06\n",
      "Epoch 12/30\n",
      "22/23 [===========================>..] - ETA: 2s - loss: 0.8127 - categorical_accuracy: 0.7061\n",
      "Epoch 00012: saving model to /content/drive/MyDrive/Gesture/Checkpoints/model_init_2021-12-2719_09_04.766720/model-00012-0.81521-0.70513-8.13056-0.13000.h5\n",
      "23/23 [==============================] - 49s 2s/step - loss: 0.8152 - categorical_accuracy: 0.7051 - val_loss: 8.1306 - val_categorical_accuracy: 0.1300 - lr: 8.0000e-06\n",
      "Epoch 13/30\n",
      "23/23 [==============================] - ETA: 0s - loss: 0.7983 - categorical_accuracy: 0.7089\n",
      "Epoch 00013: saving model to /content/drive/MyDrive/Gesture/Checkpoints/model_init_2021-12-2719_09_04.766720/model-00013-0.79832-0.70890-7.13063-0.16000.h5\n",
      "\n",
      "Epoch 00013: ReduceLROnPlateau reducing learning rate to 1.5999999959603884e-06.\n",
      "23/23 [==============================] - 50s 2s/step - loss: 0.7983 - categorical_accuracy: 0.7089 - val_loss: 7.1306 - val_categorical_accuracy: 0.1600 - lr: 8.0000e-06\n",
      "Epoch 14/30\n",
      "22/23 [===========================>..] - ETA: 2s - loss: 0.8166 - categorical_accuracy: 0.6909\n",
      "Epoch 00014: saving model to /content/drive/MyDrive/Gesture/Checkpoints/model_init_2021-12-2719_09_04.766720/model-00014-0.82639-0.68854-6.55510-0.14000.h5\n",
      "23/23 [==============================] - 51s 2s/step - loss: 0.8264 - categorical_accuracy: 0.6885 - val_loss: 6.5551 - val_categorical_accuracy: 0.1400 - lr: 1.6000e-06\n",
      "Epoch 15/30\n",
      "22/23 [===========================>..] - ETA: 2s - loss: 0.8393 - categorical_accuracy: 0.6932\n",
      "Epoch 00015: saving model to /content/drive/MyDrive/Gesture/Checkpoints/model_init_2021-12-2719_09_04.766720/model-00015-0.84067-0.69306-5.49383-0.14000.h5\n",
      "23/23 [==============================] - 50s 2s/step - loss: 0.8407 - categorical_accuracy: 0.6931 - val_loss: 5.4938 - val_categorical_accuracy: 0.1400 - lr: 1.6000e-06\n",
      "Epoch 16/30\n",
      "23/23 [==============================] - ETA: 0s - loss: 0.7974 - categorical_accuracy: 0.6900\n",
      "Epoch 00016: saving model to /content/drive/MyDrive/Gesture/Checkpoints/model_init_2021-12-2719_09_04.766720/model-00016-0.79743-0.69005-4.87354-0.19000.h5\n",
      "23/23 [==============================] - 50s 2s/step - loss: 0.7974 - categorical_accuracy: 0.6900 - val_loss: 4.8735 - val_categorical_accuracy: 0.1900 - lr: 1.6000e-06\n",
      "Epoch 17/30\n",
      "23/23 [==============================] - ETA: 0s - loss: 0.8626 - categorical_accuracy: 0.6772\n",
      "Epoch 00017: saving model to /content/drive/MyDrive/Gesture/Checkpoints/model_init_2021-12-2719_09_04.766720/model-00017-0.86257-0.67722-4.40068-0.19000.h5\n",
      "\n",
      "Epoch 00017: ReduceLROnPlateau reducing learning rate to 3.200000037395512e-07.\n",
      "23/23 [==============================] - 51s 2s/step - loss: 0.8626 - categorical_accuracy: 0.6772 - val_loss: 4.4007 - val_categorical_accuracy: 0.1900 - lr: 1.6000e-06\n",
      "Epoch 18/30\n",
      "22/23 [===========================>..] - ETA: 2s - loss: 0.7890 - categorical_accuracy: 0.7061\n",
      "Epoch 00018: saving model to /content/drive/MyDrive/Gesture/Checkpoints/model_init_2021-12-2719_09_04.766720/model-00018-0.79112-0.70513-4.12831-0.19000.h5\n",
      "23/23 [==============================] - 51s 2s/step - loss: 0.7911 - categorical_accuracy: 0.7051 - val_loss: 4.1283 - val_categorical_accuracy: 0.1900 - lr: 3.2000e-07\n",
      "Epoch 19/30\n",
      "22/23 [===========================>..] - ETA: 2s - loss: 0.7971 - categorical_accuracy: 0.6947\n",
      "Epoch 00019: saving model to /content/drive/MyDrive/Gesture/Checkpoints/model_init_2021-12-2719_09_04.766720/model-00019-0.79825-0.69532-3.22009-0.25000.h5\n",
      "23/23 [==============================] - 50s 2s/step - loss: 0.7982 - categorical_accuracy: 0.6953 - val_loss: 3.2201 - val_categorical_accuracy: 0.2500 - lr: 3.2000e-07\n",
      "Epoch 20/30\n",
      "23/23 [==============================] - ETA: 0s - loss: 0.8146 - categorical_accuracy: 0.7006\n",
      "Epoch 00020: saving model to /content/drive/MyDrive/Gesture/Checkpoints/model_init_2021-12-2719_09_04.766720/model-00020-0.81464-0.70060-3.03208-0.23000.h5\n",
      "23/23 [==============================] - 50s 2s/step - loss: 0.8146 - categorical_accuracy: 0.7006 - val_loss: 3.0321 - val_categorical_accuracy: 0.2300 - lr: 3.2000e-07\n",
      "Epoch 21/30\n",
      "23/23 [==============================] - ETA: 0s - loss: 0.8133 - categorical_accuracy: 0.7134\n",
      "Epoch 00021: saving model to /content/drive/MyDrive/Gesture/Checkpoints/model_init_2021-12-2719_09_04.766720/model-00021-0.81327-0.71342-2.63578-0.27000.h5\n",
      "\n",
      "Epoch 00021: ReduceLROnPlateau reducing learning rate to 6.399999961104187e-08.\n",
      "23/23 [==============================] - 52s 2s/step - loss: 0.8133 - categorical_accuracy: 0.7134 - val_loss: 2.6358 - val_categorical_accuracy: 0.2700 - lr: 3.2000e-07\n",
      "Epoch 22/30\n",
      "23/23 [==============================] - ETA: 0s - loss: 0.7686 - categorical_accuracy: 0.7172\n",
      "Epoch 00022: saving model to /content/drive/MyDrive/Gesture/Checkpoints/model_init_2021-12-2719_09_04.766720/model-00022-0.76855-0.71719-2.31537-0.31000.h5\n",
      "23/23 [==============================] - 51s 2s/step - loss: 0.7686 - categorical_accuracy: 0.7172 - val_loss: 2.3154 - val_categorical_accuracy: 0.3100 - lr: 6.4000e-08\n",
      "Epoch 23/30\n",
      "23/23 [==============================] - ETA: 0s - loss: 0.8067 - categorical_accuracy: 0.7059\n",
      "Epoch 00023: saving model to /content/drive/MyDrive/Gesture/Checkpoints/model_init_2021-12-2719_09_04.766720/model-00023-0.80672-0.70588-2.00396-0.32000.h5\n",
      "23/23 [==============================] - 52s 2s/step - loss: 0.8067 - categorical_accuracy: 0.7059 - val_loss: 2.0040 - val_categorical_accuracy: 0.3200 - lr: 6.4000e-08\n",
      "Epoch 24/30\n",
      "23/23 [==============================] - ETA: 0s - loss: 0.7783 - categorical_accuracy: 0.7066\n",
      "Epoch 00024: saving model to /content/drive/MyDrive/Gesture/Checkpoints/model_init_2021-12-2719_09_04.766720/model-00024-0.77834-0.70664-1.84832-0.36000.h5\n",
      "23/23 [==============================] - 51s 2s/step - loss: 0.7783 - categorical_accuracy: 0.7066 - val_loss: 1.8483 - val_categorical_accuracy: 0.3600 - lr: 6.4000e-08\n",
      "Epoch 25/30\n",
      "22/23 [===========================>..] - ETA: 2s - loss: 0.7898 - categorical_accuracy: 0.7038\n",
      "Epoch 00025: saving model to /content/drive/MyDrive/Gesture/Checkpoints/model_init_2021-12-2719_09_04.766720/model-00025-0.78853-0.70437-1.61217-0.39000.h5\n",
      "23/23 [==============================] - 53s 2s/step - loss: 0.7885 - categorical_accuracy: 0.7044 - val_loss: 1.6122 - val_categorical_accuracy: 0.3900 - lr: 6.4000e-08\n",
      "Epoch 26/30\n",
      "23/23 [==============================] - ETA: 0s - loss: 0.8321 - categorical_accuracy: 0.6840\n",
      "Epoch 00026: saving model to /content/drive/MyDrive/Gesture/Checkpoints/model_init_2021-12-2719_09_04.766720/model-00026-0.83206-0.68401-1.38303-0.52000.h5\n",
      "23/23 [==============================] - 52s 2s/step - loss: 0.8321 - categorical_accuracy: 0.6840 - val_loss: 1.3830 - val_categorical_accuracy: 0.5200 - lr: 6.4000e-08\n",
      "Epoch 27/30\n",
      "22/23 [===========================>..] - ETA: 2s - loss: 0.8079 - categorical_accuracy: 0.7129\n",
      "Epoch 00027: saving model to /content/drive/MyDrive/Gesture/Checkpoints/model_init_2021-12-2719_09_04.766720/model-00027-0.81146-0.71192-1.39890-0.46000.h5\n",
      "23/23 [==============================] - 53s 2s/step - loss: 0.8115 - categorical_accuracy: 0.7119 - val_loss: 1.3989 - val_categorical_accuracy: 0.4600 - lr: 6.4000e-08\n",
      "Epoch 28/30\n",
      "22/23 [===========================>..] - ETA: 2s - loss: 0.7947 - categorical_accuracy: 0.6985\n",
      "Epoch 00028: saving model to /content/drive/MyDrive/Gesture/Checkpoints/model_init_2021-12-2719_09_04.766720/model-00028-0.79627-0.69759-1.21519-0.54000.h5\n",
      "23/23 [==============================] - 51s 2s/step - loss: 0.7963 - categorical_accuracy: 0.6976 - val_loss: 1.2152 - val_categorical_accuracy: 0.5400 - lr: 6.4000e-08\n",
      "Epoch 29/30\n",
      "23/23 [==============================] - ETA: 0s - loss: 0.8421 - categorical_accuracy: 0.7036\n",
      "Epoch 00029: saving model to /content/drive/MyDrive/Gesture/Checkpoints/model_init_2021-12-2719_09_04.766720/model-00029-0.84209-0.70362-1.10155-0.57000.h5\n",
      "23/23 [==============================] - 53s 2s/step - loss: 0.8421 - categorical_accuracy: 0.7036 - val_loss: 1.1015 - val_categorical_accuracy: 0.5700 - lr: 6.4000e-08\n",
      "Epoch 30/30\n",
      "22/23 [===========================>..] - ETA: 2s - loss: 0.7586 - categorical_accuracy: 0.7250\n",
      "Epoch 00030: saving model to /content/drive/MyDrive/Gesture/Checkpoints/model_init_2021-12-2719_09_04.766720/model-00030-0.76539-0.72398-1.16364-0.59000.h5\n",
      "23/23 [==============================] - 52s 2s/step - loss: 0.7654 - categorical_accuracy: 0.7240 - val_loss: 1.1636 - val_categorical_accuracy: 0.5900 - lr: 6.4000e-08\n"
     ]
    }
   ],
   "source": [
    "print(\"Total Params:\", conv_3d3_model.count_params())\n",
    "history_model3=conv_3d3.train_model(conv_3d3_model,augment_data=True)"
   ]
  },
  {
   "cell_type": "code",
   "execution_count": null,
   "metadata": {
    "colab": {
     "base_uri": "https://localhost:8080/",
     "height": 265
    },
    "executionInfo": {
     "elapsed": 46,
     "status": "ok",
     "timestamp": 1640633671113,
     "user": {
      "displayName": "Mehul Kumawat",
      "photoUrl": "https://lh3.googleusercontent.com/a/default-user=s64",
      "userId": "14358707599276366243"
     },
     "user_tz": -330
    },
    "id": "sAJDoc2mBzZ8",
    "outputId": "298724a9-92f1-4b02-dfff-05f036e04abf"
   },
   "outputs": [
    {
     "data": {
      "image/png": "[encoded data removed]",
      "text/plain": [
       "<Figure size 1080x288 with 2 Axes>"
      ]
     },
     "metadata": {
      "needs_background": "light"
     },
     "output_type": "display_data"
    }
   ],
   "source": [
    "plot(history_model3)"
   ]
  },
  {
   "cell_type": "markdown",
   "metadata": {
    "id": "U94hcmZaBzZ8"
   },
   "source": [
    "#### Model has a best validation accuracy of 76% and training accuracy of 75%. Also, we were able to reduce the parameter size by half the earlier model. Let's trying to add more layers."
   ]
  },
  {
   "cell_type": "markdown",
   "metadata": {
    "id": "sSxiuqg1BzZ9"
   },
   "source": [
    "# Model 4 - Adding more layers"
   ]
  },
  {
   "cell_type": "code",
   "execution_count": null,
   "metadata": {
    "collapsed": true,
    "id": "TJ6GV3HfBzZ9"
   },
   "outputs": [],
   "source": [
    "class ModelConv3D4(ModelBuilder):\n",
    "    \n",
    "    def define_model(self,filtersize=(3,3,3),dense_neurons=64,dropout=0.25):\n",
    "\n",
    "        model = Sequential()\n",
    "        model.add(Conv3D(16, filtersize, padding='same',\n",
    "                 input_shape=(self.frames_to_sample,self.image_height,self.image_width,self.channels)))\n",
    "        model.add(Activation('relu'))\n",
    "        model.add(BatchNormalization())\n",
    "        \n",
    "        model.add(Conv3D(16, filtersize, padding='same',\n",
    "                 input_shape=(self.frames_to_sample,self.image_height,self.image_width,self.channels)))\n",
    "        model.add(Activation('relu'))\n",
    "        model.add(BatchNormalization())\n",
    "        \n",
    "        model.add(MaxPooling3D(pool_size=(2, 2, 2)))\n",
    "\n",
    "        model.add(Conv3D(32, filtersize, padding='same'))\n",
    "        model.add(Activation('relu'))\n",
    "        model.add(BatchNormalization())\n",
    "        \n",
    "        model.add(Conv3D(32, filtersize, padding='same'))\n",
    "        model.add(Activation('relu'))\n",
    "        model.add(BatchNormalization())\n",
    "        \n",
    "        model.add(MaxPooling3D(pool_size=(2, 2, 2)))\n",
    "\n",
    "        model.add(Conv3D(64, filtersize, padding='same'))\n",
    "        model.add(Activation('relu'))\n",
    "        model.add(BatchNormalization())\n",
    "        \n",
    "        model.add(Conv3D(64, filtersize, padding='same'))\n",
    "        model.add(Activation('relu'))\n",
    "        model.add(BatchNormalization())\n",
    "        \n",
    "        model.add(MaxPooling3D(pool_size=(2, 2, 2)))\n",
    "\n",
    "        model.add(Conv3D(128, filtersize, padding='same'))\n",
    "        model.add(Activation('relu'))\n",
    "        model.add(BatchNormalization())\n",
    "        \n",
    "        model.add(Conv3D(128, filtersize, padding='same'))\n",
    "        model.add(Activation('relu'))\n",
    "        model.add(BatchNormalization())\n",
    "        \n",
    "        model.add(MaxPooling3D(pool_size=(2, 2, 2)))\n",
    "        \n",
    "\n",
    "        model.add(Flatten())\n",
    "        model.add(Dense(dense_neurons,activation='relu'))\n",
    "        model.add(BatchNormalization())\n",
    "        model.add(Dropout(dropout))\n",
    "\n",
    "        model.add(Dense(dense_neurons,activation='relu'))\n",
    "        model.add(BatchNormalization())\n",
    "        model.add(Dropout(dropout))\n",
    "\n",
    "\n",
    "        model.add(Dense(self.num_classes,activation='softmax'))\n",
    "\n",
    "        optimiser = tf.keras.optimizers.Adam()\n",
    "        model.compile(optimizer=optimiser, loss='categorical_crossentropy', metrics=['categorical_accuracy'])\n",
    "        return model"
   ]
  },
  {
   "cell_type": "code",
   "execution_count": null,
   "metadata": {
    "colab": {
     "base_uri": "https://localhost:8080/"
    },
    "executionInfo": {
     "elapsed": 38,
     "status": "ok",
     "timestamp": 1640633674271,
     "user": {
      "displayName": "Mehul Kumawat",
      "photoUrl": "https://lh3.googleusercontent.com/a/default-user=s64",
      "userId": "14358707599276366243"
     },
     "user_tz": -330
    },
    "id": "GhyZ3JOvBzZ9",
    "outputId": "3948a9b6-cef6-40cc-f66f-d0faf0095582"
   },
   "outputs": [
    {
     "name": "stdout",
     "output_type": "stream",
     "text": [
      "Model: \"sequential_18\"\n",
      "_________________________________________________________________\n",
      " Layer (type)                Output Shape              Param #   \n",
      "=================================================================\n",
      " conv3d_72 (Conv3D)          (None, 16, 120, 120, 16)  1312      \n",
      "                                                                 \n",
      " activation_72 (Activation)  (None, 16, 120, 120, 16)  0         \n",
      "                                                                 \n",
      " batch_normalization_108 (Ba  (None, 16, 120, 120, 16)  64       \n",
      " tchNormalization)                                               \n",
      "                                                                 \n",
      " conv3d_73 (Conv3D)          (None, 16, 120, 120, 16)  6928      \n",
      "                                                                 \n",
      " activation_73 (Activation)  (None, 16, 120, 120, 16)  0         \n",
      "                                                                 \n",
      " batch_normalization_109 (Ba  (None, 16, 120, 120, 16)  64       \n",
      " tchNormalization)                                               \n",
      "                                                                 \n",
      " max_pooling3d_72 (MaxPoolin  (None, 8, 60, 60, 16)    0         \n",
      " g3D)                                                            \n",
      "                                                                 \n",
      " conv3d_74 (Conv3D)          (None, 8, 60, 60, 32)     13856     \n",
      "                                                                 \n",
      " activation_74 (Activation)  (None, 8, 60, 60, 32)     0         \n",
      "                                                                 \n",
      " batch_normalization_110 (Ba  (None, 8, 60, 60, 32)    128       \n",
      " tchNormalization)                                               \n",
      "                                                                 \n",
      " conv3d_75 (Conv3D)          (None, 8, 60, 60, 32)     27680     \n",
      "                                                                 \n",
      " activation_75 (Activation)  (None, 8, 60, 60, 32)     0         \n",
      "                                                                 \n",
      " batch_normalization_111 (Ba  (None, 8, 60, 60, 32)    128       \n",
      " tchNormalization)                                               \n",
      "                                                                 \n",
      " max_pooling3d_73 (MaxPoolin  (None, 4, 30, 30, 32)    0         \n",
      " g3D)                                                            \n",
      "                                                                 \n",
      " conv3d_76 (Conv3D)          (None, 4, 30, 30, 64)     55360     \n",
      "                                                                 \n",
      " activation_76 (Activation)  (None, 4, 30, 30, 64)     0         \n",
      "                                                                 \n",
      " batch_normalization_112 (Ba  (None, 4, 30, 30, 64)    256       \n",
      " tchNormalization)                                               \n",
      "                                                                 \n",
      " conv3d_77 (Conv3D)          (None, 4, 30, 30, 64)     110656    \n",
      "                                                                 \n",
      " activation_77 (Activation)  (None, 4, 30, 30, 64)     0         \n",
      "                                                                 \n",
      " batch_normalization_113 (Ba  (None, 4, 30, 30, 64)    256       \n",
      " tchNormalization)                                               \n",
      "                                                                 \n",
      " max_pooling3d_74 (MaxPoolin  (None, 2, 15, 15, 64)    0         \n",
      " g3D)                                                            \n",
      "                                                                 \n",
      " conv3d_78 (Conv3D)          (None, 2, 15, 15, 128)    221312    \n",
      "                                                                 \n",
      " activation_78 (Activation)  (None, 2, 15, 15, 128)    0         \n",
      "                                                                 \n",
      " batch_normalization_114 (Ba  (None, 2, 15, 15, 128)   512       \n",
      " tchNormalization)                                               \n",
      "                                                                 \n",
      " conv3d_79 (Conv3D)          (None, 2, 15, 15, 128)    442496    \n",
      "                                                                 \n",
      " activation_79 (Activation)  (None, 2, 15, 15, 128)    0         \n",
      "                                                                 \n",
      " batch_normalization_115 (Ba  (None, 2, 15, 15, 128)   512       \n",
      " tchNormalization)                                               \n",
      "                                                                 \n",
      " max_pooling3d_75 (MaxPoolin  (None, 1, 7, 7, 128)     0         \n",
      " g3D)                                                            \n",
      "                                                                 \n",
      " flatten_18 (Flatten)        (None, 6272)              0         \n",
      "                                                                 \n",
      " dense_54 (Dense)            (None, 256)               1605888   \n",
      "                                                                 \n",
      " batch_normalization_116 (Ba  (None, 256)              1024      \n",
      " tchNormalization)                                               \n",
      "                                                                 \n",
      " dropout_36 (Dropout)        (None, 256)               0         \n",
      "                                                                 \n",
      " dense_55 (Dense)            (None, 256)               65792     \n",
      "                                                                 \n",
      " batch_normalization_117 (Ba  (None, 256)              1024      \n",
      " tchNormalization)                                               \n",
      "                                                                 \n",
      " dropout_37 (Dropout)        (None, 256)               0         \n",
      "                                                                 \n",
      " dense_56 (Dense)            (None, 5)                 1285      \n",
      "                                                                 \n",
      "=================================================================\n",
      "Total params: 2,556,533\n",
      "Trainable params: 2,554,549\n",
      "Non-trainable params: 1,984\n",
      "_________________________________________________________________\n"
     ]
    }
   ],
   "source": [
    "conv_3d4=ModelConv3D4()\n",
    "conv_3d4.initialize_path(project_folder)\n",
    "conv_3d4.initialize_image_properties(image_height=120,image_width=120)\n",
    "conv_3d4.initialize_hyperparams(frames_to_sample=16,batch_size=20,num_epochs=30)\n",
    "conv_3d4_model=conv_3d4.define_model(filtersize=(3,3,3),dense_neurons=256,dropout=0.5)\n",
    "conv_3d4_model.summary()"
   ]
  },
  {
   "cell_type": "code",
   "execution_count": null,
   "metadata": {
    "colab": {
     "base_uri": "https://localhost:8080/"
    },
    "executionInfo": {
     "elapsed": 1584914,
     "status": "ok",
     "timestamp": 1640635259152,
     "user": {
      "displayName": "Mehul Kumawat",
      "photoUrl": "https://lh3.googleusercontent.com/a/default-user=s64",
      "userId": "14358707599276366243"
     },
     "user_tz": -330
    },
    "id": "ca3xBsSfBzZ-",
    "outputId": "7b0c2b77-ff21-4864-da54-b33d214b8a06"
   },
   "outputs": [
    {
     "name": "stdout",
     "output_type": "stream",
     "text": [
      "Total Params: 2556533\n",
      "Epoch 1/30\n",
      "34/34 [==============================] - ETA: 0s - loss: 1.9954 - categorical_accuracy: 0.3793\n",
      "Epoch 00001: saving model to /content/drive/MyDrive/Gesture/Checkpoints/model_init_2021-12-2719_34_33.799713/model-00001-1.99536-0.37934-2.48075-0.21000.h5\n",
      "34/34 [==============================] - 58s 2s/step - loss: 1.9954 - categorical_accuracy: 0.3793 - val_loss: 2.4808 - val_categorical_accuracy: 0.2100 - lr: 0.0010\n",
      "Epoch 2/30\n",
      "34/34 [==============================] - ETA: 0s - loss: 1.5587 - categorical_accuracy: 0.4774\n",
      "Epoch 00002: saving model to /content/drive/MyDrive/Gesture/Checkpoints/model_init_2021-12-2719_34_33.799713/model-00002-1.55866-0.47738-3.41019-0.22000.h5\n",
      "34/34 [==============================] - 53s 2s/step - loss: 1.5587 - categorical_accuracy: 0.4774 - val_loss: 3.4102 - val_categorical_accuracy: 0.2200 - lr: 0.0010\n",
      "Epoch 3/30\n",
      "34/34 [==============================] - ETA: 0s - loss: 1.3279 - categorical_accuracy: 0.5460\n",
      "Epoch 00003: saving model to /content/drive/MyDrive/Gesture/Checkpoints/model_init_2021-12-2719_34_33.799713/model-00003-1.32786-0.54600-2.83455-0.20000.h5\n",
      "34/34 [==============================] - 53s 2s/step - loss: 1.3279 - categorical_accuracy: 0.5460 - val_loss: 2.8346 - val_categorical_accuracy: 0.2000 - lr: 0.0010\n",
      "Epoch 4/30\n",
      "34/34 [==============================] - ETA: 0s - loss: 1.2699 - categorical_accuracy: 0.5437\n",
      "Epoch 00004: saving model to /content/drive/MyDrive/Gesture/Checkpoints/model_init_2021-12-2719_34_33.799713/model-00004-1.26988-0.54374-4.92300-0.22000.h5\n",
      "34/34 [==============================] - 54s 2s/step - loss: 1.2699 - categorical_accuracy: 0.5437 - val_loss: 4.9230 - val_categorical_accuracy: 0.2200 - lr: 0.0010\n",
      "Epoch 5/30\n",
      "34/34 [==============================] - ETA: 0s - loss: 1.0658 - categorical_accuracy: 0.6033\n",
      "Epoch 00005: saving model to /content/drive/MyDrive/Gesture/Checkpoints/model_init_2021-12-2719_34_33.799713/model-00005-1.06578-0.60332-4.06733-0.27000.h5\n",
      "\n",
      "Epoch 00005: ReduceLROnPlateau reducing learning rate to 0.00020000000949949026.\n",
      "34/34 [==============================] - 53s 2s/step - loss: 1.0658 - categorical_accuracy: 0.6033 - val_loss: 4.0673 - val_categorical_accuracy: 0.2700 - lr: 0.0010\n",
      "Epoch 6/30\n",
      "34/34 [==============================] - ETA: 0s - loss: 0.9617 - categorical_accuracy: 0.6471\n",
      "Epoch 00006: saving model to /content/drive/MyDrive/Gesture/Checkpoints/model_init_2021-12-2719_34_33.799713/model-00006-0.96173-0.64706-4.18932-0.21000.h5\n",
      "34/34 [==============================] - 54s 2s/step - loss: 0.9617 - categorical_accuracy: 0.6471 - val_loss: 4.1893 - val_categorical_accuracy: 0.2100 - lr: 2.0000e-04\n",
      "Epoch 7/30\n",
      "34/34 [==============================] - ETA: 0s - loss: 0.8613 - categorical_accuracy: 0.6765\n",
      "Epoch 00007: saving model to /content/drive/MyDrive/Gesture/Checkpoints/model_init_2021-12-2719_34_33.799713/model-00007-0.86125-0.67647-4.14170-0.22000.h5\n",
      "34/34 [==============================] - 54s 2s/step - loss: 0.8613 - categorical_accuracy: 0.6765 - val_loss: 4.1417 - val_categorical_accuracy: 0.2200 - lr: 2.0000e-04\n",
      "Epoch 8/30\n",
      "34/34 [==============================] - ETA: 0s - loss: 0.7781 - categorical_accuracy: 0.7051\n",
      "Epoch 00008: saving model to /content/drive/MyDrive/Gesture/Checkpoints/model_init_2021-12-2719_34_33.799713/model-00008-0.77808-0.70513-5.55760-0.23000.h5\n",
      "34/34 [==============================] - 54s 2s/step - loss: 0.7781 - categorical_accuracy: 0.7051 - val_loss: 5.5576 - val_categorical_accuracy: 0.2300 - lr: 2.0000e-04\n",
      "Epoch 9/30\n",
      "34/34 [==============================] - ETA: 0s - loss: 0.8357 - categorical_accuracy: 0.6878\n",
      "Epoch 00009: saving model to /content/drive/MyDrive/Gesture/Checkpoints/model_init_2021-12-2719_34_33.799713/model-00009-0.83566-0.68778-3.91004-0.21000.h5\n",
      "\n",
      "Epoch 00009: ReduceLROnPlateau reducing learning rate to 4.0000001899898055e-05.\n",
      "34/34 [==============================] - 53s 2s/step - loss: 0.8357 - categorical_accuracy: 0.6878 - val_loss: 3.9100 - val_categorical_accuracy: 0.2100 - lr: 2.0000e-04\n",
      "Epoch 10/30\n",
      "34/34 [==============================] - ETA: 0s - loss: 0.7952 - categorical_accuracy: 0.7119\n",
      "Epoch 00010: saving model to /content/drive/MyDrive/Gesture/Checkpoints/model_init_2021-12-2719_34_33.799713/model-00010-0.79517-0.71192-3.52144-0.21000.h5\n",
      "34/34 [==============================] - 54s 2s/step - loss: 0.7952 - categorical_accuracy: 0.7119 - val_loss: 3.5214 - val_categorical_accuracy: 0.2100 - lr: 4.0000e-05\n",
      "Epoch 11/30\n",
      "34/34 [==============================] - ETA: 0s - loss: 0.7016 - categorical_accuracy: 0.7519\n",
      "Epoch 00011: saving model to /content/drive/MyDrive/Gesture/Checkpoints/model_init_2021-12-2719_34_33.799713/model-00011-0.70156-0.75189-3.11228-0.28000.h5\n",
      "34/34 [==============================] - 53s 2s/step - loss: 0.7016 - categorical_accuracy: 0.7519 - val_loss: 3.1123 - val_categorical_accuracy: 0.2800 - lr: 4.0000e-05\n",
      "Epoch 12/30\n",
      "34/34 [==============================] - ETA: 0s - loss: 0.6742 - categorical_accuracy: 0.7459\n",
      "Epoch 00012: saving model to /content/drive/MyDrive/Gesture/Checkpoints/model_init_2021-12-2719_34_33.799713/model-00012-0.67416-0.74585-2.73669-0.31000.h5\n",
      "34/34 [==============================] - 52s 2s/step - loss: 0.6742 - categorical_accuracy: 0.7459 - val_loss: 2.7367 - val_categorical_accuracy: 0.3100 - lr: 4.0000e-05\n",
      "Epoch 13/30\n",
      "34/34 [==============================] - ETA: 0s - loss: 0.6957 - categorical_accuracy: 0.7368\n",
      "Epoch 00013: saving model to /content/drive/MyDrive/Gesture/Checkpoints/model_init_2021-12-2719_34_33.799713/model-00013-0.69574-0.73680-2.61285-0.33000.h5\n",
      "\n",
      "Epoch 00013: ReduceLROnPlateau reducing learning rate to 8.000000525498762e-06.\n",
      "34/34 [==============================] - 52s 2s/step - loss: 0.6957 - categorical_accuracy: 0.7368 - val_loss: 2.6129 - val_categorical_accuracy: 0.3300 - lr: 4.0000e-05\n",
      "Epoch 14/30\n",
      "34/34 [==============================] - ETA: 0s - loss: 0.6821 - categorical_accuracy: 0.7489\n",
      "Epoch 00014: saving model to /content/drive/MyDrive/Gesture/Checkpoints/model_init_2021-12-2719_34_33.799713/model-00014-0.68210-0.74887-1.82660-0.40000.h5\n",
      "34/34 [==============================] - 53s 2s/step - loss: 0.6821 - categorical_accuracy: 0.7489 - val_loss: 1.8266 - val_categorical_accuracy: 0.4000 - lr: 8.0000e-06\n",
      "Epoch 15/30\n",
      "34/34 [==============================] - ETA: 0s - loss: 0.6372 - categorical_accuracy: 0.7511\n",
      "Epoch 00015: saving model to /content/drive/MyDrive/Gesture/Checkpoints/model_init_2021-12-2719_34_33.799713/model-00015-0.63723-0.75113-1.41642-0.52000.h5\n",
      "34/34 [==============================] - 53s 2s/step - loss: 0.6372 - categorical_accuracy: 0.7511 - val_loss: 1.4164 - val_categorical_accuracy: 0.5200 - lr: 8.0000e-06\n",
      "Epoch 16/30\n",
      "34/34 [==============================] - ETA: 0s - loss: 0.6698 - categorical_accuracy: 0.7428\n",
      "Epoch 00016: saving model to /content/drive/MyDrive/Gesture/Checkpoints/model_init_2021-12-2719_34_33.799713/model-00016-0.66982-0.74284-1.26400-0.53000.h5\n",
      "34/34 [==============================] - 53s 2s/step - loss: 0.6698 - categorical_accuracy: 0.7428 - val_loss: 1.2640 - val_categorical_accuracy: 0.5300 - lr: 8.0000e-06\n",
      "Epoch 17/30\n",
      "34/34 [==============================] - ETA: 0s - loss: 0.6734 - categorical_accuracy: 0.7549\n",
      "Epoch 00017: saving model to /content/drive/MyDrive/Gesture/Checkpoints/model_init_2021-12-2719_34_33.799713/model-00017-0.67340-0.75490-1.10643-0.58000.h5\n",
      "34/34 [==============================] - 53s 2s/step - loss: 0.6734 - categorical_accuracy: 0.7549 - val_loss: 1.1064 - val_categorical_accuracy: 0.5800 - lr: 8.0000e-06\n",
      "Epoch 18/30\n",
      "34/34 [==============================] - ETA: 0s - loss: 0.7181 - categorical_accuracy: 0.7308\n",
      "Epoch 00018: saving model to /content/drive/MyDrive/Gesture/Checkpoints/model_init_2021-12-2719_34_33.799713/model-00018-0.71811-0.73077-0.85450-0.63000.h5\n",
      "34/34 [==============================] - 53s 2s/step - loss: 0.7181 - categorical_accuracy: 0.7308 - val_loss: 0.8545 - val_categorical_accuracy: 0.6300 - lr: 8.0000e-06\n",
      "Epoch 19/30\n",
      "34/34 [==============================] - ETA: 0s - loss: 0.6291 - categorical_accuracy: 0.7602\n",
      "Epoch 00019: saving model to /content/drive/MyDrive/Gesture/Checkpoints/model_init_2021-12-2719_34_33.799713/model-00019-0.62908-0.76018-0.92081-0.68000.h5\n",
      "34/34 [==============================] - 52s 2s/step - loss: 0.6291 - categorical_accuracy: 0.7602 - val_loss: 0.9208 - val_categorical_accuracy: 0.6800 - lr: 8.0000e-06\n",
      "Epoch 20/30\n",
      "34/34 [==============================] - ETA: 0s - loss: 0.6918 - categorical_accuracy: 0.7398\n",
      "Epoch 00020: saving model to /content/drive/MyDrive/Gesture/Checkpoints/model_init_2021-12-2719_34_33.799713/model-00020-0.69184-0.73982-0.77317-0.72000.h5\n",
      "34/34 [==============================] - 52s 2s/step - loss: 0.6918 - categorical_accuracy: 0.7398 - val_loss: 0.7732 - val_categorical_accuracy: 0.7200 - lr: 8.0000e-06\n",
      "Epoch 21/30\n",
      "34/34 [==============================] - ETA: 0s - loss: 0.6633 - categorical_accuracy: 0.7526\n",
      "Epoch 00021: saving model to /content/drive/MyDrive/Gesture/Checkpoints/model_init_2021-12-2719_34_33.799713/model-00021-0.66328-0.75264-0.72235-0.73000.h5\n",
      "34/34 [==============================] - 52s 2s/step - loss: 0.6633 - categorical_accuracy: 0.7526 - val_loss: 0.7223 - val_categorical_accuracy: 0.7300 - lr: 8.0000e-06\n",
      "Epoch 22/30\n",
      "34/34 [==============================] - ETA: 0s - loss: 0.7043 - categorical_accuracy: 0.7338\n",
      "Epoch 00022: saving model to /content/drive/MyDrive/Gesture/Checkpoints/model_init_2021-12-2719_34_33.799713/model-00022-0.70426-0.73379-0.73029-0.75000.h5\n",
      "34/34 [==============================] - 52s 2s/step - loss: 0.7043 - categorical_accuracy: 0.7338 - val_loss: 0.7303 - val_categorical_accuracy: 0.7500 - lr: 8.0000e-06\n",
      "Epoch 23/30\n",
      "34/34 [==============================] - ETA: 0s - loss: 0.7158 - categorical_accuracy: 0.7262\n",
      "Epoch 00023: saving model to /content/drive/MyDrive/Gesture/Checkpoints/model_init_2021-12-2719_34_33.799713/model-00023-0.71582-0.72624-0.70541-0.68000.h5\n",
      "34/34 [==============================] - 52s 2s/step - loss: 0.7158 - categorical_accuracy: 0.7262 - val_loss: 0.7054 - val_categorical_accuracy: 0.6800 - lr: 8.0000e-06\n",
      "Epoch 24/30\n",
      "34/34 [==============================] - ETA: 0s - loss: 0.6537 - categorical_accuracy: 0.7594\n",
      "Epoch 00024: saving model to /content/drive/MyDrive/Gesture/Checkpoints/model_init_2021-12-2719_34_33.799713/model-00024-0.65368-0.75943-0.64854-0.79000.h5\n",
      "34/34 [==============================] - 52s 2s/step - loss: 0.6537 - categorical_accuracy: 0.7594 - val_loss: 0.6485 - val_categorical_accuracy: 0.7900 - lr: 8.0000e-06\n",
      "Epoch 25/30\n",
      "34/34 [==============================] - ETA: 0s - loss: 0.6767 - categorical_accuracy: 0.7436\n",
      "Epoch 00025: saving model to /content/drive/MyDrive/Gesture/Checkpoints/model_init_2021-12-2719_34_33.799713/model-00025-0.67672-0.74359-0.63679-0.71000.h5\n",
      "34/34 [==============================] - 51s 2s/step - loss: 0.6767 - categorical_accuracy: 0.7436 - val_loss: 0.6368 - val_categorical_accuracy: 0.7100 - lr: 8.0000e-06\n",
      "Epoch 26/30\n",
      "34/34 [==============================] - ETA: 0s - loss: 0.6351 - categorical_accuracy: 0.7579\n",
      "Epoch 00026: saving model to /content/drive/MyDrive/Gesture/Checkpoints/model_init_2021-12-2719_34_33.799713/model-00026-0.63511-0.75792-0.67364-0.73000.h5\n",
      "34/34 [==============================] - 51s 2s/step - loss: 0.6351 - categorical_accuracy: 0.7579 - val_loss: 0.6736 - val_categorical_accuracy: 0.7300 - lr: 8.0000e-06\n",
      "Epoch 27/30\n",
      "34/34 [==============================] - ETA: 0s - loss: 0.6277 - categorical_accuracy: 0.7730\n",
      "Epoch 00027: saving model to /content/drive/MyDrive/Gesture/Checkpoints/model_init_2021-12-2719_34_33.799713/model-00027-0.62775-0.77300-0.61774-0.73000.h5\n",
      "34/34 [==============================] - 51s 2s/step - loss: 0.6277 - categorical_accuracy: 0.7730 - val_loss: 0.6177 - val_categorical_accuracy: 0.7300 - lr: 8.0000e-06\n",
      "Epoch 28/30\n",
      "34/34 [==============================] - ETA: 0s - loss: 0.6529 - categorical_accuracy: 0.7541\n",
      "Epoch 00028: saving model to /content/drive/MyDrive/Gesture/Checkpoints/model_init_2021-12-2719_34_33.799713/model-00028-0.65292-0.75415-0.70607-0.71000.h5\n",
      "34/34 [==============================] - 51s 2s/step - loss: 0.6529 - categorical_accuracy: 0.7541 - val_loss: 0.7061 - val_categorical_accuracy: 0.7100 - lr: 8.0000e-06\n",
      "Epoch 29/30\n",
      "34/34 [==============================] - ETA: 0s - loss: 0.6297 - categorical_accuracy: 0.7753\n",
      "Epoch 00029: saving model to /content/drive/MyDrive/Gesture/Checkpoints/model_init_2021-12-2719_34_33.799713/model-00029-0.62966-0.77526-0.67904-0.68000.h5\n",
      "34/34 [==============================] - 52s 2s/step - loss: 0.6297 - categorical_accuracy: 0.7753 - val_loss: 0.6790 - val_categorical_accuracy: 0.6800 - lr: 8.0000e-06\n",
      "Epoch 30/30\n",
      "34/34 [==============================] - ETA: 0s - loss: 0.5910 - categorical_accuracy: 0.7843\n",
      "Epoch 00030: saving model to /content/drive/MyDrive/Gesture/Checkpoints/model_init_2021-12-2719_34_33.799713/model-00030-0.59100-0.78431-0.55439-0.75000.h5\n",
      "34/34 [==============================] - 52s 2s/step - loss: 0.5910 - categorical_accuracy: 0.7843 - val_loss: 0.5544 - val_categorical_accuracy: 0.7500 - lr: 8.0000e-06\n"
     ]
    }
   ],
   "source": [
    "print(\"Total Params:\", conv_3d4_model.count_params())\n",
    "history_model4=conv_3d4.train_model(conv_3d4_model,augment_data=True)"
   ]
  },
  {
   "cell_type": "code",
   "execution_count": null,
   "metadata": {
    "colab": {
     "base_uri": "https://localhost:8080/",
     "height": 265
    },
    "executionInfo": {
     "elapsed": 30,
     "status": "ok",
     "timestamp": 1640635259158,
     "user": {
      "displayName": "Mehul Kumawat",
      "photoUrl": "https://lh3.googleusercontent.com/a/default-user=s64",
      "userId": "14358707599276366243"
     },
     "user_tz": -330
    },
    "id": "SHDfLC_IBzZ-",
    "outputId": "72d34ffd-2bd2-412e-ae40-4fda23d2d5ee"
   },
   "outputs": [
    {
     "data": {
      "image/png": "[encoded data removed]",
      "text/plain": [
       "<Figure size 1080x288 with 2 Axes>"
      ]
     },
     "metadata": {
      "needs_background": "light"
     },
     "output_type": "display_data"
    }
   ],
   "source": [
    "plot(history_model4)"
   ]
  },
  {
   "cell_type": "markdown",
   "metadata": {
    "id": "c5fayv_WBzZ-"
   },
   "source": [
    "##### With more layers we dont see much performance improvement. We get a best validation accuracy of 76% . Let's try adding dropouts at the convolution layers"
   ]
  },
  {
   "cell_type": "markdown",
   "metadata": {
    "id": "NZsO_dPyBzZ-"
   },
   "source": [
    "# Model 5 Adding dropout at convolution layers"
   ]
  },
  {
   "cell_type": "code",
   "execution_count": null,
   "metadata": {
    "collapsed": true,
    "id": "M4BBdGteBzZ_"
   },
   "outputs": [],
   "source": [
    "class ModelConv3D5(ModelBuilder):\n",
    "    \n",
    "    def define_model(self,filtersize=(3,3,3),dense_neurons=64,dropout=0.25):\n",
    "\n",
    "        model = Sequential()\n",
    "        model.add(Conv3D(16, filtersize, padding='same',\n",
    "                 input_shape=(self.frames_to_sample,self.image_height,self.image_width,self.channels)))\n",
    "        model.add(Activation('relu'))\n",
    "        model.add(BatchNormalization())\n",
    "        \n",
    "        model.add(Conv3D(16, filtersize, padding='same',\n",
    "                 input_shape=(self.frames_to_sample,self.image_height,self.image_width,self.channels)))\n",
    "        model.add(Activation('relu'))\n",
    "        model.add(BatchNormalization())\n",
    "        \n",
    "        model.add(MaxPooling3D(pool_size=(2, 2, 2)))\n",
    "        model.add(Dropout(dropout))\n",
    "\n",
    "        model.add(Conv3D(32, filtersize, padding='same'))\n",
    "        model.add(Activation('relu'))\n",
    "        model.add(BatchNormalization())\n",
    "        \n",
    "        model.add(Conv3D(32, filtersize, padding='same'))\n",
    "        model.add(Activation('relu'))\n",
    "        model.add(BatchNormalization())\n",
    "        \n",
    "        model.add(MaxPooling3D(pool_size=(2, 2, 2)))\n",
    "        model.add(Dropout(dropout))\n",
    "\n",
    "        model.add(Conv3D(64, filtersize, padding='same'))\n",
    "        model.add(Activation('relu'))\n",
    "        model.add(BatchNormalization())\n",
    "        \n",
    "        model.add(Conv3D(64, filtersize, padding='same'))\n",
    "        model.add(Activation('relu'))\n",
    "        model.add(BatchNormalization())\n",
    "        \n",
    "        model.add(MaxPooling3D(pool_size=(2, 2, 2)))\n",
    "        model.add(Dropout(dropout))\n",
    "\n",
    "        model.add(Conv3D(128, filtersize, padding='same'))\n",
    "        model.add(Activation('relu'))\n",
    "        model.add(BatchNormalization())\n",
    "        \n",
    "        model.add(Conv3D(128, filtersize, padding='same'))\n",
    "        model.add(Activation('relu'))\n",
    "        model.add(BatchNormalization())\n",
    "        \n",
    "        model.add(MaxPooling3D(pool_size=(2, 2, 2)))\n",
    "        model.add(Dropout(dropout))\n",
    "        \n",
    "        model.add(Flatten())\n",
    "        model.add(Dense(dense_neurons,activation='relu'))\n",
    "        model.add(BatchNormalization())\n",
    "        model.add(Dropout(dropout))\n",
    "\n",
    "        model.add(Dense(dense_neurons,activation='relu'))\n",
    "        model.add(BatchNormalization())\n",
    "        model.add(Dropout(dropout))\n",
    "\n",
    "\n",
    "        model.add(Dense(self.num_classes,activation='softmax'))\n",
    "\n",
    "        optimiser = tf.keras.optimizers.Adam()\n",
    "        model.compile(optimizer=optimiser, loss='categorical_crossentropy', metrics=['categorical_accuracy'])\n",
    "        return model"
   ]
  },
  {
   "cell_type": "code",
   "execution_count": null,
   "metadata": {
    "colab": {
     "base_uri": "https://localhost:8080/"
    },
    "executionInfo": {
     "elapsed": 752,
     "status": "ok",
     "timestamp": 1640635259895,
     "user": {
      "displayName": "Mehul Kumawat",
      "photoUrl": "https://lh3.googleusercontent.com/a/default-user=s64",
      "userId": "14358707599276366243"
     },
     "user_tz": -330
    },
    "id": "U1o_Ogj2BzZ_",
    "outputId": "8d407c2b-7d40-4c2c-d1e8-2c234e47bb1f"
   },
   "outputs": [
    {
     "name": "stdout",
     "output_type": "stream",
     "text": [
      "Model: \"sequential_19\"\n",
      "_________________________________________________________________\n",
      " Layer (type)                Output Shape              Param #   \n",
      "=================================================================\n",
      " conv3d_80 (Conv3D)          (None, 16, 120, 120, 16)  1312      \n",
      "                                                                 \n",
      " activation_80 (Activation)  (None, 16, 120, 120, 16)  0         \n",
      "                                                                 \n",
      " batch_normalization_118 (Ba  (None, 16, 120, 120, 16)  64       \n",
      " tchNormalization)                                               \n",
      "                                                                 \n",
      " conv3d_81 (Conv3D)          (None, 16, 120, 120, 16)  6928      \n",
      "                                                                 \n",
      " activation_81 (Activation)  (None, 16, 120, 120, 16)  0         \n",
      "                                                                 \n",
      " batch_normalization_119 (Ba  (None, 16, 120, 120, 16)  64       \n",
      " tchNormalization)                                               \n",
      "                                                                 \n",
      " max_pooling3d_76 (MaxPoolin  (None, 8, 60, 60, 16)    0         \n",
      " g3D)                                                            \n",
      "                                                                 \n",
      " dropout_38 (Dropout)        (None, 8, 60, 60, 16)     0         \n",
      "                                                                 \n",
      " conv3d_82 (Conv3D)          (None, 8, 60, 60, 32)     13856     \n",
      "                                                                 \n",
      " activation_82 (Activation)  (None, 8, 60, 60, 32)     0         \n",
      "                                                                 \n",
      " batch_normalization_120 (Ba  (None, 8, 60, 60, 32)    128       \n",
      " tchNormalization)                                               \n",
      "                                                                 \n",
      " conv3d_83 (Conv3D)          (None, 8, 60, 60, 32)     27680     \n",
      "                                                                 \n",
      " activation_83 (Activation)  (None, 8, 60, 60, 32)     0         \n",
      "                                                                 \n",
      " batch_normalization_121 (Ba  (None, 8, 60, 60, 32)    128       \n",
      " tchNormalization)                                               \n",
      "                                                                 \n",
      " max_pooling3d_77 (MaxPoolin  (None, 4, 30, 30, 32)    0         \n",
      " g3D)                                                            \n",
      "                                                                 \n",
      " dropout_39 (Dropout)        (None, 4, 30, 30, 32)     0         \n",
      "                                                                 \n",
      " conv3d_84 (Conv3D)          (None, 4, 30, 30, 64)     55360     \n",
      "                                                                 \n",
      " activation_84 (Activation)  (None, 4, 30, 30, 64)     0         \n",
      "                                                                 \n",
      " batch_normalization_122 (Ba  (None, 4, 30, 30, 64)    256       \n",
      " tchNormalization)                                               \n",
      "                                                                 \n",
      " conv3d_85 (Conv3D)          (None, 4, 30, 30, 64)     110656    \n",
      "                                                                 \n",
      " activation_85 (Activation)  (None, 4, 30, 30, 64)     0         \n",
      "                                                                 \n",
      " batch_normalization_123 (Ba  (None, 4, 30, 30, 64)    256       \n",
      " tchNormalization)                                               \n",
      "                                                                 \n",
      " max_pooling3d_78 (MaxPoolin  (None, 2, 15, 15, 64)    0         \n",
      " g3D)                                                            \n",
      "                                                                 \n",
      " dropout_40 (Dropout)        (None, 2, 15, 15, 64)     0         \n",
      "                                                                 \n",
      " conv3d_86 (Conv3D)          (None, 2, 15, 15, 128)    221312    \n",
      "                                                                 \n",
      " activation_86 (Activation)  (None, 2, 15, 15, 128)    0         \n",
      "                                                                 \n",
      " batch_normalization_124 (Ba  (None, 2, 15, 15, 128)   512       \n",
      " tchNormalization)                                               \n",
      "                                                                 \n",
      " conv3d_87 (Conv3D)          (None, 2, 15, 15, 128)    442496    \n",
      "                                                                 \n",
      " activation_87 (Activation)  (None, 2, 15, 15, 128)    0         \n",
      "                                                                 \n",
      " batch_normalization_125 (Ba  (None, 2, 15, 15, 128)   512       \n",
      " tchNormalization)                                               \n",
      "                                                                 \n",
      " max_pooling3d_79 (MaxPoolin  (None, 1, 7, 7, 128)     0         \n",
      " g3D)                                                            \n",
      "                                                                 \n",
      " dropout_41 (Dropout)        (None, 1, 7, 7, 128)      0         \n",
      "                                                                 \n",
      " flatten_19 (Flatten)        (None, 6272)              0         \n",
      "                                                                 \n",
      " dense_57 (Dense)            (None, 256)               1605888   \n",
      "                                                                 \n",
      " batch_normalization_126 (Ba  (None, 256)              1024      \n",
      " tchNormalization)                                               \n",
      "                                                                 \n",
      " dropout_42 (Dropout)        (None, 256)               0         \n",
      "                                                                 \n",
      " dense_58 (Dense)            (None, 256)               65792     \n",
      "                                                                 \n",
      " batch_normalization_127 (Ba  (None, 256)              1024      \n",
      " tchNormalization)                                               \n",
      "                                                                 \n",
      " dropout_43 (Dropout)        (None, 256)               0         \n",
      "                                                                 \n",
      " dense_59 (Dense)            (None, 5)                 1285      \n",
      "                                                                 \n",
      "=================================================================\n",
      "Total params: 2,556,533\n",
      "Trainable params: 2,554,549\n",
      "Non-trainable params: 1,984\n",
      "_________________________________________________________________\n"
     ]
    }
   ],
   "source": [
    "conv_3d5=ModelConv3D5()\n",
    "conv_3d5.initialize_path(project_folder)\n",
    "conv_3d5.initialize_image_properties(image_height=120,image_width=120)\n",
    "conv_3d5.initialize_hyperparams(frames_to_sample=16,batch_size=20,num_epochs=22)\n",
    "conv_3d5_model=conv_3d5.define_model(filtersize=(3,3,3),dense_neurons=256,dropout=0.25)\n",
    "conv_3d5_model.summary()"
   ]
  },
  {
   "cell_type": "code",
   "execution_count": null,
   "metadata": {
    "colab": {
     "base_uri": "https://localhost:8080/"
    },
    "executionInfo": {
     "elapsed": 1120119,
     "status": "ok",
     "timestamp": 1640636379994,
     "user": {
      "displayName": "Mehul Kumawat",
      "photoUrl": "https://lh3.googleusercontent.com/a/default-user=s64",
      "userId": "14358707599276366243"
     },
     "user_tz": -330
    },
    "id": "zdM60PSJBzZ_",
    "outputId": "69aac580-bdd8-4df1-99a4-e01892815f4a"
   },
   "outputs": [
    {
     "name": "stdout",
     "output_type": "stream",
     "text": [
      "Total Params: 2556533\n",
      "Epoch 1/22\n",
      "34/34 [==============================] - ETA: 0s - loss: 1.7222 - categorical_accuracy: 0.4005\n",
      "Epoch 00001: saving model to /content/drive/MyDrive/Gesture/Checkpoints/model_init_2021-12-2720_00_58.665313/model-00001-1.72223-0.40045-1.93202-0.16000.h5\n",
      "34/34 [==============================] - 54s 2s/step - loss: 1.7222 - categorical_accuracy: 0.4005 - val_loss: 1.9320 - val_categorical_accuracy: 0.1600 - lr: 0.0010\n",
      "Epoch 2/22\n",
      "34/34 [==============================] - ETA: 0s - loss: 1.2947 - categorical_accuracy: 0.5173\n",
      "Epoch 00002: saving model to /content/drive/MyDrive/Gesture/Checkpoints/model_init_2021-12-2720_00_58.665313/model-00002-1.29472-0.51735-1.95544-0.23000.h5\n",
      "34/34 [==============================] - 51s 2s/step - loss: 1.2947 - categorical_accuracy: 0.5173 - val_loss: 1.9554 - val_categorical_accuracy: 0.2300 - lr: 0.0010\n",
      "Epoch 3/22\n",
      "34/34 [==============================] - ETA: 0s - loss: 1.1504 - categorical_accuracy: 0.5513\n",
      "Epoch 00003: saving model to /content/drive/MyDrive/Gesture/Checkpoints/model_init_2021-12-2720_00_58.665313/model-00003-1.15039-0.55128-2.37258-0.15000.h5\n",
      "34/34 [==============================] - 51s 2s/step - loss: 1.1504 - categorical_accuracy: 0.5513 - val_loss: 2.3726 - val_categorical_accuracy: 0.1500 - lr: 0.0010\n",
      "Epoch 4/22\n",
      "34/34 [==============================] - ETA: 0s - loss: 1.0331 - categorical_accuracy: 0.6063\n",
      "Epoch 00004: saving model to /content/drive/MyDrive/Gesture/Checkpoints/model_init_2021-12-2720_00_58.665313/model-00004-1.03312-0.60633-3.13683-0.21000.h5\n",
      "34/34 [==============================] - 50s 2s/step - loss: 1.0331 - categorical_accuracy: 0.6063 - val_loss: 3.1368 - val_categorical_accuracy: 0.2100 - lr: 0.0010\n",
      "Epoch 5/22\n",
      "34/34 [==============================] - ETA: 0s - loss: 0.9042 - categorical_accuracy: 0.6478\n",
      "Epoch 00005: saving model to /content/drive/MyDrive/Gesture/Checkpoints/model_init_2021-12-2720_00_58.665313/model-00005-0.90422-0.64781-3.20605-0.21000.h5\n",
      "\n",
      "Epoch 00005: ReduceLROnPlateau reducing learning rate to 0.00020000000949949026.\n",
      "34/34 [==============================] - 50s 1s/step - loss: 0.9042 - categorical_accuracy: 0.6478 - val_loss: 3.2060 - val_categorical_accuracy: 0.2100 - lr: 0.0010\n",
      "Epoch 6/22\n",
      "34/34 [==============================] - ETA: 0s - loss: 0.7082 - categorical_accuracy: 0.7398\n",
      "Epoch 00006: saving model to /content/drive/MyDrive/Gesture/Checkpoints/model_init_2021-12-2720_00_58.665313/model-00006-0.70817-0.73982-4.40967-0.21000.h5\n",
      "34/34 [==============================] - 51s 2s/step - loss: 0.7082 - categorical_accuracy: 0.7398 - val_loss: 4.4097 - val_categorical_accuracy: 0.2100 - lr: 2.0000e-04\n",
      "Epoch 7/22\n",
      "34/34 [==============================] - ETA: 0s - loss: 0.6298 - categorical_accuracy: 0.7526\n",
      "Epoch 00007: saving model to /content/drive/MyDrive/Gesture/Checkpoints/model_init_2021-12-2720_00_58.665313/model-00007-0.62980-0.75264-5.12284-0.22000.h5\n",
      "34/34 [==============================] - 51s 2s/step - loss: 0.6298 - categorical_accuracy: 0.7526 - val_loss: 5.1228 - val_categorical_accuracy: 0.2200 - lr: 2.0000e-04\n",
      "Epoch 8/22\n",
      "34/34 [==============================] - ETA: 0s - loss: 0.5816 - categorical_accuracy: 0.7783\n",
      "Epoch 00008: saving model to /content/drive/MyDrive/Gesture/Checkpoints/model_init_2021-12-2720_00_58.665313/model-00008-0.58158-0.77828-4.07662-0.26000.h5\n",
      "34/34 [==============================] - 51s 2s/step - loss: 0.5816 - categorical_accuracy: 0.7783 - val_loss: 4.0766 - val_categorical_accuracy: 0.2600 - lr: 2.0000e-04\n",
      "Epoch 9/22\n",
      "34/34 [==============================] - ETA: 0s - loss: 0.5354 - categorical_accuracy: 0.7836\n",
      "Epoch 00009: saving model to /content/drive/MyDrive/Gesture/Checkpoints/model_init_2021-12-2720_00_58.665313/model-00009-0.53539-0.78356-4.41940-0.20000.h5\n",
      "\n",
      "Epoch 00009: ReduceLROnPlateau reducing learning rate to 4.0000001899898055e-05.\n",
      "34/34 [==============================] - 50s 1s/step - loss: 0.5354 - categorical_accuracy: 0.7836 - val_loss: 4.4194 - val_categorical_accuracy: 0.2000 - lr: 2.0000e-04\n",
      "Epoch 10/22\n",
      "34/34 [==============================] - ETA: 0s - loss: 0.5206 - categorical_accuracy: 0.7994\n",
      "Epoch 00010: saving model to /content/drive/MyDrive/Gesture/Checkpoints/model_init_2021-12-2720_00_58.665313/model-00010-0.52060-0.79940-4.29036-0.19000.h5\n",
      "34/34 [==============================] - 51s 2s/step - loss: 0.5206 - categorical_accuracy: 0.7994 - val_loss: 4.2904 - val_categorical_accuracy: 0.1900 - lr: 4.0000e-05\n",
      "Epoch 11/22\n",
      "34/34 [==============================] - ETA: 0s - loss: 0.5014 - categorical_accuracy: 0.8115\n",
      "Epoch 00011: saving model to /content/drive/MyDrive/Gesture/Checkpoints/model_init_2021-12-2720_00_58.665313/model-00011-0.50143-0.81146-4.01258-0.21000.h5\n",
      "34/34 [==============================] - 50s 1s/step - loss: 0.5014 - categorical_accuracy: 0.8115 - val_loss: 4.0126 - val_categorical_accuracy: 0.2100 - lr: 4.0000e-05\n",
      "Epoch 12/22\n",
      "34/34 [==============================] - ETA: 0s - loss: 0.4984 - categorical_accuracy: 0.8100\n",
      "Epoch 00012: saving model to /content/drive/MyDrive/Gesture/Checkpoints/model_init_2021-12-2720_00_58.665313/model-00012-0.49836-0.80995-3.65525-0.26000.h5\n",
      "34/34 [==============================] - 51s 2s/step - loss: 0.4984 - categorical_accuracy: 0.8100 - val_loss: 3.6553 - val_categorical_accuracy: 0.2600 - lr: 4.0000e-05\n",
      "Epoch 13/22\n",
      "34/34 [==============================] - ETA: 0s - loss: 0.4329 - categorical_accuracy: 0.8416\n",
      "Epoch 00013: saving model to /content/drive/MyDrive/Gesture/Checkpoints/model_init_2021-12-2720_00_58.665313/model-00013-0.43291-0.84163-3.29380-0.26000.h5\n",
      "\n",
      "Epoch 00013: ReduceLROnPlateau reducing learning rate to 8.000000525498762e-06.\n",
      "34/34 [==============================] - 51s 2s/step - loss: 0.4329 - categorical_accuracy: 0.8416 - val_loss: 3.2938 - val_categorical_accuracy: 0.2600 - lr: 4.0000e-05\n",
      "Epoch 14/22\n",
      "34/34 [==============================] - ETA: 0s - loss: 0.4573 - categorical_accuracy: 0.8303\n",
      "Epoch 00014: saving model to /content/drive/MyDrive/Gesture/Checkpoints/model_init_2021-12-2720_00_58.665313/model-00014-0.45732-0.83032-3.68932-0.20000.h5\n",
      "34/34 [==============================] - 51s 2s/step - loss: 0.4573 - categorical_accuracy: 0.8303 - val_loss: 3.6893 - val_categorical_accuracy: 0.2000 - lr: 8.0000e-06\n",
      "Epoch 15/22\n",
      "34/34 [==============================] - ETA: 0s - loss: 0.4797 - categorical_accuracy: 0.8077\n",
      "Epoch 00015: saving model to /content/drive/MyDrive/Gesture/Checkpoints/model_init_2021-12-2720_00_58.665313/model-00015-0.47971-0.80769-3.25275-0.24000.h5\n",
      "34/34 [==============================] - 51s 2s/step - loss: 0.4797 - categorical_accuracy: 0.8077 - val_loss: 3.2527 - val_categorical_accuracy: 0.2400 - lr: 8.0000e-06\n",
      "Epoch 16/22\n",
      "34/34 [==============================] - ETA: 0s - loss: 0.4330 - categorical_accuracy: 0.8439\n",
      "Epoch 00016: saving model to /content/drive/MyDrive/Gesture/Checkpoints/model_init_2021-12-2720_00_58.665313/model-00016-0.43296-0.84389-2.91585-0.26000.h5\n",
      "34/34 [==============================] - 51s 2s/step - loss: 0.4330 - categorical_accuracy: 0.8439 - val_loss: 2.9158 - val_categorical_accuracy: 0.2600 - lr: 8.0000e-06\n",
      "Epoch 17/22\n",
      "34/34 [==============================] - ETA: 0s - loss: 0.4528 - categorical_accuracy: 0.8303\n",
      "Epoch 00017: saving model to /content/drive/MyDrive/Gesture/Checkpoints/model_init_2021-12-2720_00_58.665313/model-00017-0.45281-0.83032-2.85822-0.26000.h5\n",
      "\n",
      "Epoch 00017: ReduceLROnPlateau reducing learning rate to 1.6000001778593287e-06.\n",
      "34/34 [==============================] - 51s 2s/step - loss: 0.4528 - categorical_accuracy: 0.8303 - val_loss: 2.8582 - val_categorical_accuracy: 0.2600 - lr: 8.0000e-06\n",
      "Epoch 18/22\n",
      "34/34 [==============================] - ETA: 0s - loss: 0.4818 - categorical_accuracy: 0.8303\n",
      "Epoch 00018: saving model to /content/drive/MyDrive/Gesture/Checkpoints/model_init_2021-12-2720_00_58.665313/model-00018-0.48178-0.83032-2.17831-0.31000.h5\n",
      "34/34 [==============================] - 51s 2s/step - loss: 0.4818 - categorical_accuracy: 0.8303 - val_loss: 2.1783 - val_categorical_accuracy: 0.3100 - lr: 1.6000e-06\n",
      "Epoch 19/22\n",
      "34/34 [==============================] - ETA: 0s - loss: 0.4429 - categorical_accuracy: 0.8258\n",
      "Epoch 00019: saving model to /content/drive/MyDrive/Gesture/Checkpoints/model_init_2021-12-2720_00_58.665313/model-00019-0.44290-0.82579-1.87082-0.44000.h5\n",
      "34/34 [==============================] - 51s 2s/step - loss: 0.4429 - categorical_accuracy: 0.8258 - val_loss: 1.8708 - val_categorical_accuracy: 0.4400 - lr: 1.6000e-06\n",
      "Epoch 20/22\n",
      "34/34 [==============================] - ETA: 0s - loss: 0.4239 - categorical_accuracy: 0.8311\n",
      "Epoch 00020: saving model to /content/drive/MyDrive/Gesture/Checkpoints/model_init_2021-12-2720_00_58.665313/model-00020-0.42394-0.83107-1.76777-0.39000.h5\n",
      "34/34 [==============================] - 51s 2s/step - loss: 0.4239 - categorical_accuracy: 0.8311 - val_loss: 1.7678 - val_categorical_accuracy: 0.3900 - lr: 1.6000e-06\n",
      "Epoch 21/22\n",
      "34/34 [==============================] - ETA: 0s - loss: 0.4548 - categorical_accuracy: 0.8311\n",
      "Epoch 00021: saving model to /content/drive/MyDrive/Gesture/Checkpoints/model_init_2021-12-2720_00_58.665313/model-00021-0.45482-0.83107-1.51040-0.48000.h5\n",
      "34/34 [==============================] - 51s 2s/step - loss: 0.4548 - categorical_accuracy: 0.8311 - val_loss: 1.5104 - val_categorical_accuracy: 0.4800 - lr: 1.6000e-06\n",
      "Epoch 22/22\n",
      "34/34 [==============================] - ETA: 0s - loss: 0.4317 - categorical_accuracy: 0.8318\n",
      "Epoch 00022: saving model to /content/drive/MyDrive/Gesture/Checkpoints/model_init_2021-12-2720_00_58.665313/model-00022-0.43171-0.83183-1.31774-0.52000.h5\n",
      "34/34 [==============================] - 51s 2s/step - loss: 0.4317 - categorical_accuracy: 0.8318 - val_loss: 1.3177 - val_categorical_accuracy: 0.5200 - lr: 1.6000e-06\n"
     ]
    }
   ],
   "source": [
    "print(\"Total Params:\", conv_3d5_model.count_params())\n",
    "history_model5=conv_3d5.train_model(conv_3d5_model,augment_data=True)"
   ]
  },
  {
   "cell_type": "code",
   "execution_count": null,
   "metadata": {
    "colab": {
     "base_uri": "https://localhost:8080/",
     "height": 265
    },
    "executionInfo": {
     "elapsed": 53,
     "status": "ok",
     "timestamp": 1640636379996,
     "user": {
      "displayName": "Mehul Kumawat",
      "photoUrl": "https://lh3.googleusercontent.com/a/default-user=s64",
      "userId": "14358707599276366243"
     },
     "user_tz": -330
    },
    "id": "4_BN_7MgBzaA",
    "outputId": "55779e11-33d3-4432-e1e9-fbeed129b5a0"
   },
   "outputs": [
    {
     "data": {
      "image/png": "[encoded data removed]",
      "text/plain": [
       "<Figure size 1080x288 with 2 Axes>"
      ]
     },
     "metadata": {
      "needs_background": "light"
     },
     "output_type": "display_data"
    }
   ],
   "source": [
    "plot(history_model5)"
   ]
  },
  {
   "cell_type": "markdown",
   "metadata": {
    "collapsed": true,
    "id": "kcF7ISxDBzaA"
   },
   "source": [
    "##### Adding dropouts has further reduced validation accuracy as its not to learn  generalizable features"
   ]
  },
  {
   "cell_type": "markdown",
   "metadata": {
    "id": "uvz3gIGSBzaA"
   },
   "source": [
    "##### All models experimental models above have more than 1 million parameters. Let's try to reduce the model size and see the performance"
   ]
  },
  {
   "cell_type": "markdown",
   "metadata": {
    "id": "DNVCMUvBBzaA"
   },
   "source": [
    "# Model 6 - reducing the number of parameters"
   ]
  },
  {
   "cell_type": "code",
   "execution_count": null,
   "metadata": {
    "collapsed": true,
    "id": "HwtxGTkvBzaA"
   },
   "outputs": [],
   "source": [
    "class ModelConv3D6(ModelBuilder):\n",
    "    \n",
    "    def define_model(self,dense_neurons=64,dropout=0.25):\n",
    "\n",
    "        model = Sequential()\n",
    "        model.add(Conv3D(16, (3, 3, 3), padding='same',\n",
    "                 input_shape=(self.frames_to_sample,self.image_height,self.image_width,self.channels)))\n",
    "        model.add(Activation('relu'))\n",
    "        model.add(BatchNormalization())\n",
    "        model.add(MaxPooling3D(pool_size=(2, 2, 2)))\n",
    "\n",
    "        model.add(Conv3D(32, (2, 2, 2), padding='same'))\n",
    "        model.add(Activation('relu'))\n",
    "        model.add(BatchNormalization())\n",
    "        model.add(MaxPooling3D(pool_size=(2, 2, 2)))\n",
    "\n",
    "        model.add(Conv3D(64, (2, 2, 2), padding='same'))\n",
    "        model.add(Activation('relu'))\n",
    "        model.add(BatchNormalization())\n",
    "        model.add(MaxPooling3D(pool_size=(2, 2, 2)))\n",
    "\n",
    "        model.add(Conv3D(128, (2, 2, 2), padding='same'))\n",
    "        model.add(Activation('relu'))\n",
    "        model.add(BatchNormalization())\n",
    "        model.add(MaxPooling3D(pool_size=(2, 2, 2)))\n",
    "        \n",
    "        model.add(Flatten())\n",
    "        model.add(Dense(dense_neurons,activation='relu'))\n",
    "        model.add(BatchNormalization())\n",
    "        model.add(Dropout(dropout))\n",
    "\n",
    "        model.add(Dense(dense_neurons,activation='relu'))\n",
    "        model.add(BatchNormalization())\n",
    "        model.add(Dropout(dropout))\n",
    "\n",
    "        model.add(Dense(self.num_classes,activation='softmax'))\n",
    "\n",
    "        optimiser = tf.keras.optimizers.Adam(lr=0.0002)\n",
    "        model.compile(optimizer=optimiser, loss='categorical_crossentropy', metrics=['categorical_accuracy'])\n",
    "        return model"
   ]
  },
  {
   "cell_type": "code",
   "execution_count": null,
   "metadata": {
    "colab": {
     "base_uri": "https://localhost:8080/"
    },
    "executionInfo": {
     "elapsed": 3556,
     "status": "ok",
     "timestamp": 1640665829009,
     "user": {
      "displayName": "Mehul Kumawat",
      "photoUrl": "https://lh3.googleusercontent.com/a/default-user=s64",
      "userId": "14358707599276366243"
     },
     "user_tz": -330
    },
    "id": "QF-v8so4BzaB",
    "outputId": "c7a66d1d-55c5-402f-cab8-d3788502ca30"
   },
   "outputs": [
    {
     "name": "stdout",
     "output_type": "stream",
     "text": [
      "Model: \"sequential\"\n",
      "_________________________________________________________________\n",
      " Layer (type)                Output Shape              Param #   \n",
      "=================================================================\n",
      " conv3d (Conv3D)             (None, 16, 100, 100, 16)  1312      \n",
      "                                                                 \n",
      " activation (Activation)     (None, 16, 100, 100, 16)  0         \n",
      "                                                                 \n",
      " batch_normalization (BatchN  (None, 16, 100, 100, 16)  64       \n",
      " ormalization)                                                   \n",
      "                                                                 \n",
      " max_pooling3d (MaxPooling3D  (None, 8, 50, 50, 16)    0         \n",
      " )                                                               \n",
      "                                                                 \n",
      " conv3d_1 (Conv3D)           (None, 8, 50, 50, 32)     4128      \n",
      "                                                                 \n",
      " activation_1 (Activation)   (None, 8, 50, 50, 32)     0         \n",
      "                                                                 \n",
      " batch_normalization_1 (Batc  (None, 8, 50, 50, 32)    128       \n",
      " hNormalization)                                                 \n",
      "                                                                 \n",
      " max_pooling3d_1 (MaxPooling  (None, 4, 25, 25, 32)    0         \n",
      " 3D)                                                             \n",
      "                                                                 \n",
      " conv3d_2 (Conv3D)           (None, 4, 25, 25, 64)     16448     \n",
      "                                                                 \n",
      " activation_2 (Activation)   (None, 4, 25, 25, 64)     0         \n",
      "                                                                 \n",
      " batch_normalization_2 (Batc  (None, 4, 25, 25, 64)    256       \n",
      " hNormalization)                                                 \n",
      "                                                                 \n",
      " max_pooling3d_2 (MaxPooling  (None, 2, 12, 12, 64)    0         \n",
      " 3D)                                                             \n",
      "                                                                 \n",
      " conv3d_3 (Conv3D)           (None, 2, 12, 12, 128)    65664     \n",
      "                                                                 \n",
      " activation_3 (Activation)   (None, 2, 12, 12, 128)    0         \n",
      "                                                                 \n",
      " batch_normalization_3 (Batc  (None, 2, 12, 12, 128)   512       \n",
      " hNormalization)                                                 \n",
      "                                                                 \n",
      " max_pooling3d_3 (MaxPooling  (None, 1, 6, 6, 128)     0         \n",
      " 3D)                                                             \n",
      "                                                                 \n",
      " flatten (Flatten)           (None, 4608)              0         \n",
      "                                                                 \n",
      " dense (Dense)               (None, 128)               589952    \n",
      "                                                                 \n",
      " batch_normalization_4 (Batc  (None, 128)              512       \n",
      " hNormalization)                                                 \n",
      "                                                                 \n",
      " dropout (Dropout)           (None, 128)               0         \n",
      "                                                                 \n",
      " dense_1 (Dense)             (None, 128)               16512     \n",
      "                                                                 \n",
      " batch_normalization_5 (Batc  (None, 128)              512       \n",
      " hNormalization)                                                 \n",
      "                                                                 \n",
      " dropout_1 (Dropout)         (None, 128)               0         \n",
      "                                                                 \n",
      " dense_2 (Dense)             (None, 5)                 645       \n",
      "                                                                 \n",
      "=================================================================\n",
      "Total params: 696,645\n",
      "Trainable params: 695,653\n",
      "Non-trainable params: 992\n",
      "_________________________________________________________________\n"
     ]
    }
   ],
   "source": [
    "conv_3d6=ModelConv3D6()\n",
    "conv_3d6.initialize_path(project_folder)\n",
    "conv_3d6.initialize_image_properties(image_height=100,image_width=100)\n",
    "conv_3d6.initialize_hyperparams(frames_to_sample=16,batch_size=20,num_epochs=30)\n",
    "conv_3d6_model=conv_3d6.define_model(dense_neurons=128,dropout=0.25)\n",
    "conv_3d6_model.summary()"
   ]
  },
  {
   "cell_type": "code",
   "execution_count": null,
   "metadata": {
    "colab": {
     "base_uri": "https://localhost:8080/"
    },
    "executionInfo": {
     "elapsed": 1343955,
     "status": "ok",
     "timestamp": 1640667172941,
     "user": {
      "displayName": "Mehul Kumawat",
      "photoUrl": "https://lh3.googleusercontent.com/a/default-user=s64",
      "userId": "14358707599276366243"
     },
     "user_tz": -330
    },
    "id": "iuesLJNeBzaB",
    "outputId": "9078f49b-74c5-4e10-dcec-cfd9c898f857"
   },
   "outputs": [
    {
     "name": "stdout",
     "output_type": "stream",
     "text": [
      "Total Params: 696645\n",
      "Epoch 1/30\n",
      "34/34 [==============================] - ETA: 0s - loss: 1.9713 - categorical_accuracy: 0.3137\n",
      "Epoch 00001: saving model to /content/drive/MyDrive/Gesture/Checkpoints/model_init_2021-12-2804_30_27.991051/model-00001-1.97131-0.31373-1.85988-0.16000.h5\n",
      "34/34 [==============================] - 55s 1s/step - loss: 1.9713 - categorical_accuracy: 0.3137 - val_loss: 1.8599 - val_categorical_accuracy: 0.1600 - lr: 2.0000e-04\n",
      "Epoch 2/30\n",
      "34/34 [==============================] - ETA: 0s - loss: 1.3102 - categorical_accuracy: 0.4940\n",
      "Epoch 00002: saving model to /content/drive/MyDrive/Gesture/Checkpoints/model_init_2021-12-2804_30_27.991051/model-00002-1.31022-0.49397-2.76522-0.20000.h5\n",
      "34/34 [==============================] - 44s 1s/step - loss: 1.3102 - categorical_accuracy: 0.4940 - val_loss: 2.7652 - val_categorical_accuracy: 0.2000 - lr: 2.0000e-04\n",
      "Epoch 3/30\n",
      "33/34 [============================>.] - ETA: 1s - loss: 1.0441 - categorical_accuracy: 0.5992\n",
      "Epoch 00003: saving model to /content/drive/MyDrive/Gesture/Checkpoints/model_init_2021-12-2804_30_27.991051/model-00003-1.04381-0.59955-3.73272-0.16000.h5\n",
      "34/34 [==============================] - 44s 1s/step - loss: 1.0438 - categorical_accuracy: 0.5995 - val_loss: 3.7327 - val_categorical_accuracy: 0.1600 - lr: 2.0000e-04\n",
      "Epoch 4/30\n",
      "34/34 [==============================] - ETA: 0s - loss: 0.8476 - categorical_accuracy: 0.6689\n",
      "Epoch 00004: saving model to /content/drive/MyDrive/Gesture/Checkpoints/model_init_2021-12-2804_30_27.991051/model-00004-0.84758-0.66893-4.85229-0.15000.h5\n",
      "34/34 [==============================] - 44s 1s/step - loss: 0.8476 - categorical_accuracy: 0.6689 - val_loss: 4.8523 - val_categorical_accuracy: 0.1500 - lr: 2.0000e-04\n",
      "Epoch 5/30\n",
      "33/34 [============================>.] - ETA: 1s - loss: 0.8363 - categorical_accuracy: 0.6803\n",
      "Epoch 00005: saving model to /content/drive/MyDrive/Gesture/Checkpoints/model_init_2021-12-2804_30_27.991051/model-00005-0.83383-0.68175-6.00406-0.16000.h5\n",
      "\n",
      "Epoch 00005: ReduceLROnPlateau reducing learning rate to 3.9999998989515007e-05.\n",
      "34/34 [==============================] - 44s 1s/step - loss: 0.8338 - categorical_accuracy: 0.6817 - val_loss: 6.0041 - val_categorical_accuracy: 0.1600 - lr: 2.0000e-04\n",
      "Epoch 6/30\n",
      "34/34 [==============================] - ETA: 0s - loss: 0.6793 - categorical_accuracy: 0.7459\n",
      "Epoch 00006: saving model to /content/drive/MyDrive/Gesture/Checkpoints/model_init_2021-12-2804_30_27.991051/model-00006-0.67929-0.74585-6.65217-0.16000.h5\n",
      "34/34 [==============================] - 44s 1s/step - loss: 0.6793 - categorical_accuracy: 0.7459 - val_loss: 6.6522 - val_categorical_accuracy: 0.1600 - lr: 4.0000e-05\n",
      "Epoch 7/30\n",
      "34/34 [==============================] - ETA: 0s - loss: 0.6651 - categorical_accuracy: 0.7496\n",
      "Epoch 00007: saving model to /content/drive/MyDrive/Gesture/Checkpoints/model_init_2021-12-2804_30_27.991051/model-00007-0.66508-0.74962-6.98563-0.16000.h5\n",
      "34/34 [==============================] - 44s 1s/step - loss: 0.6651 - categorical_accuracy: 0.7496 - val_loss: 6.9856 - val_categorical_accuracy: 0.1600 - lr: 4.0000e-05\n",
      "Epoch 8/30\n",
      "34/34 [==============================] - ETA: 0s - loss: 0.6512 - categorical_accuracy: 0.7647\n",
      "Epoch 00008: saving model to /content/drive/MyDrive/Gesture/Checkpoints/model_init_2021-12-2804_30_27.991051/model-00008-0.65117-0.76471-6.42028-0.18000.h5\n",
      "34/34 [==============================] - 44s 1s/step - loss: 0.6512 - categorical_accuracy: 0.7647 - val_loss: 6.4203 - val_categorical_accuracy: 0.1800 - lr: 4.0000e-05\n",
      "Epoch 9/30\n",
      "34/34 [==============================] - ETA: 0s - loss: 0.6716 - categorical_accuracy: 0.7609\n",
      "Epoch 00009: saving model to /content/drive/MyDrive/Gesture/Checkpoints/model_init_2021-12-2804_30_27.991051/model-00009-0.67156-0.76094-6.53975-0.20000.h5\n",
      "\n",
      "Epoch 00009: ReduceLROnPlateau reducing learning rate to 7.999999797903002e-06.\n",
      "34/34 [==============================] - 44s 1s/step - loss: 0.6716 - categorical_accuracy: 0.7609 - val_loss: 6.5398 - val_categorical_accuracy: 0.2000 - lr: 4.0000e-05\n",
      "Epoch 10/30\n",
      "34/34 [==============================] - ETA: 0s - loss: 0.5935 - categorical_accuracy: 0.7798\n",
      "Epoch 00010: saving model to /content/drive/MyDrive/Gesture/Checkpoints/model_init_2021-12-2804_30_27.991051/model-00010-0.59348-0.77979-6.15051-0.22000.h5\n",
      "34/34 [==============================] - 44s 1s/step - loss: 0.5935 - categorical_accuracy: 0.7798 - val_loss: 6.1505 - val_categorical_accuracy: 0.2200 - lr: 8.0000e-06\n",
      "Epoch 11/30\n",
      "34/34 [==============================] - ETA: 0s - loss: 0.5966 - categorical_accuracy: 0.7836\n",
      "Epoch 00011: saving model to /content/drive/MyDrive/Gesture/Checkpoints/model_init_2021-12-2804_30_27.991051/model-00011-0.59665-0.78356-5.11280-0.25000.h5\n",
      "34/34 [==============================] - 44s 1s/step - loss: 0.5966 - categorical_accuracy: 0.7836 - val_loss: 5.1128 - val_categorical_accuracy: 0.2500 - lr: 8.0000e-06\n",
      "Epoch 12/30\n",
      "34/34 [==============================] - ETA: 0s - loss: 0.6001 - categorical_accuracy: 0.7707\n",
      "Epoch 00012: saving model to /content/drive/MyDrive/Gesture/Checkpoints/model_init_2021-12-2804_30_27.991051/model-00012-0.60009-0.77074-4.14252-0.27000.h5\n",
      "34/34 [==============================] - 45s 1s/step - loss: 0.6001 - categorical_accuracy: 0.7707 - val_loss: 4.1425 - val_categorical_accuracy: 0.2700 - lr: 8.0000e-06\n",
      "Epoch 13/30\n",
      "33/34 [============================>.] - ETA: 1s - loss: 0.5908 - categorical_accuracy: 0.7871\n",
      "Epoch 00013: saving model to /content/drive/MyDrive/Gesture/Checkpoints/model_init_2021-12-2804_30_27.991051/model-00013-0.59338-0.78658-4.21001-0.26000.h5\n",
      "\n",
      "Epoch 00013: ReduceLROnPlateau reducing learning rate to 1.5999999959603884e-06.\n",
      "34/34 [==============================] - 45s 1s/step - loss: 0.5934 - categorical_accuracy: 0.7866 - val_loss: 4.2100 - val_categorical_accuracy: 0.2600 - lr: 8.0000e-06\n",
      "Epoch 14/30\n",
      "34/34 [==============================] - ETA: 0s - loss: 0.5943 - categorical_accuracy: 0.7873\n",
      "Epoch 00014: saving model to /content/drive/MyDrive/Gesture/Checkpoints/model_init_2021-12-2804_30_27.991051/model-00014-0.59430-0.78733-2.83628-0.39000.h5\n",
      "34/34 [==============================] - 45s 1s/step - loss: 0.5943 - categorical_accuracy: 0.7873 - val_loss: 2.8363 - val_categorical_accuracy: 0.3900 - lr: 1.6000e-06\n",
      "Epoch 15/30\n",
      "34/34 [==============================] - ETA: 0s - loss: 0.6066 - categorical_accuracy: 0.7662\n",
      "Epoch 00015: saving model to /content/drive/MyDrive/Gesture/Checkpoints/model_init_2021-12-2804_30_27.991051/model-00015-0.60663-0.76621-2.36061-0.40000.h5\n",
      "34/34 [==============================] - 45s 1s/step - loss: 0.6066 - categorical_accuracy: 0.7662 - val_loss: 2.3606 - val_categorical_accuracy: 0.4000 - lr: 1.6000e-06\n",
      "Epoch 16/30\n",
      "34/34 [==============================] - ETA: 0s - loss: 0.5684 - categorical_accuracy: 0.7836\n",
      "Epoch 00016: saving model to /content/drive/MyDrive/Gesture/Checkpoints/model_init_2021-12-2804_30_27.991051/model-00016-0.56837-0.78356-1.88850-0.47000.h5\n",
      "34/34 [==============================] - 44s 1s/step - loss: 0.5684 - categorical_accuracy: 0.7836 - val_loss: 1.8885 - val_categorical_accuracy: 0.4700 - lr: 1.6000e-06\n",
      "Epoch 17/30\n",
      "33/34 [============================>.] - ETA: 1s - loss: 0.5483 - categorical_accuracy: 0.8015\n",
      "Epoch 00017: saving model to /content/drive/MyDrive/Gesture/Checkpoints/model_init_2021-12-2804_30_27.991051/model-00017-0.55573-0.79940-1.44640-0.53000.h5\n",
      "34/34 [==============================] - 44s 1s/step - loss: 0.5557 - categorical_accuracy: 0.7994 - val_loss: 1.4464 - val_categorical_accuracy: 0.5300 - lr: 1.6000e-06\n",
      "Epoch 18/30\n",
      "34/34 [==============================] - ETA: 0s - loss: 0.5674 - categorical_accuracy: 0.7934\n",
      "Epoch 00018: saving model to /content/drive/MyDrive/Gesture/Checkpoints/model_init_2021-12-2804_30_27.991051/model-00018-0.56739-0.79336-1.25497-0.59000.h5\n",
      "34/34 [==============================] - 44s 1s/step - loss: 0.5674 - categorical_accuracy: 0.7934 - val_loss: 1.2550 - val_categorical_accuracy: 0.5900 - lr: 1.6000e-06\n",
      "Epoch 19/30\n",
      "33/34 [============================>.] - ETA: 1s - loss: 0.5617 - categorical_accuracy: 0.7879\n",
      "Epoch 00019: saving model to /content/drive/MyDrive/Gesture/Checkpoints/model_init_2021-12-2804_30_27.991051/model-00019-0.56426-0.78658-0.92575-0.70000.h5\n",
      "34/34 [==============================] - 44s 1s/step - loss: 0.5643 - categorical_accuracy: 0.7866 - val_loss: 0.9257 - val_categorical_accuracy: 0.7000 - lr: 1.6000e-06\n",
      "Epoch 20/30\n",
      "33/34 [============================>.] - ETA: 1s - loss: 0.5787 - categorical_accuracy: 0.7977\n",
      "Epoch 00020: saving model to /content/drive/MyDrive/Gesture/Checkpoints/model_init_2021-12-2804_30_27.991051/model-00020-0.58135-0.79638-0.92971-0.69000.h5\n",
      "34/34 [==============================] - 44s 1s/step - loss: 0.5813 - categorical_accuracy: 0.7964 - val_loss: 0.9297 - val_categorical_accuracy: 0.6900 - lr: 1.6000e-06\n",
      "Epoch 21/30\n",
      "33/34 [============================>.] - ETA: 1s - loss: 0.5591 - categorical_accuracy: 0.7947\n",
      "Epoch 00021: saving model to /content/drive/MyDrive/Gesture/Checkpoints/model_init_2021-12-2804_30_27.991051/model-00021-0.56112-0.79412-0.86353-0.72000.h5\n",
      "34/34 [==============================] - 44s 1s/step - loss: 0.5611 - categorical_accuracy: 0.7941 - val_loss: 0.8635 - val_categorical_accuracy: 0.7200 - lr: 1.6000e-06\n",
      "Epoch 22/30\n",
      "34/34 [==============================] - ETA: 0s - loss: 0.5909 - categorical_accuracy: 0.7888\n",
      "Epoch 00022: saving model to /content/drive/MyDrive/Gesture/Checkpoints/model_init_2021-12-2804_30_27.991051/model-00022-0.59091-0.78884-0.85951-0.73000.h5\n",
      "34/34 [==============================] - 44s 1s/step - loss: 0.5909 - categorical_accuracy: 0.7888 - val_loss: 0.8595 - val_categorical_accuracy: 0.7300 - lr: 1.6000e-06\n",
      "Epoch 23/30\n",
      "34/34 [==============================] - ETA: 0s - loss: 0.5891 - categorical_accuracy: 0.7934\n",
      "Epoch 00023: saving model to /content/drive/MyDrive/Gesture/Checkpoints/model_init_2021-12-2804_30_27.991051/model-00023-0.58910-0.79336-0.79577-0.74000.h5\n",
      "34/34 [==============================] - 44s 1s/step - loss: 0.5891 - categorical_accuracy: 0.7934 - val_loss: 0.7958 - val_categorical_accuracy: 0.7400 - lr: 1.6000e-06\n",
      "Epoch 24/30\n",
      "34/34 [==============================] - ETA: 0s - loss: 0.5708 - categorical_accuracy: 0.7926\n",
      "Epoch 00024: saving model to /content/drive/MyDrive/Gesture/Checkpoints/model_init_2021-12-2804_30_27.991051/model-00024-0.57080-0.79261-0.86911-0.68000.h5\n",
      "34/34 [==============================] - 44s 1s/step - loss: 0.5708 - categorical_accuracy: 0.7926 - val_loss: 0.8691 - val_categorical_accuracy: 0.6800 - lr: 1.6000e-06\n",
      "Epoch 25/30\n",
      "33/34 [============================>.] - ETA: 1s - loss: 0.5789 - categorical_accuracy: 0.7826\n",
      "Epoch 00025: saving model to /content/drive/MyDrive/Gesture/Checkpoints/model_init_2021-12-2804_30_27.991051/model-00025-0.58144-0.78130-0.73930-0.72000.h5\n",
      "34/34 [==============================] - 45s 1s/step - loss: 0.5814 - categorical_accuracy: 0.7813 - val_loss: 0.7393 - val_categorical_accuracy: 0.7200 - lr: 1.6000e-06\n",
      "Epoch 26/30\n",
      "33/34 [============================>.] - ETA: 1s - loss: 0.5689 - categorical_accuracy: 0.7833\n",
      "Epoch 00026: saving model to /content/drive/MyDrive/Gesture/Checkpoints/model_init_2021-12-2804_30_27.991051/model-00026-0.57700-0.78054-0.74044-0.73000.h5\n",
      "34/34 [==============================] - 45s 1s/step - loss: 0.5770 - categorical_accuracy: 0.7805 - val_loss: 0.7404 - val_categorical_accuracy: 0.7300 - lr: 1.6000e-06\n",
      "Epoch 27/30\n",
      "34/34 [==============================] - ETA: 0s - loss: 0.5766 - categorical_accuracy: 0.7919\n",
      "Epoch 00027: saving model to /content/drive/MyDrive/Gesture/Checkpoints/model_init_2021-12-2804_30_27.991051/model-00027-0.57665-0.79186-0.73464-0.74000.h5\n",
      "34/34 [==============================] - 44s 1s/step - loss: 0.5766 - categorical_accuracy: 0.7919 - val_loss: 0.7346 - val_categorical_accuracy: 0.7400 - lr: 1.6000e-06\n",
      "Epoch 28/30\n",
      "33/34 [============================>.] - ETA: 1s - loss: 0.5863 - categorical_accuracy: 0.7742\n",
      "Epoch 00028: saving model to /content/drive/MyDrive/Gesture/Checkpoints/model_init_2021-12-2804_30_27.991051/model-00028-0.59071-0.77149-0.74821-0.71000.h5\n",
      "34/34 [==============================] - 45s 1s/step - loss: 0.5907 - categorical_accuracy: 0.7715 - val_loss: 0.7482 - val_categorical_accuracy: 0.7100 - lr: 1.6000e-06\n",
      "Epoch 29/30\n",
      "34/34 [==============================] - ETA: 0s - loss: 0.5630 - categorical_accuracy: 0.7858\n",
      "Epoch 00029: saving model to /content/drive/MyDrive/Gesture/Checkpoints/model_init_2021-12-2804_30_27.991051/model-00029-0.56302-0.78582-0.81977-0.70000.h5\n",
      "34/34 [==============================] - 44s 1s/step - loss: 0.5630 - categorical_accuracy: 0.7858 - val_loss: 0.8198 - val_categorical_accuracy: 0.7000 - lr: 1.6000e-06\n",
      "Epoch 30/30\n",
      "34/34 [==============================] - ETA: 0s - loss: 0.5909 - categorical_accuracy: 0.7813\n",
      "Epoch 00030: saving model to /content/drive/MyDrive/Gesture/Checkpoints/model_init_2021-12-2804_30_27.991051/model-00030-0.59094-0.78130-0.70639-0.73000.h5\n",
      "34/34 [==============================] - 45s 1s/step - loss: 0.5909 - categorical_accuracy: 0.7813 - val_loss: 0.7064 - val_categorical_accuracy: 0.7300 - lr: 1.6000e-06\n"
     ]
    }
   ],
   "source": [
    "print(\"Total Params:\", conv_3d6_model.count_params())\n",
    "history_model6=conv_3d6.train_model(conv_3d6_model,augment_data=True)"
   ]
  },
  {
   "cell_type": "code",
   "execution_count": null,
   "metadata": {
    "colab": {
     "base_uri": "https://localhost:8080/",
     "height": 265
    },
    "executionInfo": {
     "elapsed": 78,
     "status": "ok",
     "timestamp": 1640667172945,
     "user": {
      "displayName": "Mehul Kumawat",
      "photoUrl": "https://lh3.googleusercontent.com/a/default-user=s64",
      "userId": "14358707599276366243"
     },
     "user_tz": -330
    },
    "id": "XK-vYdqtBzaB",
    "outputId": "b54c75bb-8026-456c-981a-4f9149894a2d"
   },
   "outputs": [
    {
     "data": {
      "image/png": "[encoded data removed]",
      "text/plain": [
       "<Figure size 1080x288 with 2 Axes>"
      ]
     },
     "metadata": {
      "needs_background": "light"
     },
     "output_type": "display_data"
    }
   ],
   "source": [
    "plot(history_model6)"
   ]
  },
  {
   "cell_type": "markdown",
   "metadata": {
    "collapsed": true,
    "id": "bC3XomWfBzaC"
   },
   "source": [
    "#### Overfitting decrease, decent validation accuracy of 74% with significant drop in the number of parameters."
   ]
  },
  {
   "cell_type": "markdown",
   "metadata": {
    "id": "Mv_Jt-bwBzaC"
   },
   "source": [
    "# Model 7 - reducing the number of parameters"
   ]
  },
  {
   "cell_type": "code",
   "execution_count": null,
   "metadata": {
    "collapsed": true,
    "id": "gBVepC_VBzaC"
   },
   "outputs": [],
   "source": [
    "class ModelConv3D7(ModelBuilder):\n",
    "    \n",
    "    def define_model(self,dense_neurons=64,dropout=0.25):\n",
    "\n",
    "        model = Sequential()\n",
    "        model.add(Conv3D(16, (3, 3, 3), padding='same',\n",
    "                 input_shape=(self.frames_to_sample,self.image_height,self.image_width,self.channels)))\n",
    "        model.add(Activation('relu'))\n",
    "        model.add(BatchNormalization())\n",
    "        model.add(MaxPooling3D(pool_size=(2, 2, 2)))\n",
    "\n",
    "        model.add(Conv3D(32, (3, 3, 3), padding='same'))\n",
    "        model.add(Activation('relu'))\n",
    "        model.add(BatchNormalization())\n",
    "        model.add(MaxPooling3D(pool_size=(2, 2, 2)))\n",
    "\n",
    "        model.add(Conv3D(64, (2, 2, 2), padding='same'))\n",
    "        model.add(Activation('relu'))\n",
    "        model.add(BatchNormalization())\n",
    "        model.add(MaxPooling3D(pool_size=(2, 2, 2)))\n",
    "\n",
    "        model.add(Conv3D(128, (2, 2, 2), padding='same'))\n",
    "        model.add(Activation('relu'))\n",
    "        model.add(BatchNormalization())\n",
    "        model.add(MaxPooling3D(pool_size=(2, 2, 2)))\n",
    "        \n",
    "        model.add(Flatten())\n",
    "        model.add(Dense(dense_neurons,activation='relu'))\n",
    "        model.add(BatchNormalization())\n",
    "        model.add(Dropout(dropout))\n",
    "\n",
    "        model.add(Dense(dense_neurons,activation='relu'))\n",
    "        model.add(BatchNormalization())\n",
    "        model.add(Dropout(dropout))\n",
    "\n",
    "        model.add(Dense(self.num_classes,activation='softmax'))\n",
    "\n",
    "        optimiser = tf.keras.optimizers.Adam(lr=0.0002)\n",
    "        model.compile(optimizer=optimiser, loss='categorical_crossentropy', metrics=['categorical_accuracy'])\n",
    "        return model"
   ]
  },
  {
   "cell_type": "code",
   "execution_count": null,
   "metadata": {
    "colab": {
     "base_uri": "https://localhost:8080/"
    },
    "executionInfo": {
     "elapsed": 44,
     "status": "ok",
     "timestamp": 1640667172952,
     "user": {
      "displayName": "Mehul Kumawat",
      "photoUrl": "https://lh3.googleusercontent.com/a/default-user=s64",
      "userId": "14358707599276366243"
     },
     "user_tz": -330
    },
    "id": "OPvO9viDBzaC",
    "outputId": "6eab5fff-958d-45ac-d221-845e0847555e"
   },
   "outputs": [
    {
     "name": "stdout",
     "output_type": "stream",
     "text": [
      "Model: \"sequential_1\"\n",
      "_________________________________________________________________\n",
      " Layer (type)                Output Shape              Param #   \n",
      "=================================================================\n",
      " conv3d_4 (Conv3D)           (None, 16, 120, 120, 16)  1312      \n",
      "                                                                 \n",
      " activation_4 (Activation)   (None, 16, 120, 120, 16)  0         \n",
      "                                                                 \n",
      " batch_normalization_6 (Batc  (None, 16, 120, 120, 16)  64       \n",
      " hNormalization)                                                 \n",
      "                                                                 \n",
      " max_pooling3d_4 (MaxPooling  (None, 8, 60, 60, 16)    0         \n",
      " 3D)                                                             \n",
      "                                                                 \n",
      " conv3d_5 (Conv3D)           (None, 8, 60, 60, 32)     13856     \n",
      "                                                                 \n",
      " activation_5 (Activation)   (None, 8, 60, 60, 32)     0         \n",
      "                                                                 \n",
      " batch_normalization_7 (Batc  (None, 8, 60, 60, 32)    128       \n",
      " hNormalization)                                                 \n",
      "                                                                 \n",
      " max_pooling3d_5 (MaxPooling  (None, 4, 30, 30, 32)    0         \n",
      " 3D)                                                             \n",
      "                                                                 \n",
      " conv3d_6 (Conv3D)           (None, 4, 30, 30, 64)     16448     \n",
      "                                                                 \n",
      " activation_6 (Activation)   (None, 4, 30, 30, 64)     0         \n",
      "                                                                 \n",
      " batch_normalization_8 (Batc  (None, 4, 30, 30, 64)    256       \n",
      " hNormalization)                                                 \n",
      "                                                                 \n",
      " max_pooling3d_6 (MaxPooling  (None, 2, 15, 15, 64)    0         \n",
      " 3D)                                                             \n",
      "                                                                 \n",
      " conv3d_7 (Conv3D)           (None, 2, 15, 15, 128)    65664     \n",
      "                                                                 \n",
      " activation_7 (Activation)   (None, 2, 15, 15, 128)    0         \n",
      "                                                                 \n",
      " batch_normalization_9 (Batc  (None, 2, 15, 15, 128)   512       \n",
      " hNormalization)                                                 \n",
      "                                                                 \n",
      " max_pooling3d_7 (MaxPooling  (None, 1, 7, 7, 128)     0         \n",
      " 3D)                                                             \n",
      "                                                                 \n",
      " flatten_1 (Flatten)         (None, 6272)              0         \n",
      "                                                                 \n",
      " dense_3 (Dense)             (None, 64)                401472    \n",
      "                                                                 \n",
      " batch_normalization_10 (Bat  (None, 64)               256       \n",
      " chNormalization)                                                \n",
      "                                                                 \n",
      " dropout_2 (Dropout)         (None, 64)                0         \n",
      "                                                                 \n",
      " dense_4 (Dense)             (None, 64)                4160      \n",
      "                                                                 \n",
      " batch_normalization_11 (Bat  (None, 64)               256       \n",
      " chNormalization)                                                \n",
      "                                                                 \n",
      " dropout_3 (Dropout)         (None, 64)                0         \n",
      "                                                                 \n",
      " dense_5 (Dense)             (None, 5)                 325       \n",
      "                                                                 \n",
      "=================================================================\n",
      "Total params: 504,709\n",
      "Trainable params: 503,973\n",
      "Non-trainable params: 736\n",
      "_________________________________________________________________\n"
     ]
    }
   ],
   "source": [
    "conv_3d7=ModelConv3D7()\n",
    "conv_3d7.initialize_path(project_folder)\n",
    "conv_3d7.initialize_image_properties(image_height=120,image_width=120)\n",
    "conv_3d7.initialize_hyperparams(frames_to_sample=16,batch_size=20,num_epochs=25)\n",
    "conv_3d7_model=conv_3d7.define_model(dense_neurons=64,dropout=0.25)\n",
    "conv_3d7_model.summary()"
   ]
  },
  {
   "cell_type": "code",
   "execution_count": null,
   "metadata": {
    "colab": {
     "base_uri": "https://localhost:8080/"
    },
    "executionInfo": {
     "elapsed": 1148475,
     "status": "ok",
     "timestamp": 1640668321394,
     "user": {
      "displayName": "Mehul Kumawat",
      "photoUrl": "https://lh3.googleusercontent.com/a/default-user=s64",
      "userId": "14358707599276366243"
     },
     "user_tz": -330
    },
    "id": "jApdMumjBzaD",
    "outputId": "00666d78-9dfe-4083-9088-03d478da4e3c"
   },
   "outputs": [
    {
     "name": "stdout",
     "output_type": "stream",
     "text": [
      "Total Params: 504709\n",
      "Epoch 1/25\n",
      "34/34 [==============================] - ETA: 0s - loss: 1.7522 - categorical_accuracy: 0.3620\n",
      "Epoch 00001: saving model to /content/drive/MyDrive/Gesture/Checkpoints/model_init_2021-12-2804_52_52.352090/model-00001-1.75225-0.36199-1.90320-0.16000.h5\n",
      "34/34 [==============================] - 47s 1s/step - loss: 1.7522 - categorical_accuracy: 0.3620 - val_loss: 1.9032 - val_categorical_accuracy: 0.1600 - lr: 2.0000e-04\n",
      "Epoch 2/25\n",
      "34/34 [==============================] - ETA: 0s - loss: 1.1990 - categorical_accuracy: 0.5415\n",
      "Epoch 00002: saving model to /content/drive/MyDrive/Gesture/Checkpoints/model_init_2021-12-2804_52_52.352090/model-00002-1.19902-0.54148-2.81983-0.15000.h5\n",
      "34/34 [==============================] - 46s 1s/step - loss: 1.1990 - categorical_accuracy: 0.5415 - val_loss: 2.8198 - val_categorical_accuracy: 0.1500 - lr: 2.0000e-04\n",
      "Epoch 3/25\n",
      "34/34 [==============================] - ETA: 0s - loss: 1.0111 - categorical_accuracy: 0.6071\n",
      "Epoch 00003: saving model to /content/drive/MyDrive/Gesture/Checkpoints/model_init_2021-12-2804_52_52.352090/model-00003-1.01105-0.60709-3.85987-0.18000.h5\n",
      "34/34 [==============================] - 45s 1s/step - loss: 1.0111 - categorical_accuracy: 0.6071 - val_loss: 3.8599 - val_categorical_accuracy: 0.1800 - lr: 2.0000e-04\n",
      "Epoch 4/25\n",
      "33/34 [============================>.] - ETA: 1s - loss: 0.8542 - categorical_accuracy: 0.6629\n",
      "Epoch 00004: saving model to /content/drive/MyDrive/Gesture/Checkpoints/model_init_2021-12-2804_52_52.352090/model-00004-0.85573-0.66214-4.58885-0.19000.h5\n",
      "34/34 [==============================] - 46s 1s/step - loss: 0.8557 - categorical_accuracy: 0.6621 - val_loss: 4.5888 - val_categorical_accuracy: 0.1900 - lr: 2.0000e-04\n",
      "Epoch 5/25\n",
      "33/34 [============================>.] - ETA: 1s - loss: 0.7722 - categorical_accuracy: 0.7076\n",
      "Epoch 00005: saving model to /content/drive/MyDrive/Gesture/Checkpoints/model_init_2021-12-2804_52_52.352090/model-00005-0.78456-0.70513-5.61674-0.16000.h5\n",
      "\n",
      "Epoch 00005: ReduceLROnPlateau reducing learning rate to 3.9999998989515007e-05.\n",
      "34/34 [==============================] - 45s 1s/step - loss: 0.7846 - categorical_accuracy: 0.7051 - val_loss: 5.6167 - val_categorical_accuracy: 0.1600 - lr: 2.0000e-04\n",
      "Epoch 6/25\n",
      "33/34 [============================>.] - ETA: 1s - loss: 0.7061 - categorical_accuracy: 0.7341\n",
      "Epoch 00006: saving model to /content/drive/MyDrive/Gesture/Checkpoints/model_init_2021-12-2804_52_52.352090/model-00006-0.70842-0.73379-5.66203-0.15000.h5\n",
      "34/34 [==============================] - 45s 1s/step - loss: 0.7084 - categorical_accuracy: 0.7338 - val_loss: 5.6620 - val_categorical_accuracy: 0.1500 - lr: 4.0000e-05\n",
      "Epoch 7/25\n",
      "34/34 [==============================] - ETA: 0s - loss: 0.6481 - categorical_accuracy: 0.7534\n",
      "Epoch 00007: saving model to /content/drive/MyDrive/Gesture/Checkpoints/model_init_2021-12-2804_52_52.352090/model-00007-0.64813-0.75339-5.74703-0.17000.h5\n",
      "34/34 [==============================] - 45s 1s/step - loss: 0.6481 - categorical_accuracy: 0.7534 - val_loss: 5.7470 - val_categorical_accuracy: 0.1700 - lr: 4.0000e-05\n",
      "Epoch 8/25\n",
      "33/34 [============================>.] - ETA: 1s - loss: 0.6488 - categorical_accuracy: 0.7500\n",
      "Epoch 00008: saving model to /content/drive/MyDrive/Gesture/Checkpoints/model_init_2021-12-2804_52_52.352090/model-00008-0.65237-0.74887-5.67735-0.16000.h5\n",
      "34/34 [==============================] - 46s 1s/step - loss: 0.6524 - categorical_accuracy: 0.7489 - val_loss: 5.6774 - val_categorical_accuracy: 0.1600 - lr: 4.0000e-05\n",
      "Epoch 9/25\n",
      "33/34 [============================>.] - ETA: 1s - loss: 0.6413 - categorical_accuracy: 0.7606\n",
      "Epoch 00009: saving model to /content/drive/MyDrive/Gesture/Checkpoints/model_init_2021-12-2804_52_52.352090/model-00009-0.64733-0.75867-4.32106-0.32000.h5\n",
      "\n",
      "Epoch 00009: ReduceLROnPlateau reducing learning rate to 7.999999797903002e-06.\n",
      "34/34 [==============================] - 46s 1s/step - loss: 0.6473 - categorical_accuracy: 0.7587 - val_loss: 4.3211 - val_categorical_accuracy: 0.3200 - lr: 4.0000e-05\n",
      "Epoch 10/25\n",
      "33/34 [============================>.] - ETA: 1s - loss: 0.5910 - categorical_accuracy: 0.7841\n",
      "Epoch 00010: saving model to /content/drive/MyDrive/Gesture/Checkpoints/model_init_2021-12-2804_52_52.352090/model-00010-0.59581-0.78205-4.31758-0.25000.h5\n",
      "34/34 [==============================] - 46s 1s/step - loss: 0.5958 - categorical_accuracy: 0.7821 - val_loss: 4.3176 - val_categorical_accuracy: 0.2500 - lr: 8.0000e-06\n",
      "Epoch 11/25\n",
      "34/34 [==============================] - ETA: 0s - loss: 0.6055 - categorical_accuracy: 0.7655\n",
      "Epoch 00011: saving model to /content/drive/MyDrive/Gesture/Checkpoints/model_init_2021-12-2804_52_52.352090/model-00011-0.60554-0.76546-3.61534-0.27000.h5\n",
      "34/34 [==============================] - 46s 1s/step - loss: 0.6055 - categorical_accuracy: 0.7655 - val_loss: 3.6153 - val_categorical_accuracy: 0.2700 - lr: 8.0000e-06\n",
      "Epoch 12/25\n",
      "33/34 [============================>.] - ETA: 1s - loss: 0.6347 - categorical_accuracy: 0.7720\n",
      "Epoch 00012: saving model to /content/drive/MyDrive/Gesture/Checkpoints/model_init_2021-12-2804_52_52.352090/model-00012-0.63425-0.77225-2.96952-0.28000.h5\n",
      "34/34 [==============================] - 46s 1s/step - loss: 0.6343 - categorical_accuracy: 0.7722 - val_loss: 2.9695 - val_categorical_accuracy: 0.2800 - lr: 8.0000e-06\n",
      "Epoch 13/25\n",
      "34/34 [==============================] - ETA: 0s - loss: 0.5914 - categorical_accuracy: 0.7753\n",
      "Epoch 00013: saving model to /content/drive/MyDrive/Gesture/Checkpoints/model_init_2021-12-2804_52_52.352090/model-00013-0.59143-0.77526-2.70927-0.26000.h5\n",
      "\n",
      "Epoch 00013: ReduceLROnPlateau reducing learning rate to 1.5999999959603884e-06.\n",
      "34/34 [==============================] - 45s 1s/step - loss: 0.5914 - categorical_accuracy: 0.7753 - val_loss: 2.7093 - val_categorical_accuracy: 0.2600 - lr: 8.0000e-06\n",
      "Epoch 14/25\n",
      "33/34 [============================>.] - ETA: 1s - loss: 0.6155 - categorical_accuracy: 0.7780\n",
      "Epoch 00014: saving model to /content/drive/MyDrive/Gesture/Checkpoints/model_init_2021-12-2804_52_52.352090/model-00014-0.61662-0.77753-2.04518-0.36000.h5\n",
      "34/34 [==============================] - 46s 1s/step - loss: 0.6166 - categorical_accuracy: 0.7775 - val_loss: 2.0452 - val_categorical_accuracy: 0.3600 - lr: 1.6000e-06\n",
      "Epoch 15/25\n",
      "33/34 [============================>.] - ETA: 1s - loss: 0.5903 - categorical_accuracy: 0.7826\n",
      "Epoch 00015: saving model to /content/drive/MyDrive/Gesture/Checkpoints/model_init_2021-12-2804_52_52.352090/model-00015-0.59078-0.78205-1.89751-0.37000.h5\n",
      "34/34 [==============================] - 46s 1s/step - loss: 0.5908 - categorical_accuracy: 0.7821 - val_loss: 1.8975 - val_categorical_accuracy: 0.3700 - lr: 1.6000e-06\n",
      "Epoch 16/25\n",
      "33/34 [============================>.] - ETA: 1s - loss: 0.5869 - categorical_accuracy: 0.7826\n",
      "Epoch 00016: saving model to /content/drive/MyDrive/Gesture/Checkpoints/model_init_2021-12-2804_52_52.352090/model-00016-0.58778-0.78130-1.53966-0.46000.h5\n",
      "34/34 [==============================] - 46s 1s/step - loss: 0.5878 - categorical_accuracy: 0.7813 - val_loss: 1.5397 - val_categorical_accuracy: 0.4600 - lr: 1.6000e-06\n",
      "Epoch 17/25\n",
      "34/34 [==============================] - ETA: 0s - loss: 0.6425 - categorical_accuracy: 0.7572\n",
      "Epoch 00017: saving model to /content/drive/MyDrive/Gesture/Checkpoints/model_init_2021-12-2804_52_52.352090/model-00017-0.64248-0.75716-1.27892-0.52000.h5\n",
      "34/34 [==============================] - 46s 1s/step - loss: 0.6425 - categorical_accuracy: 0.7572 - val_loss: 1.2789 - val_categorical_accuracy: 0.5200 - lr: 1.6000e-06\n",
      "Epoch 18/25\n",
      "33/34 [============================>.] - ETA: 1s - loss: 0.6111 - categorical_accuracy: 0.7689\n",
      "Epoch 00018: saving model to /content/drive/MyDrive/Gesture/Checkpoints/model_init_2021-12-2804_52_52.352090/model-00018-0.61264-0.76697-0.92236-0.68000.h5\n",
      "34/34 [==============================] - 45s 1s/step - loss: 0.6126 - categorical_accuracy: 0.7670 - val_loss: 0.9224 - val_categorical_accuracy: 0.6800 - lr: 1.6000e-06\n",
      "Epoch 19/25\n",
      "33/34 [============================>.] - ETA: 1s - loss: 0.5943 - categorical_accuracy: 0.7697\n",
      "Epoch 00019: saving model to /content/drive/MyDrive/Gesture/Checkpoints/model_init_2021-12-2804_52_52.352090/model-00019-0.60555-0.76772-1.08936-0.63000.h5\n",
      "34/34 [==============================] - 46s 1s/step - loss: 0.6056 - categorical_accuracy: 0.7677 - val_loss: 1.0894 - val_categorical_accuracy: 0.6300 - lr: 1.6000e-06\n",
      "Epoch 20/25\n",
      "34/34 [==============================] - ETA: 0s - loss: 0.6221 - categorical_accuracy: 0.7670\n",
      "Epoch 00020: saving model to /content/drive/MyDrive/Gesture/Checkpoints/model_init_2021-12-2804_52_52.352090/model-00020-0.62206-0.76697-0.81035-0.73000.h5\n",
      "34/34 [==============================] - 46s 1s/step - loss: 0.6221 - categorical_accuracy: 0.7670 - val_loss: 0.8104 - val_categorical_accuracy: 0.7300 - lr: 1.6000e-06\n",
      "Epoch 21/25\n",
      "34/34 [==============================] - ETA: 0s - loss: 0.6102 - categorical_accuracy: 0.7798\n",
      "Epoch 00021: saving model to /content/drive/MyDrive/Gesture/Checkpoints/model_init_2021-12-2804_52_52.352090/model-00021-0.61020-0.77979-0.79779-0.74000.h5\n",
      "34/34 [==============================] - 46s 1s/step - loss: 0.6102 - categorical_accuracy: 0.7798 - val_loss: 0.7978 - val_categorical_accuracy: 0.7400 - lr: 1.6000e-06\n",
      "Epoch 22/25\n",
      "33/34 [============================>.] - ETA: 1s - loss: 0.5339 - categorical_accuracy: 0.8121\n",
      "Epoch 00022: saving model to /content/drive/MyDrive/Gesture/Checkpoints/model_init_2021-12-2804_52_52.352090/model-00022-0.54027-0.80995-0.79764-0.79000.h5\n",
      "34/34 [==============================] - 46s 1s/step - loss: 0.5403 - categorical_accuracy: 0.8100 - val_loss: 0.7976 - val_categorical_accuracy: 0.7900 - lr: 1.6000e-06\n",
      "Epoch 23/25\n",
      "33/34 [============================>.] - ETA: 1s - loss: 0.5977 - categorical_accuracy: 0.7727\n",
      "Epoch 00023: saving model to /content/drive/MyDrive/Gesture/Checkpoints/model_init_2021-12-2804_52_52.352090/model-00023-0.60228-0.77074-0.73407-0.74000.h5\n",
      "34/34 [==============================] - 46s 1s/step - loss: 0.6023 - categorical_accuracy: 0.7707 - val_loss: 0.7341 - val_categorical_accuracy: 0.7400 - lr: 1.6000e-06\n",
      "Epoch 24/25\n",
      "34/34 [==============================] - ETA: 0s - loss: 0.5805 - categorical_accuracy: 0.7888\n",
      "Epoch 00024: saving model to /content/drive/MyDrive/Gesture/Checkpoints/model_init_2021-12-2804_52_52.352090/model-00024-0.58054-0.78884-0.69128-0.82000.h5\n",
      "34/34 [==============================] - 46s 1s/step - loss: 0.5805 - categorical_accuracy: 0.7888 - val_loss: 0.6913 - val_categorical_accuracy: 0.8200 - lr: 1.6000e-06\n",
      "Epoch 25/25\n",
      "33/34 [============================>.] - ETA: 1s - loss: 0.5941 - categorical_accuracy: 0.7682\n",
      "Epoch 00025: saving model to /content/drive/MyDrive/Gesture/Checkpoints/model_init_2021-12-2804_52_52.352090/model-00025-0.60397-0.76621-0.53749-0.84000.h5\n",
      "34/34 [==============================] - 46s 1s/step - loss: 0.6040 - categorical_accuracy: 0.7662 - val_loss: 0.5375 - val_categorical_accuracy: 0.8400 - lr: 1.6000e-06\n"
     ]
    }
   ],
   "source": [
    "print(\"Total Params:\", conv_3d7_model.count_params())\n",
    "history_model7=conv_3d7.train_model(conv_3d7_model,augment_data=True)"
   ]
  },
  {
   "cell_type": "code",
   "execution_count": null,
   "metadata": {
    "colab": {
     "base_uri": "https://localhost:8080/",
     "height": 269
    },
    "executionInfo": {
     "elapsed": 75,
     "status": "ok",
     "timestamp": 1640668321396,
     "user": {
      "displayName": "Mehul Kumawat",
      "photoUrl": "https://lh3.googleusercontent.com/a/default-user=s64",
      "userId": "14358707599276366243"
     },
     "user_tz": -330
    },
    "id": "sVMQF-NtBzaD",
    "outputId": "a9d8ff87-e6df-41cb-d235-0cba3fd2594d"
   },
   "outputs": [
    {
     "data": {
      "image/png": "[encoded data removed]",
      "text/plain": [
       "<Figure size 1080x288 with 2 Axes>"
      ]
     },
     "metadata": {
      "needs_background": "light"
     },
     "output_type": "display_data"
    }
   ],
   "source": [
    "plot(history_model7)"
   ]
  },
  {
   "cell_type": "markdown",
   "metadata": {
    "id": "yjCmO8r9BzaD"
   },
   "source": [
    "#### Further decrease in number of parameters, observed a increase in the validation score to 84%."
   ]
  },
  {
   "cell_type": "markdown",
   "metadata": {
    "id": "magbAPKKBzaD"
   },
   "source": [
    "# Model 8 - reducing the number of parameters"
   ]
  },
  {
   "cell_type": "code",
   "execution_count": null,
   "metadata": {
    "collapsed": true,
    "id": "EVHBvYkbBzaE"
   },
   "outputs": [],
   "source": [
    "class ModelConv3D8(ModelBuilder):\n",
    "    \n",
    "    def define_model(self,dense_neurons=64,dropout=0.25):\n",
    "\n",
    "        model = Sequential()\n",
    "        model.add(Conv3D(8, (3, 3, 3), padding='same',\n",
    "                 input_shape=(self.frames_to_sample,self.image_height,self.image_width,self.channels)))\n",
    "        model.add(Activation('relu'))\n",
    "        model.add(BatchNormalization())\n",
    "        model.add(MaxPooling3D(pool_size=(2, 2, 2)))\n",
    "\n",
    "        model.add(Conv3D(16, (3, 3, 3), padding='same'))\n",
    "        model.add(Activation('relu'))\n",
    "        model.add(BatchNormalization())\n",
    "        model.add(MaxPooling3D(pool_size=(2, 2, 2)))\n",
    "\n",
    "        model.add(Conv3D(32, (2, 2, 2), padding='same'))\n",
    "        model.add(Activation('relu'))\n",
    "        model.add(BatchNormalization())\n",
    "        model.add(MaxPooling3D(pool_size=(2, 2, 2)))\n",
    "\n",
    "        model.add(Conv3D(64, (2, 2, 2), padding='same'))\n",
    "        model.add(Activation('relu'))\n",
    "        model.add(BatchNormalization())\n",
    "        model.add(MaxPooling3D(pool_size=(2, 2, 2)))\n",
    "        \n",
    "        model.add(Flatten())\n",
    "        model.add(Dense(dense_neurons,activation='relu'))\n",
    "        model.add(BatchNormalization())\n",
    "        model.add(Dropout(dropout))\n",
    "\n",
    "        model.add(Dense(dense_neurons,activation='relu'))\n",
    "        model.add(BatchNormalization())\n",
    "        model.add(Dropout(dropout))\n",
    "\n",
    "        model.add(Dense(self.num_classes,activation='softmax'))\n",
    "\n",
    "        optimiser = tf.keras.optimizers.Adam(lr=0.0002)\n",
    "        model.compile(optimizer=optimiser, loss='categorical_crossentropy', metrics=['categorical_accuracy'])\n",
    "        return model"
   ]
  },
  {
   "cell_type": "code",
   "execution_count": null,
   "metadata": {
    "colab": {
     "base_uri": "https://localhost:8080/"
    },
    "executionInfo": {
     "elapsed": 54,
     "status": "ok",
     "timestamp": 1640668321400,
     "user": {
      "displayName": "Mehul Kumawat",
      "photoUrl": "https://lh3.googleusercontent.com/a/default-user=s64",
      "userId": "14358707599276366243"
     },
     "user_tz": -330
    },
    "id": "ABQpCJFpBzaE",
    "outputId": "13f4ea94-82cf-4021-b5fb-290520123457"
   },
   "outputs": [
    {
     "name": "stdout",
     "output_type": "stream",
     "text": [
      "Model: \"sequential_2\"\n",
      "_________________________________________________________________\n",
      " Layer (type)                Output Shape              Param #   \n",
      "=================================================================\n",
      " conv3d_8 (Conv3D)           (None, 16, 120, 120, 8)   656       \n",
      "                                                                 \n",
      " activation_8 (Activation)   (None, 16, 120, 120, 8)   0         \n",
      "                                                                 \n",
      " batch_normalization_12 (Bat  (None, 16, 120, 120, 8)  32        \n",
      " chNormalization)                                                \n",
      "                                                                 \n",
      " max_pooling3d_8 (MaxPooling  (None, 8, 60, 60, 8)     0         \n",
      " 3D)                                                             \n",
      "                                                                 \n",
      " conv3d_9 (Conv3D)           (None, 8, 60, 60, 16)     3472      \n",
      "                                                                 \n",
      " activation_9 (Activation)   (None, 8, 60, 60, 16)     0         \n",
      "                                                                 \n",
      " batch_normalization_13 (Bat  (None, 8, 60, 60, 16)    64        \n",
      " chNormalization)                                                \n",
      "                                                                 \n",
      " max_pooling3d_9 (MaxPooling  (None, 4, 30, 30, 16)    0         \n",
      " 3D)                                                             \n",
      "                                                                 \n",
      " conv3d_10 (Conv3D)          (None, 4, 30, 30, 32)     4128      \n",
      "                                                                 \n",
      " activation_10 (Activation)  (None, 4, 30, 30, 32)     0         \n",
      "                                                                 \n",
      " batch_normalization_14 (Bat  (None, 4, 30, 30, 32)    128       \n",
      " chNormalization)                                                \n",
      "                                                                 \n",
      " max_pooling3d_10 (MaxPoolin  (None, 2, 15, 15, 32)    0         \n",
      " g3D)                                                            \n",
      "                                                                 \n",
      " conv3d_11 (Conv3D)          (None, 2, 15, 15, 64)     16448     \n",
      "                                                                 \n",
      " activation_11 (Activation)  (None, 2, 15, 15, 64)     0         \n",
      "                                                                 \n",
      " batch_normalization_15 (Bat  (None, 2, 15, 15, 64)    256       \n",
      " chNormalization)                                                \n",
      "                                                                 \n",
      " max_pooling3d_11 (MaxPoolin  (None, 1, 7, 7, 64)      0         \n",
      " g3D)                                                            \n",
      "                                                                 \n",
      " flatten_2 (Flatten)         (None, 3136)              0         \n",
      "                                                                 \n",
      " dense_6 (Dense)             (None, 64)                200768    \n",
      "                                                                 \n",
      " batch_normalization_16 (Bat  (None, 64)               256       \n",
      " chNormalization)                                                \n",
      "                                                                 \n",
      " dropout_4 (Dropout)         (None, 64)                0         \n",
      "                                                                 \n",
      " dense_7 (Dense)             (None, 64)                4160      \n",
      "                                                                 \n",
      " batch_normalization_17 (Bat  (None, 64)               256       \n",
      " chNormalization)                                                \n",
      "                                                                 \n",
      " dropout_5 (Dropout)         (None, 64)                0         \n",
      "                                                                 \n",
      " dense_8 (Dense)             (None, 5)                 325       \n",
      "                                                                 \n",
      "=================================================================\n",
      "Total params: 230,949\n",
      "Trainable params: 230,453\n",
      "Non-trainable params: 496\n",
      "_________________________________________________________________\n"
     ]
    }
   ],
   "source": [
    "conv_3d8=ModelConv3D8()\n",
    "conv_3d8.initialize_path(project_folder)\n",
    "conv_3d8.initialize_image_properties(image_height=120,image_width=120)\n",
    "conv_3d8.initialize_hyperparams(frames_to_sample=16,batch_size=20,num_epochs=30)\n",
    "conv_3d8_model=conv_3d8.define_model(dense_neurons=64,dropout=0.25)\n",
    "conv_3d8_model.summary()"
   ]
  },
  {
   "cell_type": "code",
   "execution_count": null,
   "metadata": {
    "colab": {
     "base_uri": "https://localhost:8080/"
    },
    "executionInfo": {
     "elapsed": 1373296,
     "status": "ok",
     "timestamp": 1640669694655,
     "user": {
      "displayName": "Mehul Kumawat",
      "photoUrl": "https://lh3.googleusercontent.com/a/default-user=s64",
      "userId": "14358707599276366243"
     },
     "user_tz": -330
    },
    "id": "N6Dzi4HNBzaE",
    "outputId": "9a49c7e5-e0f6-49bd-b0be-da5646fd5faf"
   },
   "outputs": [
    {
     "name": "stdout",
     "output_type": "stream",
     "text": [
      "Total Params: 230949\n",
      "Epoch 1/30\n",
      "34/34 [==============================] - ETA: 0s - loss: 2.0287 - categorical_accuracy: 0.2602\n",
      "Epoch 00001: saving model to /content/drive/MyDrive/Gesture/Checkpoints/model_init_2021-12-2805_12_00.808268/model-00001-2.02874-0.26018-1.81320-0.21000.h5\n",
      "34/34 [==============================] - 47s 1s/step - loss: 2.0287 - categorical_accuracy: 0.2602 - val_loss: 1.8132 - val_categorical_accuracy: 0.2100 - lr: 2.0000e-04\n",
      "Epoch 2/30\n",
      "34/34 [==============================] - ETA: 0s - loss: 1.4609 - categorical_accuracy: 0.4412\n",
      "Epoch 00002: saving model to /content/drive/MyDrive/Gesture/Checkpoints/model_init_2021-12-2805_12_00.808268/model-00002-1.46087-0.44118-2.36758-0.18000.h5\n",
      "34/34 [==============================] - 46s 1s/step - loss: 1.4609 - categorical_accuracy: 0.4412 - val_loss: 2.3676 - val_categorical_accuracy: 0.1800 - lr: 2.0000e-04\n",
      "Epoch 3/30\n",
      "33/34 [============================>.] - ETA: 1s - loss: 1.2608 - categorical_accuracy: 0.5136\n",
      "Epoch 00003: saving model to /content/drive/MyDrive/Gesture/Checkpoints/model_init_2021-12-2805_12_00.808268/model-00003-1.26344-0.51282-2.89230-0.19000.h5\n",
      "34/34 [==============================] - 46s 1s/step - loss: 1.2634 - categorical_accuracy: 0.5128 - val_loss: 2.8923 - val_categorical_accuracy: 0.1900 - lr: 2.0000e-04\n",
      "Epoch 4/30\n",
      "33/34 [============================>.] - ETA: 1s - loss: 1.1809 - categorical_accuracy: 0.5439\n",
      "Epoch 00004: saving model to /content/drive/MyDrive/Gesture/Checkpoints/model_init_2021-12-2805_12_00.808268/model-00004-1.18399-0.54223-4.01907-0.18000.h5\n",
      "34/34 [==============================] - 46s 1s/step - loss: 1.1840 - categorical_accuracy: 0.5422 - val_loss: 4.0191 - val_categorical_accuracy: 0.1800 - lr: 2.0000e-04\n",
      "Epoch 5/30\n",
      "34/34 [==============================] - ETA: 0s - loss: 1.1075 - categorical_accuracy: 0.5679\n",
      "Epoch 00005: saving model to /content/drive/MyDrive/Gesture/Checkpoints/model_init_2021-12-2805_12_00.808268/model-00005-1.10753-0.56787-4.40479-0.25000.h5\n",
      "\n",
      "Epoch 00005: ReduceLROnPlateau reducing learning rate to 3.9999998989515007e-05.\n",
      "34/34 [==============================] - 45s 1s/step - loss: 1.1075 - categorical_accuracy: 0.5679 - val_loss: 4.4048 - val_categorical_accuracy: 0.2500 - lr: 2.0000e-04\n",
      "Epoch 6/30\n",
      "34/34 [==============================] - ETA: 0s - loss: 1.0266 - categorical_accuracy: 0.5973\n",
      "Epoch 00006: saving model to /content/drive/MyDrive/Gesture/Checkpoints/model_init_2021-12-2805_12_00.808268/model-00006-1.02660-0.59729-4.56225-0.26000.h5\n",
      "34/34 [==============================] - 45s 1s/step - loss: 1.0266 - categorical_accuracy: 0.5973 - val_loss: 4.5622 - val_categorical_accuracy: 0.2600 - lr: 4.0000e-05\n",
      "Epoch 7/30\n",
      "34/34 [==============================] - ETA: 0s - loss: 0.9446 - categorical_accuracy: 0.6259\n",
      "Epoch 00007: saving model to /content/drive/MyDrive/Gesture/Checkpoints/model_init_2021-12-2805_12_00.808268/model-00007-0.94458-0.62594-4.76194-0.23000.h5\n",
      "34/34 [==============================] - 46s 1s/step - loss: 0.9446 - categorical_accuracy: 0.6259 - val_loss: 4.7619 - val_categorical_accuracy: 0.2300 - lr: 4.0000e-05\n",
      "Epoch 8/30\n",
      "33/34 [============================>.] - ETA: 1s - loss: 0.9501 - categorical_accuracy: 0.6333\n",
      "Epoch 00008: saving model to /content/drive/MyDrive/Gesture/Checkpoints/model_init_2021-12-2805_12_00.808268/model-00008-0.95381-0.63273-4.45329-0.28000.h5\n",
      "34/34 [==============================] - 46s 1s/step - loss: 0.9538 - categorical_accuracy: 0.6327 - val_loss: 4.4533 - val_categorical_accuracy: 0.2800 - lr: 4.0000e-05\n",
      "Epoch 9/30\n",
      "34/34 [==============================] - ETA: 0s - loss: 0.8833 - categorical_accuracy: 0.6621\n",
      "Epoch 00009: saving model to /content/drive/MyDrive/Gesture/Checkpoints/model_init_2021-12-2805_12_00.808268/model-00009-0.88329-0.66214-3.87030-0.32000.h5\n",
      "\n",
      "Epoch 00009: ReduceLROnPlateau reducing learning rate to 7.999999797903002e-06.\n",
      "34/34 [==============================] - 46s 1s/step - loss: 0.8833 - categorical_accuracy: 0.6621 - val_loss: 3.8703 - val_categorical_accuracy: 0.3200 - lr: 4.0000e-05\n",
      "Epoch 10/30\n",
      "33/34 [============================>.] - ETA: 1s - loss: 0.8711 - categorical_accuracy: 0.6652\n",
      "Epoch 00010: saving model to /content/drive/MyDrive/Gesture/Checkpoints/model_init_2021-12-2805_12_00.808268/model-00010-0.87012-0.66591-3.79240-0.25000.h5\n",
      "34/34 [==============================] - 46s 1s/step - loss: 0.8701 - categorical_accuracy: 0.6659 - val_loss: 3.7924 - val_categorical_accuracy: 0.2500 - lr: 8.0000e-06\n",
      "Epoch 11/30\n",
      "34/34 [==============================] - ETA: 0s - loss: 0.9029 - categorical_accuracy: 0.6456\n",
      "Epoch 00011: saving model to /content/drive/MyDrive/Gesture/Checkpoints/model_init_2021-12-2805_12_00.808268/model-00011-0.90288-0.64555-3.11788-0.30000.h5\n",
      "34/34 [==============================] - 46s 1s/step - loss: 0.9029 - categorical_accuracy: 0.6456 - val_loss: 3.1179 - val_categorical_accuracy: 0.3000 - lr: 8.0000e-06\n",
      "Epoch 12/30\n",
      "34/34 [==============================] - ETA: 0s - loss: 0.9041 - categorical_accuracy: 0.6637\n",
      "Epoch 00012: saving model to /content/drive/MyDrive/Gesture/Checkpoints/model_init_2021-12-2805_12_00.808268/model-00012-0.90410-0.66365-2.47945-0.36000.h5\n",
      "34/34 [==============================] - 46s 1s/step - loss: 0.9041 - categorical_accuracy: 0.6637 - val_loss: 2.4794 - val_categorical_accuracy: 0.3600 - lr: 8.0000e-06\n",
      "Epoch 13/30\n",
      "34/34 [==============================] - ETA: 0s - loss: 0.8754 - categorical_accuracy: 0.6614\n",
      "Epoch 00013: saving model to /content/drive/MyDrive/Gesture/Checkpoints/model_init_2021-12-2805_12_00.808268/model-00013-0.87539-0.66139-2.21029-0.41000.h5\n",
      "\n",
      "Epoch 00013: ReduceLROnPlateau reducing learning rate to 1.5999999959603884e-06.\n",
      "34/34 [==============================] - 46s 1s/step - loss: 0.8754 - categorical_accuracy: 0.6614 - val_loss: 2.2103 - val_categorical_accuracy: 0.4100 - lr: 8.0000e-06\n",
      "Epoch 14/30\n",
      "33/34 [============================>.] - ETA: 1s - loss: 0.8619 - categorical_accuracy: 0.6667\n",
      "Epoch 00014: saving model to /content/drive/MyDrive/Gesture/Checkpoints/model_init_2021-12-2805_12_00.808268/model-00014-0.86300-0.66516-1.72112-0.43000.h5\n",
      "34/34 [==============================] - 46s 1s/step - loss: 0.8630 - categorical_accuracy: 0.6652 - val_loss: 1.7211 - val_categorical_accuracy: 0.4300 - lr: 1.6000e-06\n",
      "Epoch 15/30\n",
      "34/34 [==============================] - ETA: 0s - loss: 0.8782 - categorical_accuracy: 0.6471\n",
      "Epoch 00015: saving model to /content/drive/MyDrive/Gesture/Checkpoints/model_init_2021-12-2805_12_00.808268/model-00015-0.87815-0.64706-1.70241-0.43000.h5\n",
      "34/34 [==============================] - 46s 1s/step - loss: 0.8782 - categorical_accuracy: 0.6471 - val_loss: 1.7024 - val_categorical_accuracy: 0.4300 - lr: 1.6000e-06\n",
      "Epoch 16/30\n",
      "34/34 [==============================] - ETA: 0s - loss: 0.8787 - categorical_accuracy: 0.6433\n",
      "Epoch 00016: saving model to /content/drive/MyDrive/Gesture/Checkpoints/model_init_2021-12-2805_12_00.808268/model-00016-0.87870-0.64329-1.47243-0.50000.h5\n",
      "34/34 [==============================] - 46s 1s/step - loss: 0.8787 - categorical_accuracy: 0.6433 - val_loss: 1.4724 - val_categorical_accuracy: 0.5000 - lr: 1.6000e-06\n",
      "Epoch 17/30\n",
      "33/34 [============================>.] - ETA: 1s - loss: 0.8509 - categorical_accuracy: 0.6720\n",
      "Epoch 00017: saving model to /content/drive/MyDrive/Gesture/Checkpoints/model_init_2021-12-2805_12_00.808268/model-00017-0.85058-0.67119-1.39998-0.50000.h5\n",
      "34/34 [==============================] - 46s 1s/step - loss: 0.8506 - categorical_accuracy: 0.6712 - val_loss: 1.4000 - val_categorical_accuracy: 0.5000 - lr: 1.6000e-06\n",
      "Epoch 18/30\n",
      "34/34 [==============================] - ETA: 0s - loss: 0.8936 - categorical_accuracy: 0.6388\n",
      "Epoch 00018: saving model to /content/drive/MyDrive/Gesture/Checkpoints/model_init_2021-12-2805_12_00.808268/model-00018-0.89356-0.63876-1.25226-0.49000.h5\n",
      "34/34 [==============================] - 46s 1s/step - loss: 0.8936 - categorical_accuracy: 0.6388 - val_loss: 1.2523 - val_categorical_accuracy: 0.4900 - lr: 1.6000e-06\n",
      "Epoch 19/30\n",
      "34/34 [==============================] - ETA: 0s - loss: 0.8654 - categorical_accuracy: 0.6689\n",
      "Epoch 00019: saving model to /content/drive/MyDrive/Gesture/Checkpoints/model_init_2021-12-2805_12_00.808268/model-00019-0.86537-0.66893-1.32892-0.44000.h5\n",
      "34/34 [==============================] - 46s 1s/step - loss: 0.8654 - categorical_accuracy: 0.6689 - val_loss: 1.3289 - val_categorical_accuracy: 0.4400 - lr: 1.6000e-06\n",
      "Epoch 20/30\n",
      "34/34 [==============================] - ETA: 0s - loss: 0.8751 - categorical_accuracy: 0.6561\n",
      "Epoch 00020: saving model to /content/drive/MyDrive/Gesture/Checkpoints/model_init_2021-12-2805_12_00.808268/model-00020-0.87508-0.65611-1.15508-0.49000.h5\n",
      "34/34 [==============================] - 46s 1s/step - loss: 0.8751 - categorical_accuracy: 0.6561 - val_loss: 1.1551 - val_categorical_accuracy: 0.4900 - lr: 1.6000e-06\n",
      "Epoch 21/30\n",
      "33/34 [============================>.] - ETA: 1s - loss: 0.8898 - categorical_accuracy: 0.6606\n",
      "Epoch 00021: saving model to /content/drive/MyDrive/Gesture/Checkpoints/model_init_2021-12-2805_12_00.808268/model-00021-0.89099-0.65913-1.14461-0.49000.h5\n",
      "34/34 [==============================] - 46s 1s/step - loss: 0.8910 - categorical_accuracy: 0.6591 - val_loss: 1.1446 - val_categorical_accuracy: 0.4900 - lr: 1.6000e-06\n",
      "Epoch 22/30\n",
      "34/34 [==============================] - ETA: 0s - loss: 0.8953 - categorical_accuracy: 0.6463\n",
      "Epoch 00022: saving model to /content/drive/MyDrive/Gesture/Checkpoints/model_init_2021-12-2805_12_00.808268/model-00022-0.89527-0.64630-1.04514-0.56000.h5\n",
      "34/34 [==============================] - 45s 1s/step - loss: 0.8953 - categorical_accuracy: 0.6463 - val_loss: 1.0451 - val_categorical_accuracy: 0.5600 - lr: 1.6000e-06\n",
      "Epoch 23/30\n",
      "34/34 [==============================] - ETA: 0s - loss: 0.8717 - categorical_accuracy: 0.6606\n",
      "Epoch 00023: saving model to /content/drive/MyDrive/Gesture/Checkpoints/model_init_2021-12-2805_12_00.808268/model-00023-0.87172-0.66063-1.02065-0.54000.h5\n",
      "34/34 [==============================] - 45s 1s/step - loss: 0.8717 - categorical_accuracy: 0.6606 - val_loss: 1.0207 - val_categorical_accuracy: 0.5400 - lr: 1.6000e-06\n",
      "Epoch 24/30\n",
      "34/34 [==============================] - ETA: 0s - loss: 0.8594 - categorical_accuracy: 0.6538\n",
      "Epoch 00024: saving model to /content/drive/MyDrive/Gesture/Checkpoints/model_init_2021-12-2805_12_00.808268/model-00024-0.85936-0.65385-1.05656-0.53000.h5\n",
      "34/34 [==============================] - 46s 1s/step - loss: 0.8594 - categorical_accuracy: 0.6538 - val_loss: 1.0566 - val_categorical_accuracy: 0.5300 - lr: 1.6000e-06\n",
      "Epoch 25/30\n",
      "33/34 [============================>.] - ETA: 1s - loss: 0.8514 - categorical_accuracy: 0.6788\n",
      "Epoch 00025: saving model to /content/drive/MyDrive/Gesture/Checkpoints/model_init_2021-12-2805_12_00.808268/model-00025-0.85567-0.67798-1.12233-0.53000.h5\n",
      "34/34 [==============================] - 45s 1s/step - loss: 0.8557 - categorical_accuracy: 0.6780 - val_loss: 1.1223 - val_categorical_accuracy: 0.5300 - lr: 1.6000e-06\n",
      "Epoch 26/30\n",
      "33/34 [============================>.] - ETA: 1s - loss: 0.8718 - categorical_accuracy: 0.6576\n",
      "Epoch 00026: saving model to /content/drive/MyDrive/Gesture/Checkpoints/model_init_2021-12-2805_12_00.808268/model-00026-0.88200-0.65535-1.08132-0.53000.h5\n",
      "34/34 [==============================] - 45s 1s/step - loss: 0.8820 - categorical_accuracy: 0.6554 - val_loss: 1.0813 - val_categorical_accuracy: 0.5300 - lr: 1.6000e-06\n",
      "Epoch 27/30\n",
      "34/34 [==============================] - ETA: 0s - loss: 0.8922 - categorical_accuracy: 0.6531\n",
      "Epoch 00027: saving model to /content/drive/MyDrive/Gesture/Checkpoints/model_init_2021-12-2805_12_00.808268/model-00027-0.89221-0.65309-1.14983-0.49000.h5\n",
      "\n",
      "Epoch 00027: ReduceLROnPlateau reducing learning rate to 3.200000037395512e-07.\n",
      "34/34 [==============================] - 46s 1s/step - loss: 0.8922 - categorical_accuracy: 0.6531 - val_loss: 1.1498 - val_categorical_accuracy: 0.4900 - lr: 1.6000e-06\n",
      "Epoch 28/30\n",
      "33/34 [============================>.] - ETA: 1s - loss: 0.8480 - categorical_accuracy: 0.6811\n",
      "Epoch 00028: saving model to /content/drive/MyDrive/Gesture/Checkpoints/model_init_2021-12-2805_12_00.808268/model-00028-0.84962-0.68024-1.06527-0.58000.h5\n",
      "34/34 [==============================] - 45s 1s/step - loss: 0.8496 - categorical_accuracy: 0.6802 - val_loss: 1.0653 - val_categorical_accuracy: 0.5800 - lr: 3.2000e-07\n",
      "Epoch 29/30\n",
      "34/34 [==============================] - ETA: 0s - loss: 0.8963 - categorical_accuracy: 0.6538\n",
      "Epoch 00029: saving model to /content/drive/MyDrive/Gesture/Checkpoints/model_init_2021-12-2805_12_00.808268/model-00029-0.89632-0.65385-1.02573-0.56000.h5\n",
      "34/34 [==============================] - 45s 1s/step - loss: 0.8963 - categorical_accuracy: 0.6538 - val_loss: 1.0257 - val_categorical_accuracy: 0.5600 - lr: 3.2000e-07\n",
      "Epoch 30/30\n",
      "34/34 [==============================] - ETA: 0s - loss: 0.9100 - categorical_accuracy: 0.6410\n",
      "Epoch 00030: saving model to /content/drive/MyDrive/Gesture/Checkpoints/model_init_2021-12-2805_12_00.808268/model-00030-0.91001-0.64103-1.11074-0.52000.h5\n",
      "34/34 [==============================] - 46s 1s/step - loss: 0.9100 - categorical_accuracy: 0.6410 - val_loss: 1.1107 - val_categorical_accuracy: 0.5200 - lr: 3.2000e-07\n"
     ]
    }
   ],
   "source": [
    "print(\"Total Params:\", conv_3d8_model.count_params())\n",
    "history_model8=conv_3d8.train_model(conv_3d8_model,augment_data=True)"
   ]
  },
  {
   "cell_type": "code",
   "execution_count": null,
   "metadata": {
    "colab": {
     "base_uri": "https://localhost:8080/",
     "height": 267
    },
    "executionInfo": {
     "elapsed": 2064,
     "status": "ok",
     "timestamp": 1640669696615,
     "user": {
      "displayName": "Mehul Kumawat",
      "photoUrl": "https://lh3.googleusercontent.com/a/default-user=s64",
      "userId": "14358707599276366243"
     },
     "user_tz": -330
    },
    "id": "fbZjThgvBzaF",
    "outputId": "09496ef6-4a39-46c2-92ef-cb820785528d"
   },
   "outputs": [
    {
     "data": {
      "image/png": "[encoded data removed]",
      "text/plain": [
       "<Figure size 1080x288 with 2 Axes>"
      ]
     },
     "metadata": {
      "needs_background": "light"
     },
     "output_type": "display_data"
    }
   ],
   "source": [
    "plot(history_model8)"
   ]
  },
  {
   "cell_type": "markdown",
   "metadata": {
    "collapsed": true,
    "id": "E1xRz5dnBzaF"
   },
   "source": [
    "###### For the above low memory foot print model the best validation accuracy of 78%"
   ]
  },
  {
   "cell_type": "markdown",
   "metadata": {
    "id": "UrI2JnGqBzaF"
   },
   "source": [
    "# Model 9 - CNN- LSTM Model"
   ]
  },
  {
   "cell_type": "code",
   "execution_count": null,
   "metadata": {
    "collapsed": true,
    "id": "P3LpEdGMBzaF"
   },
   "outputs": [],
   "source": [
    "class RNNCNN1(ModelBuilder):\n",
    "    \n",
    "    def define_model(self,lstm_cells=64,dense_neurons=64,dropout=0.25):\n",
    "\n",
    "        model = Sequential()\n",
    "\n",
    "        model.add(TimeDistributed(Conv2D(16, (3, 3) , padding='same', activation='relu'),\n",
    "                                  input_shape=(self.frames_to_sample,self.image_height,self.image_width,self.channels)))\n",
    "        model.add(TimeDistributed(BatchNormalization()))\n",
    "        model.add(TimeDistributed(MaxPooling2D((2, 2))))\n",
    "        \n",
    "        model.add(TimeDistributed(Conv2D(32, (3, 3) , padding='same', activation='relu')))\n",
    "        model.add(TimeDistributed(BatchNormalization()))\n",
    "        model.add(TimeDistributed(MaxPooling2D((2, 2))))\n",
    "        \n",
    "        model.add(TimeDistributed(Conv2D(64, (3, 3) , padding='same', activation='relu')))\n",
    "        model.add(TimeDistributed(BatchNormalization()))\n",
    "        model.add(TimeDistributed(MaxPooling2D((2, 2))))\n",
    "        \n",
    "        model.add(TimeDistributed(Conv2D(128, (3, 3) , padding='same', activation='relu')))\n",
    "        model.add(TimeDistributed(BatchNormalization()))\n",
    "        model.add(TimeDistributed(MaxPooling2D((2, 2))))\n",
    "        \n",
    "        model.add(TimeDistributed(Conv2D(256, (3, 3) , padding='same', activation='relu')))\n",
    "        model.add(TimeDistributed(BatchNormalization()))\n",
    "        model.add(TimeDistributed(MaxPooling2D((2, 2))))\n",
    "        \n",
    "        #model.add(TimeDistributed(Conv2D(512, (2, 2) , padding='valid', activation='relu')))\n",
    "       # model.add(TimeDistributed(BatchNormalization()))\n",
    "       # model.add(TimeDistributed(MaxPooling2D((2, 2))))\n",
    "\n",
    "        model.add(TimeDistributed(Flatten()))\n",
    "\n",
    "\n",
    "        model.add(LSTM(lstm_cells))\n",
    "        model.add(Dropout(dropout))\n",
    "        \n",
    "        model.add(Dense(dense_neurons,activation='relu'))\n",
    "        model.add(Dropout(dropout))\n",
    "        \n",
    "        model.add(Dense(self.num_classes, activation='softmax'))\n",
    "        optimiser = tf.keras.optimizers.Adam()\n",
    "        model.compile(optimizer=optimiser, loss='categorical_crossentropy', metrics=['categorical_accuracy'])\n",
    "        return model"
   ]
  },
  {
   "cell_type": "code",
   "execution_count": null,
   "metadata": {
    "colab": {
     "base_uri": "https://localhost:8080/"
    },
    "executionInfo": {
     "elapsed": 496,
     "status": "ok",
     "timestamp": 1640669696618,
     "user": {
      "displayName": "Mehul Kumawat",
      "photoUrl": "https://lh3.googleusercontent.com/a/default-user=s64",
      "userId": "14358707599276366243"
     },
     "user_tz": -330
    },
    "id": "ACSU0JCnBzaG",
    "outputId": "c02e19d0-fdec-43b3-e5ee-85b111a6e7dc"
   },
   "outputs": [
    {
     "name": "stdout",
     "output_type": "stream",
     "text": [
      "Model: \"sequential_3\"\n",
      "_________________________________________________________________\n",
      " Layer (type)                Output Shape              Param #   \n",
      "=================================================================\n",
      " time_distributed (TimeDistr  (None, 18, 120, 120, 16)  448      \n",
      " ibuted)                                                         \n",
      "                                                                 \n",
      " time_distributed_1 (TimeDis  (None, 18, 120, 120, 16)  64       \n",
      " tributed)                                                       \n",
      "                                                                 \n",
      " time_distributed_2 (TimeDis  (None, 18, 60, 60, 16)   0         \n",
      " tributed)                                                       \n",
      "                                                                 \n",
      " time_distributed_3 (TimeDis  (None, 18, 60, 60, 32)   4640      \n",
      " tributed)                                                       \n",
      "                                                                 \n",
      " time_distributed_4 (TimeDis  (None, 18, 60, 60, 32)   128       \n",
      " tributed)                                                       \n",
      "                                                                 \n",
      " time_distributed_5 (TimeDis  (None, 18, 30, 30, 32)   0         \n",
      " tributed)                                                       \n",
      "                                                                 \n",
      " time_distributed_6 (TimeDis  (None, 18, 30, 30, 64)   18496     \n",
      " tributed)                                                       \n",
      "                                                                 \n",
      " time_distributed_7 (TimeDis  (None, 18, 30, 30, 64)   256       \n",
      " tributed)                                                       \n",
      "                                                                 \n",
      " time_distributed_8 (TimeDis  (None, 18, 15, 15, 64)   0         \n",
      " tributed)                                                       \n",
      "                                                                 \n",
      " time_distributed_9 (TimeDis  (None, 18, 15, 15, 128)  73856     \n",
      " tributed)                                                       \n",
      "                                                                 \n",
      " time_distributed_10 (TimeDi  (None, 18, 15, 15, 128)  512       \n",
      " stributed)                                                      \n",
      "                                                                 \n",
      " time_distributed_11 (TimeDi  (None, 18, 7, 7, 128)    0         \n",
      " stributed)                                                      \n",
      "                                                                 \n",
      " time_distributed_12 (TimeDi  (None, 18, 7, 7, 256)    295168    \n",
      " stributed)                                                      \n",
      "                                                                 \n",
      " time_distributed_13 (TimeDi  (None, 18, 7, 7, 256)    1024      \n",
      " stributed)                                                      \n",
      "                                                                 \n",
      " time_distributed_14 (TimeDi  (None, 18, 3, 3, 256)    0         \n",
      " stributed)                                                      \n",
      "                                                                 \n",
      " time_distributed_15 (TimeDi  (None, 18, 2304)         0         \n",
      " stributed)                                                      \n",
      "                                                                 \n",
      " lstm (LSTM)                 (None, 128)               1245696   \n",
      "                                                                 \n",
      " dropout_6 (Dropout)         (None, 128)               0         \n",
      "                                                                 \n",
      " dense_9 (Dense)             (None, 128)               16512     \n",
      "                                                                 \n",
      " dropout_7 (Dropout)         (None, 128)               0         \n",
      "                                                                 \n",
      " dense_10 (Dense)            (None, 5)                 645       \n",
      "                                                                 \n",
      "=================================================================\n",
      "Total params: 1,657,445\n",
      "Trainable params: 1,656,453\n",
      "Non-trainable params: 992\n",
      "_________________________________________________________________\n"
     ]
    }
   ],
   "source": [
    "rnn_cnn1=RNNCNN1()\n",
    "rnn_cnn1.initialize_path(project_folder)\n",
    "rnn_cnn1.initialize_image_properties(image_height=120,image_width=120)\n",
    "rnn_cnn1.initialize_hyperparams(frames_to_sample=18,batch_size=20,num_epochs=20)\n",
    "rnn_cnn1_model=rnn_cnn1.define_model(lstm_cells=128,dense_neurons=128,dropout=0.25)\n",
    "rnn_cnn1_model.summary()"
   ]
  },
  {
   "cell_type": "code",
   "execution_count": null,
   "metadata": {
    "colab": {
     "base_uri": "https://localhost:8080/"
    },
    "executionInfo": {
     "elapsed": 1027274,
     "status": "ok",
     "timestamp": 1640670723476,
     "user": {
      "displayName": "Mehul Kumawat",
      "photoUrl": "https://lh3.googleusercontent.com/a/default-user=s64",
      "userId": "14358707599276366243"
     },
     "user_tz": -330
    },
    "id": "nUEa75q0BzaG",
    "outputId": "a2d7e249-9292-4a0e-aeb4-f2e8754f3356"
   },
   "outputs": [
    {
     "name": "stdout",
     "output_type": "stream",
     "text": [
      "Total Params: 1657445\n",
      "Epoch 1/20\n",
      "34/34 [==============================] - ETA: 0s - loss: 1.5031 - categorical_accuracy: 0.3620\n",
      "Epoch 00001: saving model to /content/drive/MyDrive/Gesture/Checkpoints/model_init_2021-12-2805_34_55.070043/model-00001-1.50314-0.36199-1.65186-0.28000.h5\n",
      "34/34 [==============================] - 55s 2s/step - loss: 1.5031 - categorical_accuracy: 0.3620 - val_loss: 1.6519 - val_categorical_accuracy: 0.2800 - lr: 0.0010\n",
      "Epoch 2/20\n",
      "34/34 [==============================] - ETA: 0s - loss: 1.1761 - categorical_accuracy: 0.5083\n",
      "Epoch 00002: saving model to /content/drive/MyDrive/Gesture/Checkpoints/model_init_2021-12-2805_34_55.070043/model-00002-1.17612-0.50830-2.01834-0.21000.h5\n",
      "34/34 [==============================] - 51s 2s/step - loss: 1.1761 - categorical_accuracy: 0.5083 - val_loss: 2.0183 - val_categorical_accuracy: 0.2100 - lr: 0.0010\n",
      "Epoch 3/20\n",
      "34/34 [==============================] - ETA: 0s - loss: 1.0855 - categorical_accuracy: 0.5543\n",
      "Epoch 00003: saving model to /content/drive/MyDrive/Gesture/Checkpoints/model_init_2021-12-2805_34_55.070043/model-00003-1.08548-0.55430-2.45454-0.22000.h5\n",
      "34/34 [==============================] - 51s 2s/step - loss: 1.0855 - categorical_accuracy: 0.5543 - val_loss: 2.4545 - val_categorical_accuracy: 0.2200 - lr: 0.0010\n",
      "Epoch 4/20\n",
      "34/34 [==============================] - ETA: 0s - loss: 0.9619 - categorical_accuracy: 0.6244\n",
      "Epoch 00004: saving model to /content/drive/MyDrive/Gesture/Checkpoints/model_init_2021-12-2805_34_55.070043/model-00004-0.96187-0.62443-2.22926-0.19000.h5\n",
      "34/34 [==============================] - 51s 2s/step - loss: 0.9619 - categorical_accuracy: 0.6244 - val_loss: 2.2293 - val_categorical_accuracy: 0.1900 - lr: 0.0010\n",
      "Epoch 5/20\n",
      "34/34 [==============================] - ETA: 0s - loss: 0.8977 - categorical_accuracy: 0.6493\n",
      "Epoch 00005: saving model to /content/drive/MyDrive/Gesture/Checkpoints/model_init_2021-12-2805_34_55.070043/model-00005-0.89766-0.64932-2.65418-0.19000.h5\n",
      "\n",
      "Epoch 00005: ReduceLROnPlateau reducing learning rate to 0.00020000000949949026.\n",
      "34/34 [==============================] - 51s 2s/step - loss: 0.8977 - categorical_accuracy: 0.6493 - val_loss: 2.6542 - val_categorical_accuracy: 0.1900 - lr: 0.0010\n",
      "Epoch 6/20\n",
      "34/34 [==============================] - ETA: 0s - loss: 0.7565 - categorical_accuracy: 0.7006\n",
      "Epoch 00006: saving model to /content/drive/MyDrive/Gesture/Checkpoints/model_init_2021-12-2805_34_55.070043/model-00006-0.75654-0.70060-2.19589-0.23000.h5\n",
      "34/34 [==============================] - 52s 2s/step - loss: 0.7565 - categorical_accuracy: 0.7006 - val_loss: 2.1959 - val_categorical_accuracy: 0.2300 - lr: 2.0000e-04\n",
      "Epoch 7/20\n",
      "34/34 [==============================] - ETA: 0s - loss: 0.6080 - categorical_accuracy: 0.7753\n",
      "Epoch 00007: saving model to /content/drive/MyDrive/Gesture/Checkpoints/model_init_2021-12-2805_34_55.070043/model-00007-0.60796-0.77526-2.25324-0.23000.h5\n",
      "34/34 [==============================] - 50s 2s/step - loss: 0.6080 - categorical_accuracy: 0.7753 - val_loss: 2.2532 - val_categorical_accuracy: 0.2300 - lr: 2.0000e-04\n",
      "Epoch 8/20\n",
      "34/34 [==============================] - ETA: 0s - loss: 0.5673 - categorical_accuracy: 0.7911\n",
      "Epoch 00008: saving model to /content/drive/MyDrive/Gesture/Checkpoints/model_init_2021-12-2805_34_55.070043/model-00008-0.56734-0.79110-2.32117-0.20000.h5\n",
      "34/34 [==============================] - 51s 2s/step - loss: 0.5673 - categorical_accuracy: 0.7911 - val_loss: 2.3212 - val_categorical_accuracy: 0.2000 - lr: 2.0000e-04\n",
      "Epoch 9/20\n",
      "34/34 [==============================] - ETA: 0s - loss: 0.5130 - categorical_accuracy: 0.8183\n",
      "Epoch 00009: saving model to /content/drive/MyDrive/Gesture/Checkpoints/model_init_2021-12-2805_34_55.070043/model-00009-0.51300-0.81825-2.48944-0.15000.h5\n",
      "\n",
      "Epoch 00009: ReduceLROnPlateau reducing learning rate to 4.0000001899898055e-05.\n",
      "34/34 [==============================] - 51s 2s/step - loss: 0.5130 - categorical_accuracy: 0.8183 - val_loss: 2.4894 - val_categorical_accuracy: 0.1500 - lr: 2.0000e-04\n",
      "Epoch 10/20\n",
      "34/34 [==============================] - ETA: 0s - loss: 0.4699 - categorical_accuracy: 0.8356\n",
      "Epoch 00010: saving model to /content/drive/MyDrive/Gesture/Checkpoints/model_init_2021-12-2805_34_55.070043/model-00010-0.46995-0.83560-2.04203-0.33000.h5\n",
      "34/34 [==============================] - 51s 2s/step - loss: 0.4699 - categorical_accuracy: 0.8356 - val_loss: 2.0420 - val_categorical_accuracy: 0.3300 - lr: 4.0000e-05\n",
      "Epoch 11/20\n",
      "34/34 [==============================] - ETA: 0s - loss: 0.4085 - categorical_accuracy: 0.8514\n",
      "Epoch 00011: saving model to /content/drive/MyDrive/Gesture/Checkpoints/model_init_2021-12-2805_34_55.070043/model-00011-0.40854-0.85143-2.14012-0.27000.h5\n",
      "34/34 [==============================] - 51s 2s/step - loss: 0.4085 - categorical_accuracy: 0.8514 - val_loss: 2.1401 - val_categorical_accuracy: 0.2700 - lr: 4.0000e-05\n",
      "Epoch 12/20\n",
      "34/34 [==============================] - ETA: 0s - loss: 0.4388 - categorical_accuracy: 0.8363\n",
      "Epoch 00012: saving model to /content/drive/MyDrive/Gesture/Checkpoints/model_init_2021-12-2805_34_55.070043/model-00012-0.43877-0.83635-2.04180-0.30000.h5\n",
      "34/34 [==============================] - 52s 2s/step - loss: 0.4388 - categorical_accuracy: 0.8363 - val_loss: 2.0418 - val_categorical_accuracy: 0.3000 - lr: 4.0000e-05\n",
      "Epoch 13/20\n",
      "34/34 [==============================] - ETA: 0s - loss: 0.4022 - categorical_accuracy: 0.8627\n",
      "Epoch 00013: saving model to /content/drive/MyDrive/Gesture/Checkpoints/model_init_2021-12-2805_34_55.070043/model-00013-0.40215-0.86275-1.72919-0.44000.h5\n",
      "\n",
      "Epoch 00013: ReduceLROnPlateau reducing learning rate to 8.000000525498762e-06.\n",
      "34/34 [==============================] - 51s 2s/step - loss: 0.4022 - categorical_accuracy: 0.8627 - val_loss: 1.7292 - val_categorical_accuracy: 0.4400 - lr: 4.0000e-05\n",
      "Epoch 14/20\n",
      "34/34 [==============================] - ETA: 0s - loss: 0.3923 - categorical_accuracy: 0.8643\n",
      "Epoch 00014: saving model to /content/drive/MyDrive/Gesture/Checkpoints/model_init_2021-12-2805_34_55.070043/model-00014-0.39231-0.86425-1.55839-0.48000.h5\n",
      "34/34 [==============================] - 51s 2s/step - loss: 0.3923 - categorical_accuracy: 0.8643 - val_loss: 1.5584 - val_categorical_accuracy: 0.4800 - lr: 8.0000e-06\n",
      "Epoch 15/20\n",
      "34/34 [==============================] - ETA: 0s - loss: 0.3918 - categorical_accuracy: 0.8725\n",
      "Epoch 00015: saving model to /content/drive/MyDrive/Gesture/Checkpoints/model_init_2021-12-2805_34_55.070043/model-00015-0.39178-0.87255-1.19732-0.58000.h5\n",
      "34/34 [==============================] - 51s 2s/step - loss: 0.3918 - categorical_accuracy: 0.8725 - val_loss: 1.1973 - val_categorical_accuracy: 0.5800 - lr: 8.0000e-06\n",
      "Epoch 16/20\n",
      "34/34 [==============================] - ETA: 0s - loss: 0.3768 - categorical_accuracy: 0.8771\n",
      "Epoch 00016: saving model to /content/drive/MyDrive/Gesture/Checkpoints/model_init_2021-12-2805_34_55.070043/model-00016-0.37680-0.87707-1.02759-0.61000.h5\n",
      "34/34 [==============================] - 52s 2s/step - loss: 0.3768 - categorical_accuracy: 0.8771 - val_loss: 1.0276 - val_categorical_accuracy: 0.6100 - lr: 8.0000e-06\n",
      "Epoch 17/20\n",
      "34/34 [==============================] - ETA: 0s - loss: 0.3876 - categorical_accuracy: 0.8710\n",
      "Epoch 00017: saving model to /content/drive/MyDrive/Gesture/Checkpoints/model_init_2021-12-2805_34_55.070043/model-00017-0.38759-0.87104-0.88278-0.67000.h5\n",
      "34/34 [==============================] - 51s 2s/step - loss: 0.3876 - categorical_accuracy: 0.8710 - val_loss: 0.8828 - val_categorical_accuracy: 0.6700 - lr: 8.0000e-06\n",
      "Epoch 18/20\n",
      "34/34 [==============================] - ETA: 0s - loss: 0.3994 - categorical_accuracy: 0.8560\n",
      "Epoch 00018: saving model to /content/drive/MyDrive/Gesture/Checkpoints/model_init_2021-12-2805_34_55.070043/model-00018-0.39937-0.85596-0.86447-0.68000.h5\n",
      "34/34 [==============================] - 51s 2s/step - loss: 0.3994 - categorical_accuracy: 0.8560 - val_loss: 0.8645 - val_categorical_accuracy: 0.6800 - lr: 8.0000e-06\n",
      "Epoch 19/20\n",
      "34/34 [==============================] - ETA: 0s - loss: 0.3734 - categorical_accuracy: 0.8808\n",
      "Epoch 00019: saving model to /content/drive/MyDrive/Gesture/Checkpoints/model_init_2021-12-2805_34_55.070043/model-00019-0.37342-0.88084-0.64041-0.70000.h5\n",
      "34/34 [==============================] - 51s 2s/step - loss: 0.3734 - categorical_accuracy: 0.8808 - val_loss: 0.6404 - val_categorical_accuracy: 0.7000 - lr: 8.0000e-06\n",
      "Epoch 20/20\n",
      "34/34 [==============================] - ETA: 0s - loss: 0.3851 - categorical_accuracy: 0.8695\n",
      "Epoch 00020: saving model to /content/drive/MyDrive/Gesture/Checkpoints/model_init_2021-12-2805_34_55.070043/model-00020-0.38509-0.86953-0.69994-0.73000.h5\n",
      "34/34 [==============================] - 51s 2s/step - loss: 0.3851 - categorical_accuracy: 0.8695 - val_loss: 0.6999 - val_categorical_accuracy: 0.7300 - lr: 8.0000e-06\n"
     ]
    }
   ],
   "source": [
    "print(\"Total Params:\", rnn_cnn1_model.count_params())\n",
    "history_model9=rnn_cnn1.train_model(rnn_cnn1_model,augment_data=True)"
   ]
  },
  {
   "cell_type": "code",
   "execution_count": null,
   "metadata": {
    "colab": {
     "base_uri": "https://localhost:8080/",
     "height": 265
    },
    "executionInfo": {
     "elapsed": 1456,
     "status": "ok",
     "timestamp": 1640670724901,
     "user": {
      "displayName": "Mehul Kumawat",
      "photoUrl": "https://lh3.googleusercontent.com/a/default-user=s64",
      "userId": "14358707599276366243"
     },
     "user_tz": -330
    },
    "id": "1D-C4mvrBzaG",
    "outputId": "89b55ad0-da30-48d1-eecc-95b1a4909c98"
   },
   "outputs": [
    {
     "data": {
      "image/png": "[encoded data removed]",
      "text/plain": [
       "<Figure size 1080x288 with 2 Axes>"
      ]
     },
     "metadata": {
      "needs_background": "light"
     },
     "output_type": "display_data"
    }
   ],
   "source": [
    "plot(history_model9)"
   ]
  },
  {
   "cell_type": "markdown",
   "metadata": {
    "collapsed": true,
    "id": "hZfeRpwmBzaG"
   },
   "source": [
    "#### For CNN - LSTM model we get a best validation accuracy of 73%"
   ]
  },
  {
   "cell_type": "markdown",
   "metadata": {
    "id": "FXrGlbkmBzaZ"
   },
   "source": [
    "# Model 10 - CNN with GRU - Similar to Model 9"
   ]
  },
  {
   "cell_type": "code",
   "execution_count": null,
   "metadata": {
    "collapsed": true,
    "id": "sST1I3BABzaZ"
   },
   "outputs": [],
   "source": [
    "class RNNCNN2(ModelBuilder):\n",
    "    \n",
    "    def define_model(self,gru_cells=64,dense_neurons=64,dropout=0.25):\n",
    "\n",
    "        model = Sequential()\n",
    "\n",
    "        model.add(TimeDistributed(Conv2D(16, (3, 3) , padding='same', activation='relu'),\n",
    "                                  input_shape=(self.frames_to_sample,self.image_height,self.image_width,self.channels)))\n",
    "        model.add(TimeDistributed(BatchNormalization()))\n",
    "        model.add(TimeDistributed(MaxPooling2D((2, 2))))\n",
    "        \n",
    "        model.add(TimeDistributed(Conv2D(32, (3, 3) , padding='same', activation='relu')))\n",
    "        model.add(TimeDistributed(BatchNormalization()))\n",
    "        model.add(TimeDistributed(MaxPooling2D((2, 2))))\n",
    "        \n",
    "        model.add(TimeDistributed(Conv2D(64, (3, 3) , padding='same', activation='relu')))\n",
    "        model.add(TimeDistributed(BatchNormalization()))\n",
    "        model.add(TimeDistributed(MaxPooling2D((2, 2))))\n",
    "        \n",
    "        model.add(TimeDistributed(Conv2D(128, (3, 3) , padding='same', activation='relu')))\n",
    "        model.add(TimeDistributed(BatchNormalization()))\n",
    "        model.add(TimeDistributed(MaxPooling2D((2, 2))))\n",
    "        \n",
    "\n",
    "        model.add(TimeDistributed(Flatten()))\n",
    "\n",
    "\n",
    "        model.add(GRU(gru_cells))\n",
    "        model.add(Dropout(dropout))\n",
    "        \n",
    "        model.add(Dense(dense_neurons,activation='relu'))\n",
    "        model.add(Dropout(dropout))\n",
    "        \n",
    "        model.add(Dense(self.num_classes, activation='softmax'))\n",
    "        optimiser = tf.keras.optimizers.Adam(lr=0.0002)\n",
    "        model.compile(optimizer=optimiser, loss='categorical_crossentropy', metrics=['categorical_accuracy'])\n",
    "        return model"
   ]
  },
  {
   "cell_type": "code",
   "execution_count": null,
   "metadata": {
    "colab": {
     "base_uri": "https://localhost:8080/"
    },
    "executionInfo": {
     "elapsed": 1007,
     "status": "ok",
     "timestamp": 1640671449603,
     "user": {
      "displayName": "Mehul Kumawat",
      "photoUrl": "https://lh3.googleusercontent.com/a/default-user=s64",
      "userId": "14358707599276366243"
     },
     "user_tz": -330
    },
    "id": "e15GWglBBzaa",
    "outputId": "620205f9-67e1-4eac-c8c6-e1eb34f93767"
   },
   "outputs": [
    {
     "name": "stdout",
     "output_type": "stream",
     "text": [
      "Model: \"sequential_5\"\n",
      "_________________________________________________________________\n",
      " Layer (type)                Output Shape              Param #   \n",
      "=================================================================\n",
      " time_distributed_29 (TimeDi  (None, 18, 120, 120, 16)  448      \n",
      " stributed)                                                      \n",
      "                                                                 \n",
      " time_distributed_30 (TimeDi  (None, 18, 120, 120, 16)  64       \n",
      " stributed)                                                      \n",
      "                                                                 \n",
      " time_distributed_31 (TimeDi  (None, 18, 60, 60, 16)   0         \n",
      " stributed)                                                      \n",
      "                                                                 \n",
      " time_distributed_32 (TimeDi  (None, 18, 60, 60, 32)   4640      \n",
      " stributed)                                                      \n",
      "                                                                 \n",
      " time_distributed_33 (TimeDi  (None, 18, 60, 60, 32)   128       \n",
      " stributed)                                                      \n",
      "                                                                 \n",
      " time_distributed_34 (TimeDi  (None, 18, 30, 30, 32)   0         \n",
      " stributed)                                                      \n",
      "                                                                 \n",
      " time_distributed_35 (TimeDi  (None, 18, 30, 30, 64)   18496     \n",
      " stributed)                                                      \n",
      "                                                                 \n",
      " time_distributed_36 (TimeDi  (None, 18, 30, 30, 64)   256       \n",
      " stributed)                                                      \n",
      "                                                                 \n",
      " time_distributed_37 (TimeDi  (None, 18, 15, 15, 64)   0         \n",
      " stributed)                                                      \n",
      "                                                                 \n",
      " time_distributed_38 (TimeDi  (None, 18, 15, 15, 128)  73856     \n",
      " stributed)                                                      \n",
      "                                                                 \n",
      " time_distributed_39 (TimeDi  (None, 18, 15, 15, 128)  512       \n",
      " stributed)                                                      \n",
      "                                                                 \n",
      " time_distributed_40 (TimeDi  (None, 18, 7, 7, 128)    0         \n",
      " stributed)                                                      \n",
      "                                                                 \n",
      " time_distributed_41 (TimeDi  (None, 18, 6272)         0         \n",
      " stributed)                                                      \n",
      "                                                                 \n",
      " gru (GRU)                   (None, 128)               2458368   \n",
      "                                                                 \n",
      " dropout_8 (Dropout)         (None, 128)               0         \n",
      "                                                                 \n",
      " dense_11 (Dense)            (None, 128)               16512     \n",
      "                                                                 \n",
      " dropout_9 (Dropout)         (None, 128)               0         \n",
      "                                                                 \n",
      " dense_12 (Dense)            (None, 5)                 645       \n",
      "                                                                 \n",
      "=================================================================\n",
      "Total params: 2,573,925\n",
      "Trainable params: 2,573,445\n",
      "Non-trainable params: 480\n",
      "_________________________________________________________________\n"
     ]
    }
   ],
   "source": [
    "rnn_cnn2=RNNCNN2()\n",
    "rnn_cnn2.initialize_path(project_folder)\n",
    "rnn_cnn2.initialize_image_properties(image_height=120,image_width=120)\n",
    "rnn_cnn2.initialize_hyperparams(frames_to_sample=18,batch_size=20,num_epochs=20)\n",
    "rnn_cnn2_model=rnn_cnn2.define_model(gru_cells=128,dense_neurons=128,dropout=0.25)\n",
    "rnn_cnn2_model.summary()"
   ]
  },
  {
   "cell_type": "code",
   "execution_count": null,
   "metadata": {
    "colab": {
     "base_uri": "https://localhost:8080/"
    },
    "executionInfo": {
     "elapsed": 1040741,
     "status": "ok",
     "timestamp": 1640672490331,
     "user": {
      "displayName": "Mehul Kumawat",
      "photoUrl": "https://lh3.googleusercontent.com/a/default-user=s64",
      "userId": "14358707599276366243"
     },
     "user_tz": -330
    },
    "id": "CpFR-x9DBzaa",
    "outputId": "d335c8c6-a76f-45ad-a75c-dc0e0870b476"
   },
   "outputs": [
    {
     "name": "stdout",
     "output_type": "stream",
     "text": [
      "Total Params: 2573925\n",
      "Epoch 1/20\n",
      "34/34 [==============================] - ETA: 0s - loss: 1.4098 - categorical_accuracy: 0.4163\n",
      "Epoch 00001: saving model to /content/drive/MyDrive/Gesture/Checkpoints/model_init_2021-12-2806_04_08.680393/model-00001-1.40981-0.41629-1.85414-0.16000.h5\n",
      "34/34 [==============================] - 54s 2s/step - loss: 1.4098 - categorical_accuracy: 0.4163 - val_loss: 1.8541 - val_categorical_accuracy: 0.1600 - lr: 2.0000e-04\n",
      "Epoch 2/20\n",
      "33/34 [============================>.] - ETA: 1s - loss: 1.0074 - categorical_accuracy: 0.6023\n",
      "Epoch 00002: saving model to /content/drive/MyDrive/Gesture/Checkpoints/model_init_2021-12-2806_04_08.680393/model-00002-1.00813-0.60181-2.21657-0.16000.h5\n",
      "34/34 [==============================] - 53s 2s/step - loss: 1.0081 - categorical_accuracy: 0.6018 - val_loss: 2.2166 - val_categorical_accuracy: 0.1600 - lr: 2.0000e-04\n",
      "Epoch 3/20\n",
      "33/34 [============================>.] - ETA: 1s - loss: 0.8133 - categorical_accuracy: 0.7061\n",
      "Epoch 00003: saving model to /content/drive/MyDrive/Gesture/Checkpoints/model_init_2021-12-2806_04_08.680393/model-00003-0.81347-0.70588-2.52328-0.15000.h5\n",
      "34/34 [==============================] - 53s 2s/step - loss: 0.8135 - categorical_accuracy: 0.7059 - val_loss: 2.5233 - val_categorical_accuracy: 0.1500 - lr: 2.0000e-04\n",
      "Epoch 4/20\n",
      "34/34 [==============================] - ETA: 0s - loss: 0.6625 - categorical_accuracy: 0.7640\n",
      "Epoch 00004: saving model to /content/drive/MyDrive/Gesture/Checkpoints/model_init_2021-12-2806_04_08.680393/model-00004-0.66253-0.76395-2.03825-0.22000.h5\n",
      "34/34 [==============================] - 52s 2s/step - loss: 0.6625 - categorical_accuracy: 0.7640 - val_loss: 2.0382 - val_categorical_accuracy: 0.2200 - lr: 2.0000e-04\n",
      "Epoch 5/20\n",
      "33/34 [============================>.] - ETA: 1s - loss: 0.5261 - categorical_accuracy: 0.8212\n",
      "Epoch 00005: saving model to /content/drive/MyDrive/Gesture/Checkpoints/model_init_2021-12-2806_04_08.680393/model-00005-0.52640-0.82127-2.48437-0.14000.h5\n",
      "\n",
      "Epoch 00005: ReduceLROnPlateau reducing learning rate to 3.9999998989515007e-05.\n",
      "34/34 [==============================] - 51s 2s/step - loss: 0.5264 - categorical_accuracy: 0.8213 - val_loss: 2.4844 - val_categorical_accuracy: 0.1400 - lr: 2.0000e-04\n",
      "Epoch 6/20\n",
      "34/34 [==============================] - ETA: 0s - loss: 0.4156 - categorical_accuracy: 0.8650\n",
      "Epoch 00006: saving model to /content/drive/MyDrive/Gesture/Checkpoints/model_init_2021-12-2806_04_08.680393/model-00006-0.41556-0.86501-2.42728-0.16000.h5\n",
      "34/34 [==============================] - 52s 2s/step - loss: 0.4156 - categorical_accuracy: 0.8650 - val_loss: 2.4273 - val_categorical_accuracy: 0.1600 - lr: 4.0000e-05\n",
      "Epoch 7/20\n",
      "34/34 [==============================] - ETA: 0s - loss: 0.3514 - categorical_accuracy: 0.9035\n",
      "Epoch 00007: saving model to /content/drive/MyDrive/Gesture/Checkpoints/model_init_2021-12-2806_04_08.680393/model-00007-0.35138-0.90347-2.49957-0.17000.h5\n",
      "34/34 [==============================] - 52s 2s/step - loss: 0.3514 - categorical_accuracy: 0.9035 - val_loss: 2.4996 - val_categorical_accuracy: 0.1700 - lr: 4.0000e-05\n",
      "Epoch 8/20\n",
      "34/34 [==============================] - ETA: 0s - loss: 0.3663 - categorical_accuracy: 0.8937\n",
      "Epoch 00008: saving model to /content/drive/MyDrive/Gesture/Checkpoints/model_init_2021-12-2806_04_08.680393/model-00008-0.36630-0.89367-2.57155-0.21000.h5\n",
      "34/34 [==============================] - 52s 2s/step - loss: 0.3663 - categorical_accuracy: 0.8937 - val_loss: 2.5716 - val_categorical_accuracy: 0.2100 - lr: 4.0000e-05\n",
      "Epoch 9/20\n",
      "34/34 [==============================] - ETA: 0s - loss: 0.3230 - categorical_accuracy: 0.9050\n",
      "Epoch 00009: saving model to /content/drive/MyDrive/Gesture/Checkpoints/model_init_2021-12-2806_04_08.680393/model-00009-0.32300-0.90498-2.47326-0.28000.h5\n",
      "\n",
      "Epoch 00009: ReduceLROnPlateau reducing learning rate to 7.999999797903002e-06.\n",
      "34/34 [==============================] - 51s 2s/step - loss: 0.3230 - categorical_accuracy: 0.9050 - val_loss: 2.4733 - val_categorical_accuracy: 0.2800 - lr: 4.0000e-05\n",
      "Epoch 10/20\n",
      "33/34 [============================>.] - ETA: 1s - loss: 0.3053 - categorical_accuracy: 0.9152\n",
      "Epoch 00010: saving model to /content/drive/MyDrive/Gesture/Checkpoints/model_init_2021-12-2806_04_08.680393/model-00010-0.30644-0.91478-2.57322-0.31000.h5\n",
      "34/34 [==============================] - 52s 2s/step - loss: 0.3064 - categorical_accuracy: 0.9148 - val_loss: 2.5732 - val_categorical_accuracy: 0.3100 - lr: 8.0000e-06\n",
      "Epoch 11/20\n",
      "33/34 [============================>.] - ETA: 1s - loss: 0.2796 - categorical_accuracy: 0.9212\n",
      "Epoch 00011: saving model to /content/drive/MyDrive/Gesture/Checkpoints/model_init_2021-12-2806_04_08.680393/model-00011-0.28121-0.92081-2.48131-0.33000.h5\n",
      "34/34 [==============================] - 52s 2s/step - loss: 0.2812 - categorical_accuracy: 0.9208 - val_loss: 2.4813 - val_categorical_accuracy: 0.3300 - lr: 8.0000e-06\n",
      "Epoch 12/20\n",
      "34/34 [==============================] - ETA: 0s - loss: 0.2891 - categorical_accuracy: 0.9155\n",
      "Epoch 00012: saving model to /content/drive/MyDrive/Gesture/Checkpoints/model_init_2021-12-2806_04_08.680393/model-00012-0.28915-0.91554-2.17383-0.41000.h5\n",
      "34/34 [==============================] - 53s 2s/step - loss: 0.2891 - categorical_accuracy: 0.9155 - val_loss: 2.1738 - val_categorical_accuracy: 0.4100 - lr: 8.0000e-06\n",
      "Epoch 13/20\n",
      "34/34 [==============================] - ETA: 0s - loss: 0.2791 - categorical_accuracy: 0.9299\n",
      "Epoch 00013: saving model to /content/drive/MyDrive/Gesture/Checkpoints/model_init_2021-12-2806_04_08.680393/model-00013-0.27909-0.92986-2.12784-0.32000.h5\n",
      "\n",
      "Epoch 00013: ReduceLROnPlateau reducing learning rate to 1.5999999959603884e-06.\n",
      "34/34 [==============================] - 51s 2s/step - loss: 0.2791 - categorical_accuracy: 0.9299 - val_loss: 2.1278 - val_categorical_accuracy: 0.3200 - lr: 8.0000e-06\n",
      "Epoch 14/20\n",
      "34/34 [==============================] - ETA: 0s - loss: 0.2675 - categorical_accuracy: 0.9351\n",
      "Epoch 00014: saving model to /content/drive/MyDrive/Gesture/Checkpoints/model_init_2021-12-2806_04_08.680393/model-00014-0.26752-0.93514-1.50477-0.52000.h5\n",
      "34/34 [==============================] - 52s 2s/step - loss: 0.2675 - categorical_accuracy: 0.9351 - val_loss: 1.5048 - val_categorical_accuracy: 0.5200 - lr: 1.6000e-06\n",
      "Epoch 15/20\n",
      "34/34 [==============================] - ETA: 0s - loss: 0.2774 - categorical_accuracy: 0.9201\n",
      "Epoch 00015: saving model to /content/drive/MyDrive/Gesture/Checkpoints/model_init_2021-12-2806_04_08.680393/model-00015-0.27735-0.92006-1.39074-0.50000.h5\n",
      "34/34 [==============================] - 52s 2s/step - loss: 0.2774 - categorical_accuracy: 0.9201 - val_loss: 1.3907 - val_categorical_accuracy: 0.5000 - lr: 1.6000e-06\n",
      "Epoch 16/20\n",
      "34/34 [==============================] - ETA: 0s - loss: 0.2732 - categorical_accuracy: 0.9321\n",
      "Epoch 00016: saving model to /content/drive/MyDrive/Gesture/Checkpoints/model_init_2021-12-2806_04_08.680393/model-00016-0.27316-0.93213-1.11502-0.60000.h5\n",
      "34/34 [==============================] - 52s 2s/step - loss: 0.2732 - categorical_accuracy: 0.9321 - val_loss: 1.1150 - val_categorical_accuracy: 0.6000 - lr: 1.6000e-06\n",
      "Epoch 17/20\n",
      "34/34 [==============================] - ETA: 0s - loss: 0.2741 - categorical_accuracy: 0.9268\n",
      "Epoch 00017: saving model to /content/drive/MyDrive/Gesture/Checkpoints/model_init_2021-12-2806_04_08.680393/model-00017-0.27414-0.92685-0.99127-0.61000.h5\n",
      "34/34 [==============================] - 51s 2s/step - loss: 0.2741 - categorical_accuracy: 0.9268 - val_loss: 0.9913 - val_categorical_accuracy: 0.6100 - lr: 1.6000e-06\n",
      "Epoch 18/20\n",
      "33/34 [============================>.] - ETA: 1s - loss: 0.2742 - categorical_accuracy: 0.9280\n",
      "Epoch 00018: saving model to /content/drive/MyDrive/Gesture/Checkpoints/model_init_2021-12-2806_04_08.680393/model-00018-0.27593-0.92760-0.82328-0.68000.h5\n",
      "34/34 [==============================] - 52s 2s/step - loss: 0.2759 - categorical_accuracy: 0.9276 - val_loss: 0.8233 - val_categorical_accuracy: 0.6800 - lr: 1.6000e-06\n",
      "Epoch 19/20\n",
      "34/34 [==============================] - ETA: 0s - loss: 0.2749 - categorical_accuracy: 0.9299\n",
      "Epoch 00019: saving model to /content/drive/MyDrive/Gesture/Checkpoints/model_init_2021-12-2806_04_08.680393/model-00019-0.27492-0.92986-0.74351-0.68000.h5\n",
      "34/34 [==============================] - 51s 2s/step - loss: 0.2749 - categorical_accuracy: 0.9299 - val_loss: 0.7435 - val_categorical_accuracy: 0.6800 - lr: 1.6000e-06\n",
      "Epoch 20/20\n",
      "34/34 [==============================] - ETA: 0s - loss: 0.2722 - categorical_accuracy: 0.9321\n",
      "Epoch 00020: saving model to /content/drive/MyDrive/Gesture/Checkpoints/model_init_2021-12-2806_04_08.680393/model-00020-0.27219-0.93213-0.68093-0.77000.h5\n",
      "34/34 [==============================] - 52s 2s/step - loss: 0.2722 - categorical_accuracy: 0.9321 - val_loss: 0.6809 - val_categorical_accuracy: 0.7700 - lr: 1.6000e-06\n"
     ]
    }
   ],
   "source": [
    "print(\"Total Params:\", rnn_cnn2_model.count_params())\n",
    "history_model17=rnn_cnn2.train_model(rnn_cnn2_model,augment_data=True)"
   ]
  },
  {
   "cell_type": "code",
   "execution_count": null,
   "metadata": {
    "colab": {
     "base_uri": "https://localhost:8080/",
     "height": 265
    },
    "executionInfo": {
     "elapsed": 48,
     "status": "ok",
     "timestamp": 1640672490332,
     "user": {
      "displayName": "Mehul Kumawat",
      "photoUrl": "https://lh3.googleusercontent.com/a/default-user=s64",
      "userId": "14358707599276366243"
     },
     "user_tz": -330
    },
    "id": "SoZPCludBzaa",
    "outputId": "03745aad-dce1-492d-b643-72076d1a7a49"
   },
   "outputs": [
    {
     "data": {
      "image/png": "[encoded data removed]",
      "text/plain": [
       "<Figure size 1080x288 with 2 Axes>"
      ]
     },
     "metadata": {
      "needs_background": "light"
     },
     "output_type": "display_data"
    }
   ],
   "source": [
    "plot(history_model17)"
   ]
  },
  {
   "cell_type": "markdown",
   "metadata": {
    "collapsed": true,
    "id": "QGwhmCmjBzaa"
   },
   "source": [
    "### We see that overfitting is considerably less when we do more augmentation. However there is not much improvement on accuracy"
   ]
  },
  {
   "cell_type": "markdown",
   "metadata": {
    "collapsed": true,
    "id": "7nquzmImBzab"
   },
   "source": [
    "# Model 11 - Transfer Learning"
   ]
  },
  {
   "cell_type": "code",
   "execution_count": null,
   "metadata": {
    "collapsed": true,
    "id": "BKpBKJ_2Bzab"
   },
   "outputs": [],
   "source": [
    "from keras.applications import mobilenet"
   ]
  },
  {
   "cell_type": "code",
   "execution_count": null,
   "metadata": {
    "colab": {
     "base_uri": "https://localhost:8080/"
    },
    "executionInfo": {
     "elapsed": 1496,
     "status": "ok",
     "timestamp": 1640672938227,
     "user": {
      "displayName": "Mehul Kumawat",
      "photoUrl": "https://lh3.googleusercontent.com/a/default-user=s64",
      "userId": "14358707599276366243"
     },
     "user_tz": -330
    },
    "id": "1IbGEGHjBzab",
    "outputId": "dfe0e45a-5e4b-43ca-a0db-e0bcc02bc5b3"
   },
   "outputs": [
    {
     "name": "stdout",
     "output_type": "stream",
     "text": [
      "WARNING:tensorflow:`input_shape` is undefined or non-square, or `rows` is not in [128, 160, 192, 224]. Weights for input shape (224, 224) will be loaded as the default.\n"
     ]
    }
   ],
   "source": [
    "mobilenet_transfer = mobilenet.MobileNet(weights='imagenet', include_top=False)\n",
    "\n",
    "class RNNCNN_TL(ModelBuilder):\n",
    "    \n",
    "    def define_model(self,lstm_cells=64,dense_neurons=64,dropout=0.25):\n",
    "        \n",
    "        model = Sequential()\n",
    "        model.add(TimeDistributed(mobilenet_transfer,input_shape=(self.frames_to_sample,self.image_height,self.image_width,self.channels)))\n",
    "        \n",
    "        \n",
    "        for layer in model.layers:\n",
    "            layer.trainable = False\n",
    "        \n",
    "        \n",
    "        model.add(TimeDistributed(BatchNormalization()))\n",
    "        model.add(TimeDistributed(MaxPooling2D((2, 2))))\n",
    "        model.add(TimeDistributed(Flatten()))\n",
    "\n",
    "        model.add(LSTM(lstm_cells))\n",
    "        model.add(Dropout(dropout))\n",
    "        \n",
    "        model.add(Dense(dense_neurons,activation='relu'))\n",
    "        model.add(Dropout(dropout))\n",
    "        \n",
    "        model.add(Dense(self.num_classes, activation='softmax'))\n",
    "        \n",
    "        \n",
    "        optimiser = tf.keras.optimizers.Adam()\n",
    "        model.compile(optimizer=optimiser, loss='categorical_crossentropy', metrics=['categorical_accuracy'])\n",
    "        return model"
   ]
  },
  {
   "cell_type": "code",
   "execution_count": null,
   "metadata": {
    "colab": {
     "base_uri": "https://localhost:8080/"
    },
    "executionInfo": {
     "elapsed": 783,
     "status": "ok",
     "timestamp": 1640672939007,
     "user": {
      "displayName": "Mehul Kumawat",
      "photoUrl": "https://lh3.googleusercontent.com/a/default-user=s64",
      "userId": "14358707599276366243"
     },
     "user_tz": -330
    },
    "id": "IR-dPqCrBzab",
    "outputId": "29419db7-583f-4475-e2d9-2a997bb48222"
   },
   "outputs": [
    {
     "name": "stdout",
     "output_type": "stream",
     "text": [
      "Model: \"sequential_6\"\n",
      "_________________________________________________________________\n",
      " Layer (type)                Output Shape              Param #   \n",
      "=================================================================\n",
      " time_distributed_42 (TimeDi  (None, 16, 3, 3, 1024)   3228864   \n",
      " stributed)                                                      \n",
      "                                                                 \n",
      " time_distributed_43 (TimeDi  (None, 16, 3, 3, 1024)   4096      \n",
      " stributed)                                                      \n",
      "                                                                 \n",
      " time_distributed_44 (TimeDi  (None, 16, 1, 1, 1024)   0         \n",
      " stributed)                                                      \n",
      "                                                                 \n",
      " time_distributed_45 (TimeDi  (None, 16, 1024)         0         \n",
      " stributed)                                                      \n",
      "                                                                 \n",
      " lstm_1 (LSTM)               (None, 128)               590336    \n",
      "                                                                 \n",
      " dropout_10 (Dropout)        (None, 128)               0         \n",
      "                                                                 \n",
      " dense_13 (Dense)            (None, 128)               16512     \n",
      "                                                                 \n",
      " dropout_11 (Dropout)        (None, 128)               0         \n",
      "                                                                 \n",
      " dense_14 (Dense)            (None, 5)                 645       \n",
      "                                                                 \n",
      "=================================================================\n",
      "Total params: 3,840,453\n",
      "Trainable params: 609,541\n",
      "Non-trainable params: 3,230,912\n",
      "_________________________________________________________________\n"
     ]
    }
   ],
   "source": [
    "rnn_cnn_tl=RNNCNN_TL()\n",
    "rnn_cnn_tl.initialize_path(project_folder)\n",
    "rnn_cnn_tl.initialize_image_properties(image_height=120,image_width=120)\n",
    "rnn_cnn_tl.initialize_hyperparams(frames_to_sample=16,batch_size=5,num_epochs=20)\n",
    "rnn_cnn_tl_model=rnn_cnn_tl.define_model(lstm_cells=128,dense_neurons=128,dropout=0.25)\n",
    "rnn_cnn_tl_model.summary()"
   ]
  },
  {
   "cell_type": "code",
   "execution_count": null,
   "metadata": {
    "colab": {
     "base_uri": "https://localhost:8080/"
    },
    "executionInfo": {
     "elapsed": 972905,
     "status": "ok",
     "timestamp": 1640673911896,
     "user": {
      "displayName": "Mehul Kumawat",
      "photoUrl": "https://lh3.googleusercontent.com/a/default-user=s64",
      "userId": "14358707599276366243"
     },
     "user_tz": -330
    },
    "id": "Xuq7z970Bzac",
    "outputId": "313715f9-208d-4c1a-e530-b649b8bde4d1"
   },
   "outputs": [
    {
     "name": "stdout",
     "output_type": "stream",
     "text": [
      "Total Params: 3840453\n",
      "Epoch 1/20\n",
      "133/133 [==============================] - ETA: 0s - loss: 1.3863 - categorical_accuracy: 0.4035\n",
      "Epoch 00001: saving model to /content/drive/MyDrive/Gesture/Checkpoints/model_init_2021-12-2806_28_58.011311/model-00001-1.38629-0.40347-1.00227-0.59000.h5\n",
      "133/133 [==============================] - 53s 370ms/step - loss: 1.3863 - categorical_accuracy: 0.4035 - val_loss: 1.0023 - val_categorical_accuracy: 0.5900 - lr: 0.0010\n",
      "Epoch 2/20\n",
      "133/133 [==============================] - ETA: 0s - loss: 0.9290 - categorical_accuracy: 0.6342\n",
      "Epoch 00002: saving model to /content/drive/MyDrive/Gesture/Checkpoints/model_init_2021-12-2806_28_58.011311/model-00002-0.92897-0.63424-0.79939-0.67000.h5\n",
      "133/133 [==============================] - 48s 366ms/step - loss: 0.9290 - categorical_accuracy: 0.6342 - val_loss: 0.7994 - val_categorical_accuracy: 0.6700 - lr: 0.0010\n",
      "Epoch 3/20\n",
      "133/133 [==============================] - ETA: 0s - loss: 0.7398 - categorical_accuracy: 0.7247\n",
      "Epoch 00003: saving model to /content/drive/MyDrive/Gesture/Checkpoints/model_init_2021-12-2806_28_58.011311/model-00003-0.73980-0.72474-0.80749-0.69000.h5\n",
      "133/133 [==============================] - 48s 367ms/step - loss: 0.7398 - categorical_accuracy: 0.7247 - val_loss: 0.8075 - val_categorical_accuracy: 0.6900 - lr: 0.0010\n",
      "Epoch 4/20\n",
      "133/133 [==============================] - ETA: 0s - loss: 0.5031 - categorical_accuracy: 0.8137\n",
      "Epoch 00004: saving model to /content/drive/MyDrive/Gesture/Checkpoints/model_init_2021-12-2806_28_58.011311/model-00004-0.50313-0.81373-0.93339-0.69000.h5\n",
      "133/133 [==============================] - 49s 368ms/step - loss: 0.5031 - categorical_accuracy: 0.8137 - val_loss: 0.9334 - val_categorical_accuracy: 0.6900 - lr: 0.0010\n",
      "Epoch 5/20\n",
      "133/133 [==============================] - ETA: 0s - loss: 0.4209 - categorical_accuracy: 0.8492\n",
      "Epoch 00005: saving model to /content/drive/MyDrive/Gesture/Checkpoints/model_init_2021-12-2806_28_58.011311/model-00005-0.42087-0.84917-0.68347-0.79000.h5\n",
      "133/133 [==============================] - 48s 364ms/step - loss: 0.4209 - categorical_accuracy: 0.8492 - val_loss: 0.6835 - val_categorical_accuracy: 0.7900 - lr: 0.0010\n",
      "Epoch 6/20\n",
      "133/133 [==============================] - ETA: 0s - loss: 0.3297 - categorical_accuracy: 0.8884\n",
      "Epoch 00006: saving model to /content/drive/MyDrive/Gesture/Checkpoints/model_init_2021-12-2806_28_58.011311/model-00006-0.32970-0.88839-0.73544-0.75000.h5\n",
      "133/133 [==============================] - 48s 366ms/step - loss: 0.3297 - categorical_accuracy: 0.8884 - val_loss: 0.7354 - val_categorical_accuracy: 0.7500 - lr: 0.0010\n",
      "Epoch 7/20\n",
      "133/133 [==============================] - ETA: 0s - loss: 0.2727 - categorical_accuracy: 0.9072\n",
      "Epoch 00007: saving model to /content/drive/MyDrive/Gesture/Checkpoints/model_init_2021-12-2806_28_58.011311/model-00007-0.27265-0.90724-0.87014-0.71000.h5\n",
      "133/133 [==============================] - 49s 368ms/step - loss: 0.2727 - categorical_accuracy: 0.9072 - val_loss: 0.8701 - val_categorical_accuracy: 0.7100 - lr: 0.0010\n",
      "Epoch 8/20\n",
      "133/133 [==============================] - ETA: 0s - loss: 0.2268 - categorical_accuracy: 0.9246\n",
      "Epoch 00008: saving model to /content/drive/MyDrive/Gesture/Checkpoints/model_init_2021-12-2806_28_58.011311/model-00008-0.22678-0.92459-0.68811-0.71000.h5\n",
      "133/133 [==============================] - 48s 365ms/step - loss: 0.2268 - categorical_accuracy: 0.9246 - val_loss: 0.6881 - val_categorical_accuracy: 0.7100 - lr: 0.0010\n",
      "Epoch 9/20\n",
      "133/133 [==============================] - ETA: 0s - loss: 0.2109 - categorical_accuracy: 0.9208\n",
      "Epoch 00009: saving model to /content/drive/MyDrive/Gesture/Checkpoints/model_init_2021-12-2806_28_58.011311/model-00009-0.21087-0.92081-0.84555-0.73000.h5\n",
      "\n",
      "Epoch 00009: ReduceLROnPlateau reducing learning rate to 0.00020000000949949026.\n",
      "133/133 [==============================] - 48s 362ms/step - loss: 0.2109 - categorical_accuracy: 0.9208 - val_loss: 0.8455 - val_categorical_accuracy: 0.7300 - lr: 0.0010\n",
      "Epoch 10/20\n",
      "133/133 [==============================] - ETA: 0s - loss: 0.1262 - categorical_accuracy: 0.9600\n",
      "Epoch 00010: saving model to /content/drive/MyDrive/Gesture/Checkpoints/model_init_2021-12-2806_28_58.011311/model-00010-0.12625-0.96003-0.79515-0.70000.h5\n",
      "133/133 [==============================] - 49s 369ms/step - loss: 0.1262 - categorical_accuracy: 0.9600 - val_loss: 0.7952 - val_categorical_accuracy: 0.7000 - lr: 2.0000e-04\n",
      "Epoch 11/20\n",
      "133/133 [==============================] - ETA: 0s - loss: 0.1056 - categorical_accuracy: 0.9706\n",
      "Epoch 00011: saving model to /content/drive/MyDrive/Gesture/Checkpoints/model_init_2021-12-2806_28_58.011311/model-00011-0.10558-0.97059-0.87637-0.71000.h5\n",
      "133/133 [==============================] - 49s 370ms/step - loss: 0.1056 - categorical_accuracy: 0.9706 - val_loss: 0.8764 - val_categorical_accuracy: 0.7100 - lr: 2.0000e-04\n",
      "Epoch 12/20\n",
      "133/133 [==============================] - ETA: 0s - loss: 0.0938 - categorical_accuracy: 0.9691\n",
      "Epoch 00012: saving model to /content/drive/MyDrive/Gesture/Checkpoints/model_init_2021-12-2806_28_58.011311/model-00012-0.09384-0.96908-0.69022-0.79000.h5\n",
      "133/133 [==============================] - 49s 367ms/step - loss: 0.0938 - categorical_accuracy: 0.9691 - val_loss: 0.6902 - val_categorical_accuracy: 0.7900 - lr: 2.0000e-04\n",
      "Epoch 13/20\n",
      "133/133 [==============================] - ETA: 0s - loss: 0.0819 - categorical_accuracy: 0.9706\n",
      "Epoch 00013: saving model to /content/drive/MyDrive/Gesture/Checkpoints/model_init_2021-12-2806_28_58.011311/model-00013-0.08194-0.97059-0.77019-0.74000.h5\n",
      "\n",
      "Epoch 00013: ReduceLROnPlateau reducing learning rate to 4.0000001899898055e-05.\n",
      "133/133 [==============================] - 48s 366ms/step - loss: 0.0819 - categorical_accuracy: 0.9706 - val_loss: 0.7702 - val_categorical_accuracy: 0.7400 - lr: 2.0000e-04\n",
      "Epoch 14/20\n",
      "133/133 [==============================] - ETA: 0s - loss: 0.0742 - categorical_accuracy: 0.9774\n",
      "Epoch 00014: saving model to /content/drive/MyDrive/Gesture/Checkpoints/model_init_2021-12-2806_28_58.011311/model-00014-0.07419-0.97738-0.95122-0.71000.h5\n",
      "133/133 [==============================] - 48s 362ms/step - loss: 0.0742 - categorical_accuracy: 0.9774 - val_loss: 0.9512 - val_categorical_accuracy: 0.7100 - lr: 4.0000e-05\n",
      "Epoch 15/20\n",
      "133/133 [==============================] - ETA: 0s - loss: 0.0576 - categorical_accuracy: 0.9766\n",
      "Epoch 00015: saving model to /content/drive/MyDrive/Gesture/Checkpoints/model_init_2021-12-2806_28_58.011311/model-00015-0.05759-0.97662-0.89101-0.71000.h5\n",
      "133/133 [==============================] - 48s 364ms/step - loss: 0.0576 - categorical_accuracy: 0.9766 - val_loss: 0.8910 - val_categorical_accuracy: 0.7100 - lr: 4.0000e-05\n",
      "Epoch 16/20\n",
      "133/133 [==============================] - ETA: 0s - loss: 0.0801 - categorical_accuracy: 0.9744\n",
      "Epoch 00016: saving model to /content/drive/MyDrive/Gesture/Checkpoints/model_init_2021-12-2806_28_58.011311/model-00016-0.08009-0.97436-0.76077-0.76000.h5\n",
      "133/133 [==============================] - 48s 364ms/step - loss: 0.0801 - categorical_accuracy: 0.9744 - val_loss: 0.7608 - val_categorical_accuracy: 0.7600 - lr: 4.0000e-05\n",
      "Epoch 17/20\n",
      "133/133 [==============================] - ETA: 0s - loss: 0.0643 - categorical_accuracy: 0.9827\n",
      "Epoch 00017: saving model to /content/drive/MyDrive/Gesture/Checkpoints/model_init_2021-12-2806_28_58.011311/model-00017-0.06430-0.98265-0.76655-0.75000.h5\n",
      "\n",
      "Epoch 00017: ReduceLROnPlateau reducing learning rate to 8.000000525498762e-06.\n",
      "133/133 [==============================] - 48s 363ms/step - loss: 0.0643 - categorical_accuracy: 0.9827 - val_loss: 0.7665 - val_categorical_accuracy: 0.7500 - lr: 4.0000e-05\n",
      "Epoch 18/20\n",
      "133/133 [==============================] - ETA: 0s - loss: 0.0638 - categorical_accuracy: 0.9827\n",
      "Epoch 00018: saving model to /content/drive/MyDrive/Gesture/Checkpoints/model_init_2021-12-2806_28_58.011311/model-00018-0.06377-0.98265-0.91685-0.71000.h5\n",
      "133/133 [==============================] - 49s 367ms/step - loss: 0.0638 - categorical_accuracy: 0.9827 - val_loss: 0.9168 - val_categorical_accuracy: 0.7100 - lr: 8.0000e-06\n",
      "Epoch 19/20\n",
      "133/133 [==============================] - ETA: 0s - loss: 0.0660 - categorical_accuracy: 0.9774\n",
      "Epoch 00019: saving model to /content/drive/MyDrive/Gesture/Checkpoints/model_init_2021-12-2806_28_58.011311/model-00019-0.06598-0.97738-0.75644-0.75000.h5\n",
      "133/133 [==============================] - 49s 368ms/step - loss: 0.0660 - categorical_accuracy: 0.9774 - val_loss: 0.7564 - val_categorical_accuracy: 0.7500 - lr: 8.0000e-06\n",
      "Epoch 20/20\n",
      "133/133 [==============================] - ETA: 0s - loss: 0.0503 - categorical_accuracy: 0.9910\n",
      "Epoch 00020: saving model to /content/drive/MyDrive/Gesture/Checkpoints/model_init_2021-12-2806_28_58.011311/model-00020-0.05031-0.99095-0.86461-0.72000.h5\n",
      "133/133 [==============================] - 49s 372ms/step - loss: 0.0503 - categorical_accuracy: 0.9910 - val_loss: 0.8646 - val_categorical_accuracy: 0.7200 - lr: 8.0000e-06\n"
     ]
    }
   ],
   "source": [
    "print(\"Total Params:\", rnn_cnn_tl_model.count_params())\n",
    "history_model18=rnn_cnn_tl.train_model(rnn_cnn_tl_model,augment_data=True)"
   ]
  },
  {
   "cell_type": "code",
   "execution_count": null,
   "metadata": {
    "colab": {
     "base_uri": "https://localhost:8080/",
     "height": 265
    },
    "executionInfo": {
     "elapsed": 118,
     "status": "ok",
     "timestamp": 1640673911898,
     "user": {
      "displayName": "Mehul Kumawat",
      "photoUrl": "https://lh3.googleusercontent.com/a/default-user=s64",
      "userId": "14358707599276366243"
     },
     "user_tz": -330
    },
    "id": "exVJdNoDBzac",
    "outputId": "88dbdcaa-dc01-4858-c555-5bfec915d52b"
   },
   "outputs": [
    {
     "data": {
      "image/png": "[encoded data removed]",
      "text/plain": [
       "<Figure size 1080x288 with 2 Axes>"
      ]
     },
     "metadata": {
      "needs_background": "light"
     },
     "output_type": "display_data"
    }
   ],
   "source": [
    "plot(history_model18)"
   ]
  },
  {
   "cell_type": "markdown",
   "metadata": {
    "collapsed": true,
    "id": "MaNhnxGfBzac"
   },
   "source": [
    "##### We are not training the mobilenet weights and we see validation accuracy is very poor. Let's train them as well and observe if there is performance improvement"
   ]
  },
  {
   "cell_type": "markdown",
   "metadata": {
    "id": "pqtJq3dOBzac"
   },
   "source": [
    "# Model 12 - Transfer Learning with GRU and training all weights"
   ]
  },
  {
   "cell_type": "code",
   "execution_count": null,
   "metadata": {
    "colab": {
     "base_uri": "https://localhost:8080/"
    },
    "executionInfo": {
     "elapsed": 749,
     "status": "ok",
     "timestamp": 1640673912562,
     "user": {
      "displayName": "Mehul Kumawat",
      "photoUrl": "https://lh3.googleusercontent.com/a/default-user=s64",
      "userId": "14358707599276366243"
     },
     "user_tz": -330
    },
    "id": "fYXYLERdBzad",
    "outputId": "ef0cbedc-1f03-4a0b-a500-8388f4d0960f"
   },
   "outputs": [
    {
     "name": "stdout",
     "output_type": "stream",
     "text": [
      "WARNING:tensorflow:`input_shape` is undefined or non-square, or `rows` is not in [128, 160, 192, 224]. Weights for input shape (224, 224) will be loaded as the default.\n"
     ]
    }
   ],
   "source": [
    "from keras.applications import mobilenet\n",
    "\n",
    "mobilenet_transfer = mobilenet.MobileNet(weights='imagenet', include_top=False)\n",
    "\n",
    "class RNNCNN_TL2(ModelBuilder):\n",
    "    \n",
    "    def define_model(self,gru_cells=64,dense_neurons=64,dropout=0.25):\n",
    "        \n",
    "        model = Sequential()\n",
    "        model.add(TimeDistributed(mobilenet_transfer,input_shape=(self.frames_to_sample,self.image_height,self.image_width,self.channels)))\n",
    " \n",
    "        \n",
    "        model.add(TimeDistributed(BatchNormalization()))\n",
    "        model.add(TimeDistributed(MaxPooling2D((2, 2))))\n",
    "        model.add(TimeDistributed(Flatten()))\n",
    "\n",
    "        model.add(GRU(gru_cells))\n",
    "        model.add(Dropout(dropout))\n",
    "        \n",
    "        model.add(Dense(dense_neurons,activation='relu'))\n",
    "        model.add(Dropout(dropout))\n",
    "        \n",
    "        model.add(Dense(self.num_classes, activation='softmax'))\n",
    "        \n",
    "        \n",
    "        optimiser = tf.keras.optimizers.Adam()\n",
    "        model.compile(optimizer=optimiser, loss='categorical_crossentropy', metrics=['categorical_accuracy'])\n",
    "        return model"
   ]
  },
  {
   "cell_type": "code",
   "execution_count": null,
   "metadata": {
    "colab": {
     "base_uri": "https://localhost:8080/"
    },
    "executionInfo": {
     "elapsed": 20,
     "status": "ok",
     "timestamp": 1640673912563,
     "user": {
      "displayName": "Mehul Kumawat",
      "photoUrl": "https://lh3.googleusercontent.com/a/default-user=s64",
      "userId": "14358707599276366243"
     },
     "user_tz": -330
    },
    "id": "ymwglJApBzad",
    "outputId": "3c40b43d-933b-40d8-c343-76519df4410c"
   },
   "outputs": [
    {
     "name": "stdout",
     "output_type": "stream",
     "text": [
      "Model: \"sequential_7\"\n",
      "_________________________________________________________________\n",
      " Layer (type)                Output Shape              Param #   \n",
      "=================================================================\n",
      " time_distributed_46 (TimeDi  (None, 16, 3, 3, 1024)   3228864   \n",
      " stributed)                                                      \n",
      "                                                                 \n",
      " time_distributed_47 (TimeDi  (None, 16, 3, 3, 1024)   4096      \n",
      " stributed)                                                      \n",
      "                                                                 \n",
      " time_distributed_48 (TimeDi  (None, 16, 1, 1, 1024)   0         \n",
      " stributed)                                                      \n",
      "                                                                 \n",
      " time_distributed_49 (TimeDi  (None, 16, 1024)         0         \n",
      " stributed)                                                      \n",
      "                                                                 \n",
      " gru_1 (GRU)                 (None, 128)               443136    \n",
      "                                                                 \n",
      " dropout_12 (Dropout)        (None, 128)               0         \n",
      "                                                                 \n",
      " dense_15 (Dense)            (None, 128)               16512     \n",
      "                                                                 \n",
      " dropout_13 (Dropout)        (None, 128)               0         \n",
      "                                                                 \n",
      " dense_16 (Dense)            (None, 5)                 645       \n",
      "                                                                 \n",
      "=================================================================\n",
      "Total params: 3,693,253\n",
      "Trainable params: 3,669,317\n",
      "Non-trainable params: 23,936\n",
      "_________________________________________________________________\n"
     ]
    }
   ],
   "source": [
    "rnn_cnn_tl2=RNNCNN_TL2()\n",
    "rnn_cnn_tl2.initialize_path(project_folder)\n",
    "rnn_cnn_tl2.initialize_image_properties(image_height=120,image_width=120)\n",
    "rnn_cnn_tl2.initialize_hyperparams(frames_to_sample=16,batch_size=5,num_epochs=20)\n",
    "rnn_cnn_tl2_model=rnn_cnn_tl2.define_model(gru_cells=128,dense_neurons=128,dropout=0.25)\n",
    "rnn_cnn_tl2_model.summary()"
   ]
  },
  {
   "cell_type": "code",
   "execution_count": null,
   "metadata": {
    "colab": {
     "base_uri": "https://localhost:8080/"
    },
    "executionInfo": {
     "elapsed": 989823,
     "status": "ok",
     "timestamp": 1640674902371,
     "user": {
      "displayName": "Mehul Kumawat",
      "photoUrl": "https://lh3.googleusercontent.com/a/default-user=s64",
      "userId": "14358707599276366243"
     },
     "user_tz": -330
    },
    "id": "OHMtGljjBzad",
    "outputId": "fee07ef6-524b-401c-f880-2f3224270cef"
   },
   "outputs": [
    {
     "name": "stdout",
     "output_type": "stream",
     "text": [
      "Total Params: 3693253\n",
      "Epoch 1/20\n",
      "133/133 [==============================] - ETA: 0s - loss: 1.1913 - categorical_accuracy: 0.4955\n",
      "Epoch 00001: saving model to /content/drive/MyDrive/Gesture/Checkpoints/model_init_2021-12-2806_45_12.345146/model-00001-1.19129-0.49548-0.58293-0.77000.h5\n",
      "133/133 [==============================] - 54s 375ms/step - loss: 1.1913 - categorical_accuracy: 0.4955 - val_loss: 0.5829 - val_categorical_accuracy: 0.7700 - lr: 0.0010\n",
      "Epoch 2/20\n",
      "133/133 [==============================] - ETA: 0s - loss: 0.7126 - categorical_accuracy: 0.7225\n",
      "Epoch 00002: saving model to /content/drive/MyDrive/Gesture/Checkpoints/model_init_2021-12-2806_45_12.345146/model-00002-0.71256-0.72247-0.45381-0.80000.h5\n",
      "133/133 [==============================] - 49s 372ms/step - loss: 0.7126 - categorical_accuracy: 0.7225 - val_loss: 0.4538 - val_categorical_accuracy: 0.8000 - lr: 0.0010\n",
      "Epoch 3/20\n",
      "133/133 [==============================] - ETA: 0s - loss: 0.4528 - categorical_accuracy: 0.8190\n",
      "Epoch 00003: saving model to /content/drive/MyDrive/Gesture/Checkpoints/model_init_2021-12-2806_45_12.345146/model-00003-0.45281-0.81900-0.37777-0.81000.h5\n",
      "133/133 [==============================] - 50s 376ms/step - loss: 0.4528 - categorical_accuracy: 0.8190 - val_loss: 0.3778 - val_categorical_accuracy: 0.8100 - lr: 0.0010\n",
      "Epoch 4/20\n",
      "133/133 [==============================] - ETA: 0s - loss: 0.4327 - categorical_accuracy: 0.8514\n",
      "Epoch 00004: saving model to /content/drive/MyDrive/Gesture/Checkpoints/model_init_2021-12-2806_45_12.345146/model-00004-0.43265-0.85143-0.28032-0.91000.h5\n",
      "133/133 [==============================] - 49s 372ms/step - loss: 0.4327 - categorical_accuracy: 0.8514 - val_loss: 0.2803 - val_categorical_accuracy: 0.9100 - lr: 0.0010\n",
      "Epoch 5/20\n",
      "133/133 [==============================] - ETA: 0s - loss: 0.3506 - categorical_accuracy: 0.8824\n",
      "Epoch 00005: saving model to /content/drive/MyDrive/Gesture/Checkpoints/model_init_2021-12-2806_45_12.345146/model-00005-0.35057-0.88235-0.53134-0.76000.h5\n",
      "133/133 [==============================] - 50s 374ms/step - loss: 0.3506 - categorical_accuracy: 0.8824 - val_loss: 0.5313 - val_categorical_accuracy: 0.7600 - lr: 0.0010\n",
      "Epoch 6/20\n",
      "133/133 [==============================] - ETA: 0s - loss: 0.3605 - categorical_accuracy: 0.8665\n",
      "Epoch 00006: saving model to /content/drive/MyDrive/Gesture/Checkpoints/model_init_2021-12-2806_45_12.345146/model-00006-0.36053-0.86652-0.76643-0.69000.h5\n",
      "133/133 [==============================] - 50s 374ms/step - loss: 0.3605 - categorical_accuracy: 0.8665 - val_loss: 0.7664 - val_categorical_accuracy: 0.6900 - lr: 0.0010\n",
      "Epoch 7/20\n",
      "133/133 [==============================] - ETA: 0s - loss: 0.3647 - categorical_accuracy: 0.8771\n",
      "Epoch 00007: saving model to /content/drive/MyDrive/Gesture/Checkpoints/model_init_2021-12-2806_45_12.345146/model-00007-0.36470-0.87707-0.22539-0.89000.h5\n",
      "133/133 [==============================] - 49s 372ms/step - loss: 0.3647 - categorical_accuracy: 0.8771 - val_loss: 0.2254 - val_categorical_accuracy: 0.8900 - lr: 0.0010\n",
      "Epoch 8/20\n",
      "133/133 [==============================] - ETA: 0s - loss: 0.2131 - categorical_accuracy: 0.9291\n",
      "Epoch 00008: saving model to /content/drive/MyDrive/Gesture/Checkpoints/model_init_2021-12-2806_45_12.345146/model-00008-0.21310-0.92911-0.19639-0.94000.h5\n",
      "133/133 [==============================] - 49s 369ms/step - loss: 0.2131 - categorical_accuracy: 0.9291 - val_loss: 0.1964 - val_categorical_accuracy: 0.9400 - lr: 0.0010\n",
      "Epoch 9/20\n",
      "133/133 [==============================] - ETA: 0s - loss: 0.1908 - categorical_accuracy: 0.9284\n",
      "Epoch 00009: saving model to /content/drive/MyDrive/Gesture/Checkpoints/model_init_2021-12-2806_45_12.345146/model-00009-0.19078-0.92836-0.39939-0.87000.h5\n",
      "133/133 [==============================] - 49s 370ms/step - loss: 0.1908 - categorical_accuracy: 0.9284 - val_loss: 0.3994 - val_categorical_accuracy: 0.8700 - lr: 0.0010\n",
      "Epoch 10/20\n",
      "133/133 [==============================] - ETA: 0s - loss: 0.2814 - categorical_accuracy: 0.9118\n",
      "Epoch 00010: saving model to /content/drive/MyDrive/Gesture/Checkpoints/model_init_2021-12-2806_45_12.345146/model-00010-0.28140-0.91176-0.40702-0.86000.h5\n",
      "133/133 [==============================] - 49s 368ms/step - loss: 0.2814 - categorical_accuracy: 0.9118 - val_loss: 0.4070 - val_categorical_accuracy: 0.8600 - lr: 0.0010\n",
      "Epoch 11/20\n",
      "133/133 [==============================] - ETA: 0s - loss: 0.1963 - categorical_accuracy: 0.9321\n",
      "Epoch 00011: saving model to /content/drive/MyDrive/Gesture/Checkpoints/model_init_2021-12-2806_45_12.345146/model-00011-0.19630-0.93213-0.33043-0.86000.h5\n",
      "133/133 [==============================] - 49s 371ms/step - loss: 0.1963 - categorical_accuracy: 0.9321 - val_loss: 0.3304 - val_categorical_accuracy: 0.8600 - lr: 0.0010\n",
      "Epoch 12/20\n",
      "133/133 [==============================] - ETA: 0s - loss: 0.1678 - categorical_accuracy: 0.9457\n",
      "Epoch 00012: saving model to /content/drive/MyDrive/Gesture/Checkpoints/model_init_2021-12-2806_45_12.345146/model-00012-0.16779-0.94570-0.16180-0.95000.h5\n",
      "133/133 [==============================] - 49s 368ms/step - loss: 0.1678 - categorical_accuracy: 0.9457 - val_loss: 0.1618 - val_categorical_accuracy: 0.9500 - lr: 0.0010\n",
      "Epoch 13/20\n",
      "133/133 [==============================] - ETA: 0s - loss: 0.1430 - categorical_accuracy: 0.9585\n",
      "Epoch 00013: saving model to /content/drive/MyDrive/Gesture/Checkpoints/model_init_2021-12-2806_45_12.345146/model-00013-0.14302-0.95852-0.31939-0.88000.h5\n",
      "133/133 [==============================] - 49s 368ms/step - loss: 0.1430 - categorical_accuracy: 0.9585 - val_loss: 0.3194 - val_categorical_accuracy: 0.8800 - lr: 0.0010\n",
      "Epoch 14/20\n",
      "133/133 [==============================] - ETA: 0s - loss: 0.1465 - categorical_accuracy: 0.9525\n",
      "Epoch 00014: saving model to /content/drive/MyDrive/Gesture/Checkpoints/model_init_2021-12-2806_45_12.345146/model-00014-0.14654-0.95249-0.27463-0.85000.h5\n",
      "133/133 [==============================] - 49s 367ms/step - loss: 0.1465 - categorical_accuracy: 0.9525 - val_loss: 0.2746 - val_categorical_accuracy: 0.8500 - lr: 0.0010\n",
      "Epoch 15/20\n",
      "133/133 [==============================] - ETA: 0s - loss: 0.1461 - categorical_accuracy: 0.9548\n",
      "Epoch 00015: saving model to /content/drive/MyDrive/Gesture/Checkpoints/model_init_2021-12-2806_45_12.345146/model-00015-0.14605-0.95475-0.49205-0.88000.h5\n",
      "133/133 [==============================] - 50s 374ms/step - loss: 0.1461 - categorical_accuracy: 0.9548 - val_loss: 0.4921 - val_categorical_accuracy: 0.8800 - lr: 0.0010\n",
      "Epoch 16/20\n",
      "133/133 [==============================] - ETA: 0s - loss: 0.1896 - categorical_accuracy: 0.9359\n",
      "Epoch 00016: saving model to /content/drive/MyDrive/Gesture/Checkpoints/model_init_2021-12-2806_45_12.345146/model-00016-0.18959-0.93590-0.38475-0.84000.h5\n",
      "\n",
      "Epoch 00016: ReduceLROnPlateau reducing learning rate to 0.00020000000949949026.\n",
      "133/133 [==============================] - 49s 371ms/step - loss: 0.1896 - categorical_accuracy: 0.9359 - val_loss: 0.3848 - val_categorical_accuracy: 0.8400 - lr: 0.0010\n",
      "Epoch 17/20\n",
      "133/133 [==============================] - ETA: 0s - loss: 0.0957 - categorical_accuracy: 0.9668\n",
      "Epoch 00017: saving model to /content/drive/MyDrive/Gesture/Checkpoints/model_init_2021-12-2806_45_12.345146/model-00017-0.09567-0.96682-0.13324-0.93000.h5\n",
      "133/133 [==============================] - 49s 372ms/step - loss: 0.0957 - categorical_accuracy: 0.9668 - val_loss: 0.1332 - val_categorical_accuracy: 0.9300 - lr: 2.0000e-04\n",
      "Epoch 18/20\n",
      "133/133 [==============================] - ETA: 0s - loss: 0.0749 - categorical_accuracy: 0.9819\n",
      "Epoch 00018: saving model to /content/drive/MyDrive/Gesture/Checkpoints/model_init_2021-12-2806_45_12.345146/model-00018-0.07487-0.98190-0.10318-0.97000.h5\n",
      "133/133 [==============================] - 49s 368ms/step - loss: 0.0749 - categorical_accuracy: 0.9819 - val_loss: 0.1032 - val_categorical_accuracy: 0.9700 - lr: 2.0000e-04\n",
      "Epoch 19/20\n",
      "133/133 [==============================] - ETA: 0s - loss: 0.0485 - categorical_accuracy: 0.9849\n",
      "Epoch 00019: saving model to /content/drive/MyDrive/Gesture/Checkpoints/model_init_2021-12-2806_45_12.345146/model-00019-0.04845-0.98492-0.10946-0.97000.h5\n",
      "133/133 [==============================] - 49s 370ms/step - loss: 0.0485 - categorical_accuracy: 0.9849 - val_loss: 0.1095 - val_categorical_accuracy: 0.9700 - lr: 2.0000e-04\n",
      "Epoch 20/20\n",
      "133/133 [==============================] - ETA: 0s - loss: 0.0278 - categorical_accuracy: 0.9902\n",
      "Epoch 00020: saving model to /content/drive/MyDrive/Gesture/Checkpoints/model_init_2021-12-2806_45_12.345146/model-00020-0.02780-0.99020-0.11018-0.95000.h5\n",
      "133/133 [==============================] - 49s 366ms/step - loss: 0.0278 - categorical_accuracy: 0.9902 - val_loss: 0.1102 - val_categorical_accuracy: 0.9500 - lr: 2.0000e-04\n"
     ]
    }
   ],
   "source": [
    "print(\"Total Params:\", rnn_cnn_tl2_model.count_params())\n",
    "history_model19=rnn_cnn_tl2.train_model(rnn_cnn_tl2_model,augment_data=True)"
   ]
  },
  {
   "cell_type": "code",
   "execution_count": null,
   "metadata": {
    "colab": {
     "base_uri": "https://localhost:8080/",
     "height": 265
    },
    "executionInfo": {
     "elapsed": 69,
     "status": "ok",
     "timestamp": 1640674902373,
     "user": {
      "displayName": "Mehul Kumawat",
      "photoUrl": "https://lh3.googleusercontent.com/a/default-user=s64",
      "userId": "14358707599276366243"
     },
     "user_tz": -330
    },
    "id": "gtNFNDSCBzae",
    "outputId": "53f514f1-4584-4e4a-a83c-254348e213c9",
    "scrolled": true
   },
   "outputs": [
    {
     "data": {
      "image/png": "[encoded data removed]",
      "text/plain": [
       "<Figure size 1080x288 with 2 Axes>"
      ]
     },
     "metadata": {
      "needs_background": "light"
     },
     "output_type": "display_data"
    }
   ],
   "source": [
    "plot(history_model19)"
   ]
  },
  {
   "cell_type": "markdown",
   "metadata": {
    "id": "1zU0rjxTBzae"
   },
   "source": [
    "#### Transfer Learning+GRU: When trained all the weights with transfer learning + GRU, we are getting the best validation score of 97%.\n"
   ]
  },
  {
   "cell_type": "markdown",
   "metadata": {
    "id": "hpGCRSvwBzae"
   },
   "source": [
    "### <font color='Green'>  Loading the best model and evaluating (Model:12 Transfer Learning+GRU with train accuracy:98% & Valadiation accuracy 97%) "
   ]
  },
  {
   "cell_type": "code",
   "execution_count": null,
   "metadata": {
    "id": "u9P2YG00Bzaf"
   },
   "outputs": [],
   "source": [
    "import time\n",
    "from keras.models import load_model\n",
    "model = load_model('/content/drive/MyDrive/Gesture/Checkpoints/model_init_2021-12-2806_45_12.345146/model-00018-0.07487-0.98190-0.10318-0.97000.h5')"
   ]
  },
  {
   "cell_type": "code",
   "execution_count": null,
   "metadata": {
    "id": "jbcDEXeq66kD"
   },
   "outputs": [],
   "source": [
    "test_generator=RNNCNN_TL2()\n",
    "test_generator.initialize_path(project_folder)\n",
    "test_generator.initialize_image_properties(image_height=120,image_width=120)\n",
    "test_generator.initialize_hyperparams(frames_to_sample=16,batch_size=100,num_epochs=20)"
   ]
  },
  {
   "cell_type": "code",
   "execution_count": null,
   "metadata": {
    "id": "N0bXnKLqBzaf"
   },
   "outputs": [],
   "source": [
    "g=test_generator.generator(test_generator.val_path,test_generator.val_doc)\n",
    "batch_data, batch_labels=next(g)"
   ]
  },
  {
   "cell_type": "code",
   "execution_count": null,
   "metadata": {
    "colab": {
     "base_uri": "https://localhost:8080/"
    },
    "executionInfo": {
     "elapsed": 1481,
     "status": "ok",
     "timestamp": 1640676758199,
     "user": {
      "displayName": "Mehul Kumawat",
      "photoUrl": "https://lh3.googleusercontent.com/a/default-user=s64",
      "userId": "14358707599276366243"
     },
     "user_tz": -330
    },
    "id": "dDGBFSR-Bzaf",
    "outputId": "78bdfa0d-ac4f-4bea-bd38-78729f0567c4"
   },
   "outputs": [
    {
     "name": "stdout",
     "output_type": "stream",
     "text": [
      "[2 3 2 2 0 1 0 2 1 1 3 4 3 3 2 1 0 3 0 2 4 0 3 2 0 3 0 1 1 3 1 0 3 4 3 2 1\n",
      " 0 2 0 0 1 2 4 0 3 0 0 1 4 1 2 1 3 3 4 0 1 3 0 1 1 2 0 4 4 0 4 0 1 4 0 1 3\n",
      " 3 0 1 2 2 3 4 2 2 4 0 3 4 2 2 4 3 2 1 2 1 3 3 1 2 4]\n"
     ]
    }
   ],
   "source": [
    "print(np.argmax(model.predict(batch_data[:,:,:,:,:]),axis=1))"
   ]
  },
  {
   "cell_type": "code",
   "execution_count": null,
   "metadata": {
    "colab": {
     "base_uri": "https://localhost:8080/"
    },
    "executionInfo": {
     "elapsed": 557,
     "status": "ok",
     "timestamp": 1640676761481,
     "user": {
      "displayName": "Mehul Kumawat",
      "photoUrl": "https://lh3.googleusercontent.com/a/default-user=s64",
      "userId": "14358707599276366243"
     },
     "user_tz": -330
    },
    "id": "u7g2HPR88Iu8",
    "outputId": "c4462993-edd5-45cb-e331-e34745d1dba3"
   },
   "outputs": [
    {
     "name": "stdout",
     "output_type": "stream",
     "text": [
      "[2 3 2 2 0 1 0 2 1 1 3 4 3 3 2 1 2 3 4 2 4 1 3 2 0 3 0 1 1 3 1 0 3 4 3 2 1\n",
      " 0 2 0 1 1 2 4 0 3 0 0 1 4 1 2 1 3 3 4 0 1 3 0 1 1 2 0 4 4 0 4 0 1 4 0 1 3\n",
      " 3 0 1 2 2 3 4 2 2 4 0 3 4 2 2 4 3 2 1 2 1 3 3 1 2 4]\n"
     ]
    }
   ],
   "source": [
    "print(np.argmax(batch_labels,axis=1))"
   ]
  },
  {
   "cell_type": "code",
   "execution_count": null,
   "metadata": {
    "id": "Xa3GuZ2j7fmx"
   },
   "outputs": [],
   "source": [
    "from sklearn.metrics import classification_report\n",
    "from sklearn.metrics import confusion_matrix"
   ]
  },
  {
   "cell_type": "markdown",
   "metadata": {},
   "source": [
    "#### Classfication report for the best model based on the experiments elaborated above"
   ]
  },
  {
   "cell_type": "code",
   "execution_count": null,
   "metadata": {
    "colab": {
     "base_uri": "https://localhost:8080/"
    },
    "executionInfo": {
     "elapsed": 1223,
     "status": "ok",
     "timestamp": 1640676768769,
     "user": {
      "displayName": "Mehul Kumawat",
      "photoUrl": "https://lh3.googleusercontent.com/a/default-user=s64",
      "userId": "14358707599276366243"
     },
     "user_tz": -330
    },
    "id": "oLfb1yuJ7vP2",
    "outputId": "ec56b069-a579-4843-d25c-d091e4bbed92"
   },
   "outputs": [
    {
     "name": "stdout",
     "output_type": "stream",
     "text": [
      "              precision    recall  f1-score   support\n",
      "\n",
      "           0       0.82      1.00      0.90        18\n",
      "           1       1.00      0.91      0.95        23\n",
      "           2       1.00      0.95      0.98        22\n",
      "           3       1.00      1.00      1.00        21\n",
      "           4       1.00      0.94      0.97        16\n",
      "\n",
      "    accuracy                           0.96       100\n",
      "   macro avg       0.96      0.96      0.96       100\n",
      "weighted avg       0.97      0.96      0.96       100\n",
      "\n"
     ]
    }
   ],
   "source": [
    "print(classification_report(np.argmax(batch_labels,axis=1), np.argmax(model.predict(batch_data[:,:,:,:,:]),axis=1)))"
   ]
  },
  {
   "cell_type": "markdown",
   "metadata": {},
   "source": [
    "#### Confusion matrix for the best model based on the experiments elaborated above"
   ]
  },
  {
   "cell_type": "code",
   "execution_count": null,
   "metadata": {
    "colab": {
     "base_uri": "https://localhost:8080/"
    },
    "executionInfo": {
     "elapsed": 1580,
     "status": "ok",
     "timestamp": 1640677050067,
     "user": {
      "displayName": "Mehul Kumawat",
      "photoUrl": "https://lh3.googleusercontent.com/a/default-user=s64",
      "userId": "14358707599276366243"
     },
     "user_tz": -330
    },
    "id": "kFAFsWT37kou",
    "outputId": "748ff82d-5924-43cc-e848-61e6d842a419"
   },
   "outputs": [
    {
     "name": "stdout",
     "output_type": "stream",
     "text": [
      "[[18  0  0  0  0]\n",
      " [ 2 21  0  0  0]\n",
      " [ 1  0 21  0  0]\n",
      " [ 0  0  0 21  0]\n",
      " [ 1  0  0  0 15]]\n"
     ]
    }
   ],
   "source": [
    "confusion_mat=confusion_matrix(np.argmax(batch_labels,axis=1), np.argmax(model.predict(batch_data[:,:,:,:,:]),axis=1))\n",
    "print(confusion_mat)"
   ]
  },
  {
   "cell_type": "code",
   "execution_count": null,
   "metadata": {
    "colab": {
     "base_uri": "https://localhost:8080/",
     "height": 282
    },
    "executionInfo": {
     "elapsed": 791,
     "status": "ok",
     "timestamp": 1640677311366,
     "user": {
      "displayName": "Mehul Kumawat",
      "photoUrl": "https://lh3.googleusercontent.com/a/default-user=s64",
      "userId": "14358707599276366243"
     },
     "user_tz": -330
    },
    "id": "W6UTs-Gj-Cs1",
    "outputId": "08fff85c-4178-4c72-fed2-830b71974f9e"
   },
   "outputs": [
    {
     "data": {
      "text/plain": [
       "<matplotlib.axes._subplots.AxesSubplot at 0x7efb5667d7d0>"
      ]
     },
     "execution_count": 91,
     "metadata": {},
     "output_type": "execute_result"
    },
    {
     "data": {
      "image/png": "[encoded data removed]",
      "text/plain": [
       "<Figure size 432x288 with 2 Axes>"
      ]
     },
     "metadata": {
      "needs_background": "light"
     },
     "output_type": "display_data"
    }
   ],
   "source": [
    "import seaborn as sns\n",
    "sns.heatmap(confusion_mat,cmap='coolwarm',annot=True)"
   ]
  },
  {
   "cell_type": "markdown",
   "metadata": {
    "id": "J_8J7il3_bFv"
   },
   "source": [
    "### `Thanks for the Assignment` "
   ]
  }
 ],
 "metadata": {
  "accelerator": "GPU",
  "colab": {
   "background_execution": "on",
   "collapsed_sections": [
    "QGwhmCmjBzaa"
   ],
   "machine_shape": "hm",
   "name": "Gesture_Recognition_Final.ipynb",
   "provenance": [],
   "toc_visible": true
  },
  "kernelspec": {
   "display_name": "Python 3",
   "language": "python",
   "name": "python3"
  },
  "language_info": {
   "codemirror_mode": {
    "name": "ipython",
    "version": 3
   },
   "file_extension": ".py",
   "mimetype": "text/x-python",
   "name": "python",
   "nbconvert_exporter": "python",
   "pygments_lexer": "ipython3",
   "version": "3.8.8"
  }
 },
 "nbformat": 4,
 "nbformat_minor": 1
}
